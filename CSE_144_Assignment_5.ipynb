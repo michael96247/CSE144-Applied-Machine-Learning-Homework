{
  "nbformat": 4,
  "nbformat_minor": 0,
  "metadata": {
    "colab": {
      "provenance": [],
      "collapsed_sections": [
        "NyiOu4LzgAur",
        "-ONEJCKBa384",
        "dc7BEuccYvit"
      ],
      "include_colab_link": true
    },
    "kernelspec": {
      "name": "python3",
      "display_name": "Python 3"
    },
    "language_info": {
      "name": "python"
    },
    "gpuClass": "premium",
    "accelerator": "GPU"
  },
  "cells": [
    {
      "cell_type": "markdown",
      "metadata": {
        "id": "view-in-github",
        "colab_type": "text"
      },
      "source": [
        "<a href=\"https://colab.research.google.com/github/michael96247/CSE144-Applied-Machine-Learning-Homework/blob/main/CSE_144_Assignment_5.ipynb\" target=\"_parent\"><img src=\"https://colab.research.google.com/assets/colab-badge.svg\" alt=\"Open In Colab\"/></a>"
      ]
    },
    {
      "cell_type": "code",
      "metadata": {
        "id": "2IlwhV0z2nMr"
      },
      "source": [
        "%matplotlib inline"
      ],
      "execution_count": 1,
      "outputs": []
    },
    {
      "cell_type": "markdown",
      "metadata": {
        "id": "Chprzdhe2nMw"
      },
      "source": [
        "# Assignment 5\n",
        "\n",
        "**DUE: Sunday December 4, 2022 11:59pm**\n",
        "\n",
        "Turn in the assignment via Canvas.\n",
        "\n",
        "To write legible answers you will need to be familiar with both [Markdown](https://github.com/adam-p/markdown-here/wiki/Markdown-Cheatsheet) and [Latex](https://www.latex-tutorial.com/tutorials/amsmath/)\n",
        "\n",
        "Before you turn this problem in, make sure everything runs as expected. First, restart the kernel (in the menubar, select Runtime→→Restart runtime) and then run all cells (in the menubar, select Runtime→→Run All).\n",
        "\n",
        "Make sure you fill in any place that says \"YOUR CODE HERE\" or \"YOUR ANSWER HERE\", as well as your name below:"
      ]
    },
    {
      "cell_type": "code",
      "metadata": {
        "id": "8jeWubXE2nMx"
      },
      "source": [
        "NAME = \"Michael Chen\"\n",
        "STUDENT_ID = \"1772059\""
      ],
      "execution_count": 2,
      "outputs": []
    },
    {
      "cell_type": "markdown",
      "metadata": {
        "id": "E-DjjESEyXnL"
      },
      "source": [
        "\n",
        "\n",
        "\n",
        "\n"
      ]
    },
    {
      "cell_type": "code",
      "metadata": {
        "id": "Bv1G7ixQvN8E"
      },
      "source": [
        "import numpy as np\n",
        "import pandas as pd\n",
        "import matplotlib.pyplot as plt\n",
        "import seaborn as sns\n",
        "\n",
        "import tensorflow as tf\n",
        "\n",
        "from sklearn.metrics import accuracy_score, precision_score, recall_score\n",
        "from sklearn.model_selection import train_test_split\n",
        "from tensorflow.keras import layers, losses\n",
        "from tensorflow.keras.models import Model"
      ],
      "execution_count": 3,
      "outputs": []
    },
    {
      "cell_type": "markdown",
      "metadata": {
        "id": "Y32nQiJbSAwC"
      },
      "source": [
        "## Question 1: Bitcoin Price Prediction\n",
        "---\n",
        "Bitcoin, amongst other assets like AMC and GME, has been all the rage this past two years and reached an all time high of \\$68,789.63 per bitcoin. Since reaching it's high, the price has dropped 75\\%. Analysts continue to feed the frenzy by releasing price predictions that range from from \\$500,000 to \\$9,000 per bitcoin in the next year. You will make an Recurrent Neural Network model to gain some insight into price prediction. Yahoo! Finance is a trusted name in free financial information and has been with us since the internet's early years. You'll be using data gathered obtained from https://finance.yahoo.com/quote/BTC-USD/history/ to train your recurrent neural network.\n",
        "\n",
        "Run the following code cell to download the training and test data. It might take a while to download the zip file and extract it.\n",
        "\n",
        "Link to the raw data: [link](https://drive.google.com/file/d/1GqHXiTMdWfNniUfF0B5TkKnvMSV1kI4b)"
      ]
    },
    {
      "cell_type": "code",
      "metadata": {
        "id": "iExiItBkdS8F"
      },
      "source": [
        "from pydrive.auth import GoogleAuth\n",
        "from pydrive.drive import GoogleDrive\n",
        "from google.colab import auth\n",
        "from oauth2client.client import GoogleCredentials\n",
        "import io\n",
        "import zipfile\n",
        "auth.authenticate_user()\n",
        "gauth = GoogleAuth()\n",
        "gauth.credentials = GoogleCredentials.get_application_default()\n",
        "drive = GoogleDrive(gauth)\n",
        "file_id = '1GqHXiTMdWfNniUfF0B5TkKnvMSV1kI4b'\n",
        "downloaded = drive.CreateFile({'id': file_id})\n",
        "downloaded.GetContentFile('BTC-USD.csv')\n"
      ],
      "execution_count": 4,
      "outputs": []
    },
    {
      "cell_type": "code",
      "metadata": {
        "id": "_ab-5H8XVOVi"
      },
      "source": [
        "# Create pandas dataframe\n",
        "data = pd.read_csv('BTC-USD.csv')"
      ],
      "execution_count": 5,
      "outputs": []
    },
    {
      "cell_type": "code",
      "metadata": {
        "id": "8W_KrGElWT0y",
        "colab": {
          "base_uri": "https://localhost:8080/",
          "height": 206
        },
        "outputId": "9d3342d7-e876-4682-aa7b-0cdd99e2bb6b"
      },
      "source": [
        "# Plot data.head()\n",
        "data.head()"
      ],
      "execution_count": 6,
      "outputs": [
        {
          "output_type": "execute_result",
          "data": {
            "text/plain": [
              "         Date        Open        High         Low       Close   Adj Close  \\\n",
              "0  2014-09-17  465.864014  468.174011  452.421997  457.334015  457.334015   \n",
              "1  2014-09-18  456.859985  456.859985  413.104004  424.440002  424.440002   \n",
              "2  2014-09-19  424.102997  427.834991  384.532013  394.795990  394.795990   \n",
              "3  2014-09-20  394.673004  423.295990  389.882996  408.903992  408.903992   \n",
              "4  2014-09-21  408.084991  412.425995  393.181000  398.821014  398.821014   \n",
              "\n",
              "       Volume  \n",
              "0  21056800.0  \n",
              "1  34483200.0  \n",
              "2  37919700.0  \n",
              "3  36863600.0  \n",
              "4  26580100.0  "
            ],
            "text/html": [
              "\n",
              "  <div id=\"df-cd507586-4f73-426d-bfa6-09d2ca2a0fb9\">\n",
              "    <div class=\"colab-df-container\">\n",
              "      <div>\n",
              "<style scoped>\n",
              "    .dataframe tbody tr th:only-of-type {\n",
              "        vertical-align: middle;\n",
              "    }\n",
              "\n",
              "    .dataframe tbody tr th {\n",
              "        vertical-align: top;\n",
              "    }\n",
              "\n",
              "    .dataframe thead th {\n",
              "        text-align: right;\n",
              "    }\n",
              "</style>\n",
              "<table border=\"1\" class=\"dataframe\">\n",
              "  <thead>\n",
              "    <tr style=\"text-align: right;\">\n",
              "      <th></th>\n",
              "      <th>Date</th>\n",
              "      <th>Open</th>\n",
              "      <th>High</th>\n",
              "      <th>Low</th>\n",
              "      <th>Close</th>\n",
              "      <th>Adj Close</th>\n",
              "      <th>Volume</th>\n",
              "    </tr>\n",
              "  </thead>\n",
              "  <tbody>\n",
              "    <tr>\n",
              "      <th>0</th>\n",
              "      <td>2014-09-17</td>\n",
              "      <td>465.864014</td>\n",
              "      <td>468.174011</td>\n",
              "      <td>452.421997</td>\n",
              "      <td>457.334015</td>\n",
              "      <td>457.334015</td>\n",
              "      <td>21056800.0</td>\n",
              "    </tr>\n",
              "    <tr>\n",
              "      <th>1</th>\n",
              "      <td>2014-09-18</td>\n",
              "      <td>456.859985</td>\n",
              "      <td>456.859985</td>\n",
              "      <td>413.104004</td>\n",
              "      <td>424.440002</td>\n",
              "      <td>424.440002</td>\n",
              "      <td>34483200.0</td>\n",
              "    </tr>\n",
              "    <tr>\n",
              "      <th>2</th>\n",
              "      <td>2014-09-19</td>\n",
              "      <td>424.102997</td>\n",
              "      <td>427.834991</td>\n",
              "      <td>384.532013</td>\n",
              "      <td>394.795990</td>\n",
              "      <td>394.795990</td>\n",
              "      <td>37919700.0</td>\n",
              "    </tr>\n",
              "    <tr>\n",
              "      <th>3</th>\n",
              "      <td>2014-09-20</td>\n",
              "      <td>394.673004</td>\n",
              "      <td>423.295990</td>\n",
              "      <td>389.882996</td>\n",
              "      <td>408.903992</td>\n",
              "      <td>408.903992</td>\n",
              "      <td>36863600.0</td>\n",
              "    </tr>\n",
              "    <tr>\n",
              "      <th>4</th>\n",
              "      <td>2014-09-21</td>\n",
              "      <td>408.084991</td>\n",
              "      <td>412.425995</td>\n",
              "      <td>393.181000</td>\n",
              "      <td>398.821014</td>\n",
              "      <td>398.821014</td>\n",
              "      <td>26580100.0</td>\n",
              "    </tr>\n",
              "  </tbody>\n",
              "</table>\n",
              "</div>\n",
              "      <button class=\"colab-df-convert\" onclick=\"convertToInteractive('df-cd507586-4f73-426d-bfa6-09d2ca2a0fb9')\"\n",
              "              title=\"Convert this dataframe to an interactive table.\"\n",
              "              style=\"display:none;\">\n",
              "        \n",
              "  <svg xmlns=\"http://www.w3.org/2000/svg\" height=\"24px\"viewBox=\"0 0 24 24\"\n",
              "       width=\"24px\">\n",
              "    <path d=\"M0 0h24v24H0V0z\" fill=\"none\"/>\n",
              "    <path d=\"M18.56 5.44l.94 2.06.94-2.06 2.06-.94-2.06-.94-.94-2.06-.94 2.06-2.06.94zm-11 1L8.5 8.5l.94-2.06 2.06-.94-2.06-.94L8.5 2.5l-.94 2.06-2.06.94zm10 10l.94 2.06.94-2.06 2.06-.94-2.06-.94-.94-2.06-.94 2.06-2.06.94z\"/><path d=\"M17.41 7.96l-1.37-1.37c-.4-.4-.92-.59-1.43-.59-.52 0-1.04.2-1.43.59L10.3 9.45l-7.72 7.72c-.78.78-.78 2.05 0 2.83L4 21.41c.39.39.9.59 1.41.59.51 0 1.02-.2 1.41-.59l7.78-7.78 2.81-2.81c.8-.78.8-2.07 0-2.86zM5.41 20L4 18.59l7.72-7.72 1.47 1.35L5.41 20z\"/>\n",
              "  </svg>\n",
              "      </button>\n",
              "      \n",
              "  <style>\n",
              "    .colab-df-container {\n",
              "      display:flex;\n",
              "      flex-wrap:wrap;\n",
              "      gap: 12px;\n",
              "    }\n",
              "\n",
              "    .colab-df-convert {\n",
              "      background-color: #E8F0FE;\n",
              "      border: none;\n",
              "      border-radius: 50%;\n",
              "      cursor: pointer;\n",
              "      display: none;\n",
              "      fill: #1967D2;\n",
              "      height: 32px;\n",
              "      padding: 0 0 0 0;\n",
              "      width: 32px;\n",
              "    }\n",
              "\n",
              "    .colab-df-convert:hover {\n",
              "      background-color: #E2EBFA;\n",
              "      box-shadow: 0px 1px 2px rgba(60, 64, 67, 0.3), 0px 1px 3px 1px rgba(60, 64, 67, 0.15);\n",
              "      fill: #174EA6;\n",
              "    }\n",
              "\n",
              "    [theme=dark] .colab-df-convert {\n",
              "      background-color: #3B4455;\n",
              "      fill: #D2E3FC;\n",
              "    }\n",
              "\n",
              "    [theme=dark] .colab-df-convert:hover {\n",
              "      background-color: #434B5C;\n",
              "      box-shadow: 0px 1px 3px 1px rgba(0, 0, 0, 0.15);\n",
              "      filter: drop-shadow(0px 1px 2px rgba(0, 0, 0, 0.3));\n",
              "      fill: #FFFFFF;\n",
              "    }\n",
              "  </style>\n",
              "\n",
              "      <script>\n",
              "        const buttonEl =\n",
              "          document.querySelector('#df-cd507586-4f73-426d-bfa6-09d2ca2a0fb9 button.colab-df-convert');\n",
              "        buttonEl.style.display =\n",
              "          google.colab.kernel.accessAllowed ? 'block' : 'none';\n",
              "\n",
              "        async function convertToInteractive(key) {\n",
              "          const element = document.querySelector('#df-cd507586-4f73-426d-bfa6-09d2ca2a0fb9');\n",
              "          const dataTable =\n",
              "            await google.colab.kernel.invokeFunction('convertToInteractive',\n",
              "                                                     [key], {});\n",
              "          if (!dataTable) return;\n",
              "\n",
              "          const docLinkHtml = 'Like what you see? Visit the ' +\n",
              "            '<a target=\"_blank\" href=https://colab.research.google.com/notebooks/data_table.ipynb>data table notebook</a>'\n",
              "            + ' to learn more about interactive tables.';\n",
              "          element.innerHTML = '';\n",
              "          dataTable['output_type'] = 'display_data';\n",
              "          await google.colab.output.renderOutput(dataTable, element);\n",
              "          const docLink = document.createElement('div');\n",
              "          docLink.innerHTML = docLinkHtml;\n",
              "          element.appendChild(docLink);\n",
              "        }\n",
              "      </script>\n",
              "    </div>\n",
              "  </div>\n",
              "  "
            ]
          },
          "metadata": {},
          "execution_count": 6
        }
      ]
    },
    {
      "cell_type": "markdown",
      "metadata": {
        "id": "x0UzN1BASfgD"
      },
      "source": [
        "Let's plot the bitcoin price. First, we will make a plot of bitcoin price vs the days after September 15, 2014, the start date of this dataset. Day \"0\" indicates September 15, 2014."
      ]
    },
    {
      "cell_type": "code",
      "metadata": {
        "id": "UjcXKOtg6jb5",
        "colab": {
          "base_uri": "https://localhost:8080/",
          "height": 265
        },
        "outputId": "c0d06100-075e-4a1e-9897-0c3421444b52"
      },
      "source": [
        "import matplotlib.pyplot as plt\n",
        "import seaborn as sns # Used for plotting\n",
        "\n",
        "g = sns.lineplot(x = np.linspace(1,2622,2622), y = data['High'].values.reshape(-1))\n"
      ],
      "execution_count": 7,
      "outputs": [
        {
          "output_type": "display_data",
          "data": {
            "text/plain": [
              "<Figure size 432x288 with 1 Axes>"
            ],
            "image/png": "[encoded data removed]"
          },
          "metadata": {
            "needs_background": "light"
          }
        }
      ]
    },
    {
      "cell_type": "markdown",
      "metadata": {
        "id": "Upn-QIHf6mwa"
      },
      "source": [
        "Next, we plot bitcoin vs. days. But this time there are dates added to the graph."
      ]
    },
    {
      "cell_type": "code",
      "metadata": {
        "id": "qaUQJVYCSc-S",
        "colab": {
          "base_uri": "https://localhost:8080/",
          "height": 519
        },
        "outputId": "a36d227d-2f77-4f24-c09d-7457fa24c12e"
      },
      "source": [
        "import matplotlib.pyplot as plt\n",
        "import seaborn as sns # Used for plotting\n",
        "\n",
        "g = sns.lineplot(x = np.linspace(1,2622,2622), y = data['High'].values.reshape(-1))\n",
        "g.set(xticks=np.arange(0,2500,200))\n",
        "g.set_xticklabels(rotation=30, labels = data['Date'][0::200])"
      ],
      "execution_count": 8,
      "outputs": [
        {
          "output_type": "execute_result",
          "data": {
            "text/plain": [
              "[Text(0, 0, '2014-09-17'),\n",
              " Text(0, 0, '2015-04-05'),\n",
              " Text(0, 0, '2015-10-22'),\n",
              " Text(0, 0, '2016-05-09'),\n",
              " Text(0, 0, '2016-11-25'),\n",
              " Text(0, 0, '2017-06-13'),\n",
              " Text(0, 0, '2017-12-30'),\n",
              " Text(0, 0, '2018-07-18'),\n",
              " Text(0, 0, '2019-02-03'),\n",
              " Text(0, 0, '2019-08-22'),\n",
              " Text(0, 0, '2020-03-09'),\n",
              " Text(0, 0, '2020-09-25'),\n",
              " Text(0, 0, '2021-04-13')]"
            ]
          },
          "metadata": {},
          "execution_count": 8
        },
        {
          "output_type": "display_data",
          "data": {
            "text/plain": [
              "<Figure size 432x288 with 1 Axes>"
            ],
            "image/png": "[encoded data removed]"
          },
          "metadata": {
            "needs_background": "light"
          }
        }
      ]
    },
    {
      "cell_type": "markdown",
      "metadata": {
        "id": "DHC5nm2AMwT4"
      },
      "source": [
        "### Part a) Data Preprocessing (5 points)\n",
        "In this section you will preprocess the data in order to train a recurrent neural network. We can see that there 5 columns, \"Date\", \"Open\", \"High\", \"Low\", \"Close\", \"Adjusted Close\", and \"Volume\". We will only use the High column."
      ]
    },
    {
      "cell_type": "code",
      "metadata": {
        "id": "mhTJ8iATNFlC"
      },
      "source": [
        "# Create a dataframe that only contains High Column.\n",
        "# Hint: it may be helpful to now cast your pruned dataframe to a numpy array.\n",
        "\n",
        "data_high = np.array(data['High'])\n",
        "\n",
        "### YOUR CODE HERE ###"
      ],
      "execution_count": 9,
      "outputs": []
    },
    {
      "cell_type": "markdown",
      "source": [
        "Remove missing values from the data."
      ],
      "metadata": {
        "id": "_Bb7U_wU37sY"
      }
    },
    {
      "cell_type": "code",
      "source": [
        "# Remove enteries from the data with missing values. \n",
        "# The shape of the data after this step shoud be (2618,)\n",
        "\n",
        "data_high = data_high[~np.isnan(data_high)] ### YOUR CODE HERE ###"
      ],
      "metadata": {
        "id": "Xmfp8yby4A0d"
      },
      "execution_count": 10,
      "outputs": []
    },
    {
      "cell_type": "markdown",
      "metadata": {
        "id": "JJ6wmmb2DJnE"
      },
      "source": [
        "\n",
        "Recall [MinMaxScaler](https://scikit-learn.org/stable/modules/generated/sklearn.preprocessing.MinMaxScaler.html) from sklearn. Use it to scale the data for our analysis. "
      ]
    },
    {
      "cell_type": "code",
      "metadata": {
        "id": "4FXLabvyCEN_"
      },
      "source": [
        "### YOUR CODE HERE ###\n",
        "from sklearn.preprocessing import MinMaxScaler\n",
        "scaler = MinMaxScaler(feature_range = (0, 1)) ### YOUR CODE HERE ###\n",
        "\n",
        "data_normalized = scaler.fit_transform(data_high.reshape((-1, 1))) ### YOUR CODE HERE ###"
      ],
      "execution_count": 11,
      "outputs": []
    },
    {
      "cell_type": "markdown",
      "metadata": {
        "id": "Dqq2K_UpNnrX"
      },
      "source": [
        "You will implement a simple autoregressive recurrent neural network using the standard tensorflow RNN architectures. An autoregressive model originates from the literature on time-series models where observations from the previous time-steps are used to predict the value at the current time step. To implemement an autoregressive model, we will simply augment the data so that \"time_steps\" number of previous days are fed to the model at the current time step in order to form a prediction. The function to augment the data is given to you:"
      ]
    },
    {
      "cell_type": "code",
      "metadata": {
        "id": "jtz4UhmUNngP"
      },
      "source": [
        "def create_dataset(dataset, time_steps=1):\n",
        "    \"\"\"\n",
        "    Generate a dataset where the time series X[n] contains the readings for the 'time_step' previous days \n",
        "    and y contains the price for today.\n",
        "    args:\n",
        "    dataset: numpy array, the data\n",
        "    time_steps: the number of previous days to feed to RNN\n",
        "\n",
        "    returns:\n",
        "    tuple: a dataset with x[i] containing 'time_step' number of previous prices, target price for x[i]\n",
        "    \"\"\"\n",
        "    dataX, dataY = [],[]\n",
        "    for i in range(len(dataset)-time_steps-1):\n",
        "        a = dataset[i:(i+time_steps)]\n",
        "        dataX.append(a)\n",
        "        dataY.append(dataset[i + time_steps])\n",
        "    return np.array(dataX), np.array(dataY)"
      ],
      "execution_count": 12,
      "outputs": []
    },
    {
      "cell_type": "code",
      "metadata": {
        "id": "GtUFvFWuNmiQ"
      },
      "source": [
        "# Choose the number of time steps that the model \"looks back\"\n",
        "time_steps = 5 ### YOUR CODE HERE ###\n",
        "\n",
        "# Produce your dataset based on the number of days the model could look back\n",
        "\n",
        "### YOUR CODE HERE ###\n",
        "X, y = create_dataset(data_normalized, time_steps)"
      ],
      "execution_count": 13,
      "outputs": []
    },
    {
      "cell_type": "code",
      "metadata": {
        "id": "GUmwLVKQ9PVN",
        "colab": {
          "base_uri": "https://localhost:8080/"
        },
        "outputId": "9627bec0-e971-4ed7-8e07-2eed2a9a9f21"
      },
      "source": [
        "# Check the shape of your dataset; should be (2618-time_steps-1, time_steps) and (2618-time_steps-1,)\n",
        "print(X.shape, y.shape)"
      ],
      "execution_count": 14,
      "outputs": [
        {
          "output_type": "stream",
          "name": "stdout",
          "text": [
            "(2612, 5, 1) (2612, 1)\n"
          ]
        }
      ]
    },
    {
      "cell_type": "markdown",
      "metadata": {
        "id": "MBKjptQ4Sa7O"
      },
      "source": [
        "### Part b) Data Partitioning (5 points)\n",
        "Split data into train and test sets. Use 80\\% for training and 20\\% for testing. **Note**: you need to split the data in time (the begining 80\\% of the days from start date will be the training data and the remaining 20\\% will be test data)."
      ]
    },
    {
      "cell_type": "code",
      "metadata": {
        "id": "q-lwp69bNn-v"
      },
      "source": [
        "### YOUR CODE HERE ###\n",
        "train_size = int(len(X) * 0.8)\n",
        "test_size = len(X) - train_size\n",
        "X_train, X_test = X[0 : train_size], X[train_size: len(data_high)]\n",
        "y_train, y_test = y[0 : train_size], y[train_size: len(data_high)]"
      ],
      "execution_count": 15,
      "outputs": []
    },
    {
      "cell_type": "markdown",
      "metadata": {
        "id": "C3ylDfvKSRpt"
      },
      "source": [
        "For this dataset, you need to reshape the partitions for the model to be able to process them."
      ]
    },
    {
      "cell_type": "code",
      "metadata": {
        "id": "VGY8MCxWSRpv",
        "colab": {
          "base_uri": "https://localhost:8080/"
        },
        "outputId": "74458dbb-bb11-4a07-862b-09cfd17c4313"
      },
      "source": [
        "# Reshape input to be [samples, time steps, features].\n",
        "X_train = np.reshape(X_train, (X_train.shape[0], 1, X_train.shape[1]))\n",
        "X_test = np.reshape(X_test, (X_test.shape[0], 1, X_test.shape[1]))\n",
        "\n",
        "# The shape of the training and test data after this step should be \n",
        "# ((2618-time_steps-1) * 80%, 1, time_steps) and ((2618-time_steps-1) * 20%, 1, time_steps), respectively.\n",
        "X_train.shape"
      ],
      "execution_count": 16,
      "outputs": [
        {
          "output_type": "execute_result",
          "data": {
            "text/plain": [
              "(2089, 1, 5)"
            ]
          },
          "metadata": {},
          "execution_count": 16
        }
      ]
    },
    {
      "cell_type": "code",
      "source": [
        "X_test.shape"
      ],
      "metadata": {
        "id": "bcik9_6s5Ri9",
        "colab": {
          "base_uri": "https://localhost:8080/"
        },
        "outputId": "8f23145b-9fff-487c-d2a5-620c54a6397c"
      },
      "execution_count": 17,
      "outputs": [
        {
          "output_type": "execute_result",
          "data": {
            "text/plain": [
              "(523, 1, 5)"
            ]
          },
          "metadata": {},
          "execution_count": 17
        }
      ]
    },
    {
      "cell_type": "markdown",
      "metadata": {
        "id": "XT5ychZQTh_R"
      },
      "source": [
        "### Part c) RNN Model (15 points)\n",
        "In this part you will create a model using an RNN layer (LSTM or GRU, unidirectional or bidirectional) and train it on your training data. You will also plot training and validation loss. Use mean squared error as your model's metric."
      ]
    },
    {
      "cell_type": "markdown",
      "metadata": {
        "id": "QI6ZFzquTh_R"
      },
      "source": [
        "Compile your model and display the summary. Train the model and plot loss values."
      ]
    },
    {
      "cell_type": "code",
      "metadata": {
        "id": "6UVNRGQlTh_S",
        "colab": {
          "base_uri": "https://localhost:8080/"
        },
        "outputId": "ac24711a-d131-45c9-fec1-49f6a11d0ee4"
      },
      "source": [
        "# Build your model\n",
        "\n",
        "from tensorflow.keras.models import Sequential\n",
        "from tensorflow.keras.layers import Dense, Dropout\n",
        "from tensorflow.keras.layers import LSTM\n",
        "from sklearn.metrics import mean_squared_error\n",
        "\n",
        "\n",
        "model = Sequential()\n",
        "model.add(LSTM(1, input_shape=(1, time_steps)))\n",
        "model.add(Dense(4))\n",
        "model.add(Dense(1))\n",
        "\n",
        "print(model.summary())\n",
        "\n",
        "### YOUR CODE HERE ###\n",
        "\n",
        "loss = \"mean_squared_error\" ### YOUR CODE HERE ###\n",
        "\n",
        "opt =  tf.keras.optimizers.SGD(learning_rate=0.001, momentum=0.009, name=\"SGD\", decay=1e-6) ### YOUR CODE HERE ###\n",
        "\n",
        "metrics = \"mean_squared_error\" ### YOUR CODE HERE ###"
      ],
      "execution_count": 18,
      "outputs": [
        {
          "output_type": "stream",
          "name": "stdout",
          "text": [
            "Model: \"sequential\"\n",
            "_________________________________________________________________\n",
            " Layer (type)                Output Shape              Param #   \n",
            "=================================================================\n",
            " lstm (LSTM)                 (None, 1)                 28        \n",
            "                                                                 \n",
            " dense (Dense)               (None, 4)                 8         \n",
            "                                                                 \n",
            " dense_1 (Dense)             (None, 1)                 5         \n",
            "                                                                 \n",
            "=================================================================\n",
            "Total params: 41\n",
            "Trainable params: 41\n",
            "Non-trainable params: 0\n",
            "_________________________________________________________________\n",
            "None\n"
          ]
        }
      ]
    },
    {
      "cell_type": "code",
      "metadata": {
        "id": "Cy6nV7WXTh_S",
        "colab": {
          "base_uri": "https://localhost:8080/"
        },
        "outputId": "8c883c0b-f8eb-4b71-ec52-9f0865b86905"
      },
      "source": [
        "batchsize = 10 ### YOUR CODE HERE ###\n",
        "\n",
        "epochs = 5 ### YOUR CODE HERE ###\n",
        "\n",
        "model.compile(loss = loss, optimizer = opt, metrics = metrics)\n",
        "\n",
        "# Fit model - Use 20% validation split\n",
        "history = model.fit(X_train, y_train, epochs = epochs, batch_size = batchsize, validation_split=0.2, shuffle=False) ### YOUR CODE HERE ###"
      ],
      "execution_count": 19,
      "outputs": [
        {
          "output_type": "stream",
          "name": "stdout",
          "text": [
            "Epoch 1/5\n",
            "168/168 [==============================] - 8s 7ms/step - loss: 0.0033 - mean_squared_error: 0.0033 - val_loss: 0.0104 - val_mean_squared_error: 0.0104\n",
            "Epoch 2/5\n",
            "168/168 [==============================] - 1s 4ms/step - loss: 0.0028 - mean_squared_error: 0.0028 - val_loss: 0.0087 - val_mean_squared_error: 0.0087\n",
            "Epoch 3/5\n",
            "168/168 [==============================] - 1s 4ms/step - loss: 0.0025 - mean_squared_error: 0.0025 - val_loss: 0.0076 - val_mean_squared_error: 0.0076\n",
            "Epoch 4/5\n",
            "168/168 [==============================] - 1s 4ms/step - loss: 0.0024 - mean_squared_error: 0.0024 - val_loss: 0.0069 - val_mean_squared_error: 0.0069\n",
            "Epoch 5/5\n",
            "168/168 [==============================] - 1s 4ms/step - loss: 0.0024 - mean_squared_error: 0.0024 - val_loss: 0.0065 - val_mean_squared_error: 0.0065\n"
          ]
        }
      ]
    },
    {
      "cell_type": "code",
      "metadata": {
        "id": "_ymO0e_oTh_S",
        "colab": {
          "base_uri": "https://localhost:8080/",
          "height": 279
        },
        "outputId": "a85cbb34-31bd-48c9-97e4-9350da065983"
      },
      "source": [
        "# Plot the model loss\n",
        "\n",
        "### YOUR CODE HERE ###\n",
        "\n",
        "def plot_losses(model_info):\n",
        "    plt.plot(model_info.history[\"loss\"])\n",
        "    plt.plot(model_info.history[\"val_loss\"])\n",
        "    plt.ylabel('Loss')\n",
        "    plt.xlabel('Epoch')\n",
        "    plt.legend(['Train', 'Val'])\n",
        "    plt.show()\n",
        "\n",
        "def plot_accuracies(model_info):\n",
        "    plt.plot(model_info.history['accuracy'])\n",
        "    plt.plot(model_info.history['val_accuracy'])\n",
        "    plt.title('Model Accuracy')\n",
        "    plt.ylabel('Accuracy')\n",
        "    plt.xlabel('Epoch')\n",
        "    plt.legend(['Train', 'Val'])\n",
        "    plt.show()\n",
        "\n",
        "plot_losses(history)\n",
        "# plot_accuracies(history)"
      ],
      "execution_count": 20,
      "outputs": [
        {
          "output_type": "display_data",
          "data": {
            "text/plain": [
              "<Figure size 432x288 with 1 Axes>"
            ],
            "image/png": "[encoded data removed]"
          },
          "metadata": {
            "needs_background": "light"
          }
        }
      ]
    },
    {
      "cell_type": "markdown",
      "metadata": {
        "id": "bZPc1zwFUWmv"
      },
      "source": [
        "### Part d) More Advanced RNN Model (15 points)\n",
        "In this part you will create an RNN model with the number of layers and architerure you prefer. Train it on your training data. You will also plot training and validation loss. Again, use mean squared error as your metric. In this part, you can try different models and use different hyper-parameters and report only the best one."
      ]
    },
    {
      "cell_type": "markdown",
      "metadata": {
        "id": "vsDP4F6RUWmx"
      },
      "source": [
        "Compile your model and display the summary:"
      ]
    },
    {
      "cell_type": "code",
      "metadata": {
        "id": "VJqARE-aUWmx",
        "colab": {
          "base_uri": "https://localhost:8080/"
        },
        "outputId": "99f3abfe-63ce-4597-dcc4-414ae7be0d34"
      },
      "source": [
        "# Build your model\n",
        "\n",
        "model = Sequential()\n",
        "model.add(LSTM(8, input_shape=(1, time_steps)))\n",
        "model.add(Dense(128))\n",
        "model.add(Dropout(0.5))\n",
        "model.add(Dense(1))\n",
        "\n",
        "print(model.summary())\n",
        "\n",
        "\n",
        "### YOUR CODE HERE ###\n",
        "\n",
        "loss = \"mean_squared_error\" ### YOUR CODE HERE ###\n",
        "\n",
        "opt = \"adam\" ### YOUR CODE HERE ###\n",
        "\n",
        "metrics = \"mean_squared_error\" ### YOUR CODE HERE ###"
      ],
      "execution_count": 21,
      "outputs": [
        {
          "output_type": "stream",
          "name": "stdout",
          "text": [
            "Model: \"sequential_1\"\n",
            "_________________________________________________________________\n",
            " Layer (type)                Output Shape              Param #   \n",
            "=================================================================\n",
            " lstm_1 (LSTM)               (None, 8)                 448       \n",
            "                                                                 \n",
            " dense_2 (Dense)             (None, 128)               1152      \n",
            "                                                                 \n",
            " dropout (Dropout)           (None, 128)               0         \n",
            "                                                                 \n",
            " dense_3 (Dense)             (None, 1)                 129       \n",
            "                                                                 \n",
            "=================================================================\n",
            "Total params: 1,729\n",
            "Trainable params: 1,729\n",
            "Non-trainable params: 0\n",
            "_________________________________________________________________\n",
            "None\n"
          ]
        }
      ]
    },
    {
      "cell_type": "code",
      "metadata": {
        "id": "kuloKr8QUWmy",
        "colab": {
          "base_uri": "https://localhost:8080/"
        },
        "outputId": "77c690f0-2111-40dd-eb28-fa041623b9b0"
      },
      "source": [
        "batchsize = 100 ### YOUR CODE HERE ###\n",
        "epochs = 100 ### YOUR CODE HERE ###\n",
        "\n",
        "model.compile(loss = loss, optimizer = opt, metrics = metrics)\n",
        "\n",
        "# Fit model\n",
        "history = model.fit(X_train, y_train, epochs = epochs, batch_size = batchsize, validation_split=0.2, shuffle=False) ### YOUR CODE HERE ###"
      ],
      "execution_count": 22,
      "outputs": [
        {
          "output_type": "stream",
          "name": "stdout",
          "text": [
            "Epoch 1/100\n",
            "17/17 [==============================] - 2s 31ms/step - loss: 0.0021 - mean_squared_error: 0.0021 - val_loss: 0.0012 - val_mean_squared_error: 0.0012\n",
            "Epoch 2/100\n",
            "17/17 [==============================] - 0s 5ms/step - loss: 0.0058 - mean_squared_error: 0.0058 - val_loss: 0.0076 - val_mean_squared_error: 0.0076\n",
            "Epoch 3/100\n",
            "17/17 [==============================] - 0s 5ms/step - loss: 0.0023 - mean_squared_error: 0.0023 - val_loss: 0.0034 - val_mean_squared_error: 0.0034\n",
            "Epoch 4/100\n",
            "17/17 [==============================] - 0s 5ms/step - loss: 0.0024 - mean_squared_error: 0.0024 - val_loss: 0.0028 - val_mean_squared_error: 0.0028\n",
            "Epoch 5/100\n",
            "17/17 [==============================] - 0s 5ms/step - loss: 0.0015 - mean_squared_error: 0.0015 - val_loss: 0.0015 - val_mean_squared_error: 0.0015\n",
            "Epoch 6/100\n",
            "17/17 [==============================] - 0s 5ms/step - loss: 8.8502e-04 - mean_squared_error: 8.8502e-04 - val_loss: 6.0132e-04 - val_mean_squared_error: 6.0132e-04\n",
            "Epoch 7/100\n",
            "17/17 [==============================] - 0s 5ms/step - loss: 3.6679e-04 - mean_squared_error: 3.6679e-04 - val_loss: 1.5342e-04 - val_mean_squared_error: 1.5342e-04\n",
            "Epoch 8/100\n",
            "17/17 [==============================] - 0s 5ms/step - loss: 1.4550e-04 - mean_squared_error: 1.4550e-04 - val_loss: 5.9738e-05 - val_mean_squared_error: 5.9738e-05\n",
            "Epoch 9/100\n",
            "17/17 [==============================] - 0s 5ms/step - loss: 1.0203e-04 - mean_squared_error: 1.0203e-04 - val_loss: 5.7512e-05 - val_mean_squared_error: 5.7512e-05\n",
            "Epoch 10/100\n",
            "17/17 [==============================] - 0s 5ms/step - loss: 1.0565e-04 - mean_squared_error: 1.0565e-04 - val_loss: 5.7207e-05 - val_mean_squared_error: 5.7207e-05\n",
            "Epoch 11/100\n",
            "17/17 [==============================] - 0s 6ms/step - loss: 8.9441e-05 - mean_squared_error: 8.9441e-05 - val_loss: 5.2486e-05 - val_mean_squared_error: 5.2486e-05\n",
            "Epoch 12/100\n",
            "17/17 [==============================] - 0s 5ms/step - loss: 1.0046e-04 - mean_squared_error: 1.0046e-04 - val_loss: 5.7051e-05 - val_mean_squared_error: 5.7051e-05\n",
            "Epoch 13/100\n",
            "17/17 [==============================] - 0s 5ms/step - loss: 8.6846e-05 - mean_squared_error: 8.6846e-05 - val_loss: 5.7848e-05 - val_mean_squared_error: 5.7848e-05\n",
            "Epoch 14/100\n",
            "17/17 [==============================] - 0s 5ms/step - loss: 9.7672e-05 - mean_squared_error: 9.7672e-05 - val_loss: 5.8955e-05 - val_mean_squared_error: 5.8955e-05\n",
            "Epoch 15/100\n",
            "17/17 [==============================] - 0s 5ms/step - loss: 9.3613e-05 - mean_squared_error: 9.3613e-05 - val_loss: 5.0499e-05 - val_mean_squared_error: 5.0499e-05\n",
            "Epoch 16/100\n",
            "17/17 [==============================] - 0s 5ms/step - loss: 8.8681e-05 - mean_squared_error: 8.8681e-05 - val_loss: 5.1098e-05 - val_mean_squared_error: 5.1098e-05\n",
            "Epoch 17/100\n",
            "17/17 [==============================] - 0s 5ms/step - loss: 9.8765e-05 - mean_squared_error: 9.8765e-05 - val_loss: 5.2896e-05 - val_mean_squared_error: 5.2896e-05\n",
            "Epoch 18/100\n",
            "17/17 [==============================] - 0s 5ms/step - loss: 8.9256e-05 - mean_squared_error: 8.9256e-05 - val_loss: 5.4011e-05 - val_mean_squared_error: 5.4011e-05\n",
            "Epoch 19/100\n",
            "17/17 [==============================] - 0s 5ms/step - loss: 9.0075e-05 - mean_squared_error: 9.0075e-05 - val_loss: 5.1270e-05 - val_mean_squared_error: 5.1270e-05\n",
            "Epoch 20/100\n",
            "17/17 [==============================] - 0s 5ms/step - loss: 9.6923e-05 - mean_squared_error: 9.6923e-05 - val_loss: 4.9455e-05 - val_mean_squared_error: 4.9455e-05\n",
            "Epoch 21/100\n",
            "17/17 [==============================] - 0s 5ms/step - loss: 1.0927e-04 - mean_squared_error: 1.0927e-04 - val_loss: 5.0297e-05 - val_mean_squared_error: 5.0297e-05\n",
            "Epoch 22/100\n",
            "17/17 [==============================] - 0s 6ms/step - loss: 7.2245e-05 - mean_squared_error: 7.2245e-05 - val_loss: 5.2104e-05 - val_mean_squared_error: 5.2104e-05\n",
            "Epoch 23/100\n",
            "17/17 [==============================] - 0s 5ms/step - loss: 9.6268e-05 - mean_squared_error: 9.6268e-05 - val_loss: 5.3565e-05 - val_mean_squared_error: 5.3565e-05\n",
            "Epoch 24/100\n",
            "17/17 [==============================] - 0s 5ms/step - loss: 8.3901e-05 - mean_squared_error: 8.3901e-05 - val_loss: 4.8680e-05 - val_mean_squared_error: 4.8680e-05\n",
            "Epoch 25/100\n",
            "17/17 [==============================] - 0s 5ms/step - loss: 8.6011e-05 - mean_squared_error: 8.6011e-05 - val_loss: 5.2040e-05 - val_mean_squared_error: 5.2040e-05\n",
            "Epoch 26/100\n",
            "17/17 [==============================] - 0s 5ms/step - loss: 9.3114e-05 - mean_squared_error: 9.3114e-05 - val_loss: 4.9429e-05 - val_mean_squared_error: 4.9429e-05\n",
            "Epoch 27/100\n",
            "17/17 [==============================] - 0s 5ms/step - loss: 8.4187e-05 - mean_squared_error: 8.4187e-05 - val_loss: 6.1117e-05 - val_mean_squared_error: 6.1117e-05\n",
            "Epoch 28/100\n",
            "17/17 [==============================] - 0s 5ms/step - loss: 7.5551e-05 - mean_squared_error: 7.5551e-05 - val_loss: 4.8931e-05 - val_mean_squared_error: 4.8931e-05\n",
            "Epoch 29/100\n",
            "17/17 [==============================] - 0s 5ms/step - loss: 9.2673e-05 - mean_squared_error: 9.2673e-05 - val_loss: 4.7957e-05 - val_mean_squared_error: 4.7957e-05\n",
            "Epoch 30/100\n",
            "17/17 [==============================] - 0s 5ms/step - loss: 8.6440e-05 - mean_squared_error: 8.6440e-05 - val_loss: 4.8253e-05 - val_mean_squared_error: 4.8253e-05\n",
            "Epoch 31/100\n",
            "17/17 [==============================] - 0s 5ms/step - loss: 7.7635e-05 - mean_squared_error: 7.7635e-05 - val_loss: 4.9521e-05 - val_mean_squared_error: 4.9521e-05\n",
            "Epoch 32/100\n",
            "17/17 [==============================] - 0s 5ms/step - loss: 9.2077e-05 - mean_squared_error: 9.2077e-05 - val_loss: 4.7066e-05 - val_mean_squared_error: 4.7066e-05\n",
            "Epoch 33/100\n",
            "17/17 [==============================] - 0s 5ms/step - loss: 8.5859e-05 - mean_squared_error: 8.5859e-05 - val_loss: 4.6286e-05 - val_mean_squared_error: 4.6286e-05\n",
            "Epoch 34/100\n",
            "17/17 [==============================] - 0s 5ms/step - loss: 8.1175e-05 - mean_squared_error: 8.1175e-05 - val_loss: 6.2058e-05 - val_mean_squared_error: 6.2058e-05\n",
            "Epoch 35/100\n",
            "17/17 [==============================] - 0s 6ms/step - loss: 8.7908e-05 - mean_squared_error: 8.7908e-05 - val_loss: 4.6381e-05 - val_mean_squared_error: 4.6381e-05\n",
            "Epoch 36/100\n",
            "17/17 [==============================] - 0s 6ms/step - loss: 8.5716e-05 - mean_squared_error: 8.5716e-05 - val_loss: 4.8916e-05 - val_mean_squared_error: 4.8916e-05\n",
            "Epoch 37/100\n",
            "17/17 [==============================] - 0s 6ms/step - loss: 8.6915e-05 - mean_squared_error: 8.6915e-05 - val_loss: 4.8503e-05 - val_mean_squared_error: 4.8503e-05\n",
            "Epoch 38/100\n",
            "17/17 [==============================] - 0s 5ms/step - loss: 7.8239e-05 - mean_squared_error: 7.8239e-05 - val_loss: 4.4966e-05 - val_mean_squared_error: 4.4966e-05\n",
            "Epoch 39/100\n",
            "17/17 [==============================] - 0s 5ms/step - loss: 8.9931e-05 - mean_squared_error: 8.9931e-05 - val_loss: 7.1593e-05 - val_mean_squared_error: 7.1593e-05\n",
            "Epoch 40/100\n",
            "17/17 [==============================] - 0s 5ms/step - loss: 1.0814e-04 - mean_squared_error: 1.0814e-04 - val_loss: 6.5820e-05 - val_mean_squared_error: 6.5820e-05\n",
            "Epoch 41/100\n",
            "17/17 [==============================] - 0s 5ms/step - loss: 9.0898e-05 - mean_squared_error: 9.0898e-05 - val_loss: 5.0336e-05 - val_mean_squared_error: 5.0336e-05\n",
            "Epoch 42/100\n",
            "17/17 [==============================] - 0s 5ms/step - loss: 9.9715e-05 - mean_squared_error: 9.9715e-05 - val_loss: 5.6660e-05 - val_mean_squared_error: 5.6660e-05\n",
            "Epoch 43/100\n",
            "17/17 [==============================] - 0s 6ms/step - loss: 1.0776e-04 - mean_squared_error: 1.0776e-04 - val_loss: 5.3240e-05 - val_mean_squared_error: 5.3240e-05\n",
            "Epoch 44/100\n",
            "17/17 [==============================] - 0s 6ms/step - loss: 1.1481e-04 - mean_squared_error: 1.1481e-04 - val_loss: 7.2635e-05 - val_mean_squared_error: 7.2635e-05\n",
            "Epoch 45/100\n",
            "17/17 [==============================] - 0s 6ms/step - loss: 1.0915e-04 - mean_squared_error: 1.0915e-04 - val_loss: 6.2303e-05 - val_mean_squared_error: 6.2303e-05\n",
            "Epoch 46/100\n",
            "17/17 [==============================] - 0s 5ms/step - loss: 1.0998e-04 - mean_squared_error: 1.0998e-04 - val_loss: 6.8941e-05 - val_mean_squared_error: 6.8941e-05\n",
            "Epoch 47/100\n",
            "17/17 [==============================] - 0s 5ms/step - loss: 9.0666e-05 - mean_squared_error: 9.0666e-05 - val_loss: 4.9731e-05 - val_mean_squared_error: 4.9731e-05\n",
            "Epoch 48/100\n",
            "17/17 [==============================] - 0s 5ms/step - loss: 1.1726e-04 - mean_squared_error: 1.1726e-04 - val_loss: 5.8275e-05 - val_mean_squared_error: 5.8275e-05\n",
            "Epoch 49/100\n",
            "17/17 [==============================] - 0s 5ms/step - loss: 1.2612e-04 - mean_squared_error: 1.2612e-04 - val_loss: 7.6161e-05 - val_mean_squared_error: 7.6161e-05\n",
            "Epoch 50/100\n",
            "17/17 [==============================] - 0s 5ms/step - loss: 1.2486e-04 - mean_squared_error: 1.2486e-04 - val_loss: 7.6039e-05 - val_mean_squared_error: 7.6039e-05\n",
            "Epoch 51/100\n",
            "17/17 [==============================] - 0s 5ms/step - loss: 1.2295e-04 - mean_squared_error: 1.2295e-04 - val_loss: 7.3055e-05 - val_mean_squared_error: 7.3055e-05\n",
            "Epoch 52/100\n",
            "17/17 [==============================] - 0s 6ms/step - loss: 1.2007e-04 - mean_squared_error: 1.2007e-04 - val_loss: 9.2753e-05 - val_mean_squared_error: 9.2753e-05\n",
            "Epoch 53/100\n",
            "17/17 [==============================] - 0s 6ms/step - loss: 1.1623e-04 - mean_squared_error: 1.1623e-04 - val_loss: 5.8984e-05 - val_mean_squared_error: 5.8984e-05\n",
            "Epoch 54/100\n",
            "17/17 [==============================] - 0s 6ms/step - loss: 1.2942e-04 - mean_squared_error: 1.2942e-04 - val_loss: 7.3040e-05 - val_mean_squared_error: 7.3040e-05\n",
            "Epoch 55/100\n",
            "17/17 [==============================] - 0s 5ms/step - loss: 1.3679e-04 - mean_squared_error: 1.3679e-04 - val_loss: 8.9797e-05 - val_mean_squared_error: 8.9797e-05\n",
            "Epoch 56/100\n",
            "17/17 [==============================] - 0s 5ms/step - loss: 1.3761e-04 - mean_squared_error: 1.3761e-04 - val_loss: 1.2597e-04 - val_mean_squared_error: 1.2597e-04\n",
            "Epoch 57/100\n",
            "17/17 [==============================] - 0s 5ms/step - loss: 1.1508e-04 - mean_squared_error: 1.1508e-04 - val_loss: 5.0312e-05 - val_mean_squared_error: 5.0312e-05\n",
            "Epoch 58/100\n",
            "17/17 [==============================] - 0s 5ms/step - loss: 1.0616e-04 - mean_squared_error: 1.0616e-04 - val_loss: 6.0861e-05 - val_mean_squared_error: 6.0861e-05\n",
            "Epoch 59/100\n",
            "17/17 [==============================] - 0s 5ms/step - loss: 1.1080e-04 - mean_squared_error: 1.1080e-04 - val_loss: 8.8242e-05 - val_mean_squared_error: 8.8242e-05\n",
            "Epoch 60/100\n",
            "17/17 [==============================] - 0s 5ms/step - loss: 9.0769e-05 - mean_squared_error: 9.0769e-05 - val_loss: 4.4054e-05 - val_mean_squared_error: 4.4054e-05\n",
            "Epoch 61/100\n",
            "17/17 [==============================] - 0s 5ms/step - loss: 8.5953e-05 - mean_squared_error: 8.5953e-05 - val_loss: 5.8316e-05 - val_mean_squared_error: 5.8316e-05\n",
            "Epoch 62/100\n",
            "17/17 [==============================] - 0s 5ms/step - loss: 1.0659e-04 - mean_squared_error: 1.0659e-04 - val_loss: 5.5311e-05 - val_mean_squared_error: 5.5311e-05\n",
            "Epoch 63/100\n",
            "17/17 [==============================] - 0s 5ms/step - loss: 8.9633e-05 - mean_squared_error: 8.9633e-05 - val_loss: 5.0977e-05 - val_mean_squared_error: 5.0977e-05\n",
            "Epoch 64/100\n",
            "17/17 [==============================] - 0s 5ms/step - loss: 8.1707e-05 - mean_squared_error: 8.1707e-05 - val_loss: 5.2034e-05 - val_mean_squared_error: 5.2034e-05\n",
            "Epoch 65/100\n",
            "17/17 [==============================] - 0s 5ms/step - loss: 9.6417e-05 - mean_squared_error: 9.6417e-05 - val_loss: 5.6136e-05 - val_mean_squared_error: 5.6136e-05\n",
            "Epoch 66/100\n",
            "17/17 [==============================] - 0s 5ms/step - loss: 9.7424e-05 - mean_squared_error: 9.7424e-05 - val_loss: 6.4871e-05 - val_mean_squared_error: 6.4871e-05\n",
            "Epoch 67/100\n",
            "17/17 [==============================] - 0s 5ms/step - loss: 1.0795e-04 - mean_squared_error: 1.0795e-04 - val_loss: 7.5377e-05 - val_mean_squared_error: 7.5377e-05\n",
            "Epoch 68/100\n",
            "17/17 [==============================] - 0s 5ms/step - loss: 1.1392e-04 - mean_squared_error: 1.1392e-04 - val_loss: 6.1378e-05 - val_mean_squared_error: 6.1378e-05\n",
            "Epoch 69/100\n",
            "17/17 [==============================] - 0s 5ms/step - loss: 1.1519e-04 - mean_squared_error: 1.1519e-04 - val_loss: 7.6137e-05 - val_mean_squared_error: 7.6137e-05\n",
            "Epoch 70/100\n",
            "17/17 [==============================] - 0s 5ms/step - loss: 1.2701e-04 - mean_squared_error: 1.2701e-04 - val_loss: 7.1456e-05 - val_mean_squared_error: 7.1456e-05\n",
            "Epoch 71/100\n",
            "17/17 [==============================] - 0s 5ms/step - loss: 1.1520e-04 - mean_squared_error: 1.1520e-04 - val_loss: 9.6887e-05 - val_mean_squared_error: 9.6887e-05\n",
            "Epoch 72/100\n",
            "17/17 [==============================] - 0s 6ms/step - loss: 1.1257e-04 - mean_squared_error: 1.1257e-04 - val_loss: 5.7212e-05 - val_mean_squared_error: 5.7212e-05\n",
            "Epoch 73/100\n",
            "17/17 [==============================] - 0s 5ms/step - loss: 9.2879e-05 - mean_squared_error: 9.2879e-05 - val_loss: 6.3706e-05 - val_mean_squared_error: 6.3706e-05\n",
            "Epoch 74/100\n",
            "17/17 [==============================] - 0s 5ms/step - loss: 1.0019e-04 - mean_squared_error: 1.0019e-04 - val_loss: 7.6740e-05 - val_mean_squared_error: 7.6740e-05\n",
            "Epoch 75/100\n",
            "17/17 [==============================] - 0s 5ms/step - loss: 9.6121e-05 - mean_squared_error: 9.6121e-05 - val_loss: 4.2825e-05 - val_mean_squared_error: 4.2825e-05\n",
            "Epoch 76/100\n",
            "17/17 [==============================] - 0s 5ms/step - loss: 7.7856e-05 - mean_squared_error: 7.7856e-05 - val_loss: 4.4769e-05 - val_mean_squared_error: 4.4769e-05\n",
            "Epoch 77/100\n",
            "17/17 [==============================] - 0s 5ms/step - loss: 1.0160e-04 - mean_squared_error: 1.0160e-04 - val_loss: 6.9700e-05 - val_mean_squared_error: 6.9700e-05\n",
            "Epoch 78/100\n",
            "17/17 [==============================] - 0s 5ms/step - loss: 1.0052e-04 - mean_squared_error: 1.0052e-04 - val_loss: 5.0681e-05 - val_mean_squared_error: 5.0681e-05\n",
            "Epoch 79/100\n",
            "17/17 [==============================] - 0s 5ms/step - loss: 7.5794e-05 - mean_squared_error: 7.5794e-05 - val_loss: 5.1907e-05 - val_mean_squared_error: 5.1907e-05\n",
            "Epoch 80/100\n",
            "17/17 [==============================] - 0s 5ms/step - loss: 9.0527e-05 - mean_squared_error: 9.0527e-05 - val_loss: 5.4164e-05 - val_mean_squared_error: 5.4164e-05\n",
            "Epoch 81/100\n",
            "17/17 [==============================] - 0s 5ms/step - loss: 9.4842e-05 - mean_squared_error: 9.4842e-05 - val_loss: 7.3616e-05 - val_mean_squared_error: 7.3616e-05\n",
            "Epoch 82/100\n",
            "17/17 [==============================] - 0s 6ms/step - loss: 9.5821e-05 - mean_squared_error: 9.5821e-05 - val_loss: 4.6281e-05 - val_mean_squared_error: 4.6281e-05\n",
            "Epoch 83/100\n",
            "17/17 [==============================] - 0s 5ms/step - loss: 9.2380e-05 - mean_squared_error: 9.2380e-05 - val_loss: 8.3211e-05 - val_mean_squared_error: 8.3211e-05\n",
            "Epoch 84/100\n",
            "17/17 [==============================] - 0s 5ms/step - loss: 9.7390e-05 - mean_squared_error: 9.7390e-05 - val_loss: 5.3961e-05 - val_mean_squared_error: 5.3961e-05\n",
            "Epoch 85/100\n",
            "17/17 [==============================] - 0s 5ms/step - loss: 1.0342e-04 - mean_squared_error: 1.0342e-04 - val_loss: 9.5247e-05 - val_mean_squared_error: 9.5247e-05\n",
            "Epoch 86/100\n",
            "17/17 [==============================] - 0s 5ms/step - loss: 1.0095e-04 - mean_squared_error: 1.0095e-04 - val_loss: 5.8631e-05 - val_mean_squared_error: 5.8631e-05\n",
            "Epoch 87/100\n",
            "17/17 [==============================] - 0s 5ms/step - loss: 8.8421e-05 - mean_squared_error: 8.8421e-05 - val_loss: 5.5369e-05 - val_mean_squared_error: 5.5369e-05\n",
            "Epoch 88/100\n",
            "17/17 [==============================] - 0s 5ms/step - loss: 1.0188e-04 - mean_squared_error: 1.0188e-04 - val_loss: 5.9893e-05 - val_mean_squared_error: 5.9893e-05\n",
            "Epoch 89/100\n",
            "17/17 [==============================] - 0s 5ms/step - loss: 1.0287e-04 - mean_squared_error: 1.0287e-04 - val_loss: 6.9696e-05 - val_mean_squared_error: 6.9696e-05\n",
            "Epoch 90/100\n",
            "17/17 [==============================] - 0s 5ms/step - loss: 9.7630e-05 - mean_squared_error: 9.7630e-05 - val_loss: 4.1433e-05 - val_mean_squared_error: 4.1433e-05\n",
            "Epoch 91/100\n",
            "17/17 [==============================] - 0s 5ms/step - loss: 8.4972e-05 - mean_squared_error: 8.4972e-05 - val_loss: 8.3803e-05 - val_mean_squared_error: 8.3803e-05\n",
            "Epoch 92/100\n",
            "17/17 [==============================] - 0s 5ms/step - loss: 7.8977e-05 - mean_squared_error: 7.8977e-05 - val_loss: 3.9470e-05 - val_mean_squared_error: 3.9470e-05\n",
            "Epoch 93/100\n",
            "17/17 [==============================] - 0s 5ms/step - loss: 8.0126e-05 - mean_squared_error: 8.0126e-05 - val_loss: 7.0752e-05 - val_mean_squared_error: 7.0752e-05\n",
            "Epoch 94/100\n",
            "17/17 [==============================] - 0s 5ms/step - loss: 8.4077e-05 - mean_squared_error: 8.4077e-05 - val_loss: 4.0230e-05 - val_mean_squared_error: 4.0230e-05\n",
            "Epoch 95/100\n",
            "17/17 [==============================] - 0s 5ms/step - loss: 7.4441e-05 - mean_squared_error: 7.4441e-05 - val_loss: 7.2831e-05 - val_mean_squared_error: 7.2831e-05\n",
            "Epoch 96/100\n",
            "17/17 [==============================] - 0s 5ms/step - loss: 8.4202e-05 - mean_squared_error: 8.4202e-05 - val_loss: 3.9247e-05 - val_mean_squared_error: 3.9247e-05\n",
            "Epoch 97/100\n",
            "17/17 [==============================] - 0s 5ms/step - loss: 7.4921e-05 - mean_squared_error: 7.4921e-05 - val_loss: 7.0062e-05 - val_mean_squared_error: 7.0062e-05\n",
            "Epoch 98/100\n",
            "17/17 [==============================] - 0s 5ms/step - loss: 9.8922e-05 - mean_squared_error: 9.8922e-05 - val_loss: 6.1890e-05 - val_mean_squared_error: 6.1890e-05\n",
            "Epoch 99/100\n",
            "17/17 [==============================] - 0s 5ms/step - loss: 7.4227e-05 - mean_squared_error: 7.4227e-05 - val_loss: 3.9278e-05 - val_mean_squared_error: 3.9278e-05\n",
            "Epoch 100/100\n",
            "17/17 [==============================] - 0s 5ms/step - loss: 9.1246e-05 - mean_squared_error: 9.1246e-05 - val_loss: 9.5684e-05 - val_mean_squared_error: 9.5684e-05\n"
          ]
        }
      ]
    },
    {
      "cell_type": "code",
      "metadata": {
        "id": "WiIh66vMUWmy",
        "colab": {
          "base_uri": "https://localhost:8080/",
          "height": 279
        },
        "outputId": "adf5d9f0-110d-4ff4-d36c-a30cecd60f2a"
      },
      "source": [
        "# Plot the model loss\n",
        "\n",
        "### YOUR CODE HERE ###\n",
        "\n",
        "def plot_losses(model_info):\n",
        "    plt.plot(model_info.history[\"loss\"])\n",
        "    plt.plot(model_info.history[\"val_loss\"])\n",
        "    plt.ylabel('Loss')\n",
        "    plt.xlabel('Epoch')\n",
        "    plt.legend(['Train', 'Val'])\n",
        "    plt.show()\n",
        "\n",
        "def plot_accuracies(model_info):\n",
        "    plt.plot(model_info.history['accuracy'])\n",
        "    plt.plot(model_info.history['val_accuracy'])\n",
        "    plt.title('Model Accuracy')\n",
        "    plt.ylabel('Accuracy')\n",
        "    plt.xlabel('Epoch')\n",
        "    plt.legend(['Train', 'Val'])\n",
        "    plt.show()\n",
        "\n",
        "plot_losses(history)"
      ],
      "execution_count": 23,
      "outputs": [
        {
          "output_type": "display_data",
          "data": {
            "text/plain": [
              "<Figure size 432x288 with 1 Axes>"
            ],
            "image/png": "[encoded data removed]"
          },
          "metadata": {
            "needs_background": "light"
          }
        }
      ]
    },
    {
      "cell_type": "markdown",
      "metadata": {
        "id": "GkDcoN3CUWmy"
      },
      "source": [
        "### Part e) Looking at the Predictions (10 points)\n",
        "Now, Using the final (best) model you trained, show your model's performance on the test set. Plot the model's prediction for Bitcoin Price along with the actual test set prices. Lastly, note how your model's predictions change with your model's architecture and the number of days you \"look back\". Does your model perform better with more \"look back days\" or less. Did adding more layers help?\n",
        "\n",
        "**Note:** Your model is trained on normalized data. In order to transform your model's predictions to the original price range you will likely need to use sklearn's inverse_transform (https://scikit-learn.org/stable/modules/generated/sklearn.preprocessing.StandardScaler.html)"
      ]
    },
    {
      "cell_type": "code",
      "source": [
        "trainPredict = model.predict(X_train)\n",
        "testPredict = model.predict(X_test)\n",
        "len(trainPredict)"
      ],
      "metadata": {
        "colab": {
          "base_uri": "https://localhost:8080/"
        },
        "id": "wxiEsQ7LSE_b",
        "outputId": "fb17e532-3d86-4c30-81d3-0b4aecba09fa"
      },
      "execution_count": 24,
      "outputs": [
        {
          "output_type": "stream",
          "name": "stdout",
          "text": [
            "66/66 [==============================] - 0s 2ms/step\n",
            "17/17 [==============================] - 0s 2ms/step\n"
          ]
        },
        {
          "output_type": "execute_result",
          "data": {
            "text/plain": [
              "2089"
            ]
          },
          "metadata": {},
          "execution_count": 24
        }
      ]
    },
    {
      "cell_type": "code",
      "source": [
        "trainPredict = scaler.inverse_transform(trainPredict)\n",
        "testPredict = scaler.inverse_transform(testPredict)\n",
        "\n",
        "trainPredict = (trainPredict.flatten())\n",
        "testPredict = (testPredict.flatten())"
      ],
      "metadata": {
        "id": "0_ejHQXeSPD-"
      },
      "execution_count": 25,
      "outputs": []
    },
    {
      "cell_type": "code",
      "source": [
        "# shift train predictions for plotting\n",
        "trainPredictPlot = np.empty_like(data['High'])\n",
        "# trainPredictPlot[:, :] = np.nan\n",
        "trainPredictPlot[time_steps: len(trainPredict) + time_steps] = trainPredict\n",
        "\n",
        "# shift test predictions for plotting\n",
        "testPredictPlot = np.empty_like(data['High'])\n",
        "# testPredictPlot[:, :] = np.nan\n",
        "testPredictPlot[len(trainPredict) + time_steps * 2 - 1: len(data['High']) -1 ] = testPredict"
      ],
      "metadata": {
        "id": "dI7anmEtfICs"
      },
      "execution_count": 26,
      "outputs": []
    },
    {
      "cell_type": "code",
      "metadata": {
        "id": "m7dZ2Of1R4kI",
        "colab": {
          "base_uri": "https://localhost:8080/",
          "height": 334
        },
        "outputId": "fb70dfbe-311b-42b7-9c3e-05dda097852e"
      },
      "source": [
        "### YOUR CODE HERE ###\n",
        "predict = np.concatenate((trainPredict, testPredict))\n",
        "print(type(trainPredict))\n",
        "# predict = predict.reshape(-1, 1)\n",
        "\n",
        "g = sns.lineplot(x = np.linspace(1,2622,2622), y = data['High'].values.reshape(-1))\n",
        "g = sns.lineplot(x = np.linspace(1, 2622, 2618-time_steps-1), y = predict)\n",
        "\n",
        "print(trainPredict.shape)\n",
        "print(data['High'].values.reshape(-1).shape)\n",
        "print(data['High'].values.shape)\n",
        "\n",
        "# plt.plot(x = np.linspace(1, 2618-time_steps-1, 2618-time_steps-1), y = data['High'].values.reshape(-1), linewidth=2)\n",
        "# plt.plot(trainPredictPlot, 'g')\n",
        "# plt.plot(testPredictPlot, 'r')\n",
        "# plt.show()\n",
        "# g = sns.lineplot(x = np.linspace(1, 2618-time_steps-1, 2618-time_steps-1), y = scaler.inverse_transform (predict)) # y = data['High'].values.reshape(-1)\n",
        "# g.set(xticks=np.arange(0,2500,200))\n",
        "# g.set_xticklabels(rotation=30, labels = data['Date'][0::200])"
      ],
      "execution_count": 27,
      "outputs": [
        {
          "output_type": "stream",
          "name": "stdout",
          "text": [
            "<class 'numpy.ndarray'>\n",
            "(2089,)\n",
            "(2622,)\n",
            "(2622,)\n"
          ]
        },
        {
          "output_type": "display_data",
          "data": {
            "text/plain": [
              "<Figure size 432x288 with 1 Axes>"
            ],
            "image/png": "[encoded data removed]"
          },
          "metadata": {
            "needs_background": "light"
          }
        }
      ]
    },
    {
      "cell_type": "code",
      "source": [
        "g = sns.lineplot(x = np.linspace(1,len(testPredict),len(testPredict)), y = data['High'].values.reshape(-1)[-1 * len(testPredict):])\n",
        "g = sns.lineplot(x = np.linspace(1, len(testPredict), len(testPredict)), y = testPredict)"
      ],
      "metadata": {
        "colab": {
          "base_uri": "https://localhost:8080/",
          "height": 265
        },
        "id": "aKZQBjjqM3-9",
        "outputId": "29e696ac-72ed-4093-9e86-e6afa91a31ed"
      },
      "execution_count": 28,
      "outputs": [
        {
          "output_type": "display_data",
          "data": {
            "text/plain": [
              "<Figure size 432x288 with 1 Axes>"
            ],
            "image/png": "[encoded data removed]"
          },
          "metadata": {
            "needs_background": "light"
          }
        }
      ]
    },
    {
      "cell_type": "markdown",
      "metadata": {
        "id": "1to7eXUQNbDd"
      },
      "source": [
        "[YOUR ANSWER HERE]\n",
        "Lastly, note how your model's predictions change with your model's architecture and the number of days you \"look back\". Does your model perform better with more \"look back days\" or less. Did adding more layers help?\n",
        "\n",
        "I increased the LSTM from 1 to 8 and the number of neurons at the dense layer from 4 to 128. I also added a 0.5 dropout layer to prevent overfitting. For the number of days the model 'look back', I tried 500, 100, 10, 1, and 5. For 500 and 100, the losses graph is extremely unstable. Then I tried 'look back' of 10 and 1, which is far more stable compared to 'look back' of 500 and 100. And finally, I tried look back of 5, which has the most stable losses graph compared to all the different 'look back' I tried (500, 100, 10, 1). So generally the model performs better with fewer \"look back days\" (something between 1 to 10 performs pretty well). I tried adding more dense layers to the model but the result is worse, so adding more dense layers do not help the model."
      ]
    },
    {
      "cell_type": "markdown",
      "metadata": {
        "id": "fLJDlFbyfmj5"
      },
      "source": [
        "## Question 2: Reuters Topic Classification\n",
        "---\n",
        "We will use the [Reuters newswire](https://keras.io/api/datasets/reuters/) classification dataset, which has text paired with 46 topics as labels. You can see what these labels represent [here](https://martin-thoma.com/nlp-reuters/). You will analyze the text and classify the text into one of the 46 classes. Classes are the defined based on the following list (in the same order):\n",
        ">```\n",
        "['cocoa','grain','veg-oil','earn','acq','wheat','copper',\n",
        "'housing','money-supply','coffee','sugar','trade','reserves',\n",
        "'ship','cotton','carcass','crude','nat-gas','cpi','money-fx',\n",
        "'interest','gnp','meal-feed','alum','oilseed','gold','tin',\n",
        "'strategic-metal','livestock','retail','ipi','iron-steel',\n",
        "'rubber','heat','jobs','lei','bop','zinc','orange',\n",
        "'pet-chem','dlr','gas','silver','wpi','hog','lead']\n",
        "```\n",
        "\n"
      ]
    },
    {
      "cell_type": "markdown",
      "metadata": {
        "id": "NyiOu4LzgAur"
      },
      "source": [
        "### Part a) Processing the Data (5 points)\n",
        "Load the data simply from Keras: https://www.tensorflow.org/api_docs/python/tf/keras/datasets/reuters/load_data.\n",
        "You also need to follow the RNN handout from the class exercise and prepare encoding and decoding functions and any other pre-processing you might find useful.\n",
        "\n",
        "Print 5 examples of news along with their class label. "
      ]
    },
    {
      "cell_type": "code",
      "metadata": {
        "id": "PnzsyAmwvImD",
        "colab": {
          "base_uri": "https://localhost:8080/"
        },
        "outputId": "d1d46cb0-c065-477e-cdc2-185f15d0ff47"
      },
      "source": [
        "from tensorflow.keras.preprocessing.sequence import pad_sequences\n",
        "from tensorflow.keras.layers import Embedding, Dense, Dropout, Input, LSTM, Bidirectional\n",
        "from tensorflow.keras.models import Model\n",
        "import string\n",
        "import textwrap\n",
        "\n",
        "max_sequence_len = 1000\n",
        "\n",
        "# Load data  \n",
        "(X, y), (_, _) = tf.keras.datasets.reuters.load_data(\n",
        "    path=\"reuters.npz\", maxlen = max_sequence_len, test_split = 0.0)\n",
        "\n",
        "# (X_train, y_train)\n",
        "\n",
        "### YOUR CODE HERE ###\n",
        "\n",
        "# Clean and pre-process the data\n",
        "word_dict = tf.keras.datasets.reuters.get_word_index()\n",
        "word_dict = {k:(v+3) for k,v in word_dict.items()}\n",
        "word_dict[\"<PAD>\"] = 0\n",
        "word_dict[\"<START>\"] = 1\n",
        "word_dict[\"<UNK>\"] = 2\n",
        "word_dict[\"<UNUSED>\"] = 3\n",
        "\n",
        "vocab_size = len(word_dict.keys())\n",
        "inverse_word_dict = {value:key for key,value in word_dict.items()}\n",
        "\n",
        "\n",
        "def encode_review(review, word_dict, maxlen):\n",
        "  encoded_review = []\n",
        "  for raw_word in review.split(' '):\n",
        "    word = raw_word.strip().strip(string.punctuation).lower()\n",
        "    if word == '' or word == '\\n':\n",
        "      continue\n",
        "    try:\n",
        "      encoded_review.append(word_dict[word])\n",
        "    except KeyError as e:\n",
        "      # raise KeyError(f'{e} not in word dictionary, review not encoded.')\n",
        "      continue\n",
        "  return pad_sequences(np.array(encoded_review).reshape(1,-1), maxlen=maxlen)\n",
        "\n",
        "def decode_review(encoded_review, inverse_word_dict):\n",
        "  sentence = []\n",
        "  for encoded_word in encoded_review:\n",
        "    if (encoded_word == 0):\n",
        "      continue\n",
        "    sentence.append(inverse_word_dict[encoded_word])\n",
        "  w = textwrap.TextWrapper(width=120,break_long_words=False,replace_whitespace=False)\n",
        "  return '\\n'.join(w.wrap(' '.join(sentence)))\n",
        "\n",
        "\n",
        "\n",
        "### YOUR CODE HERE ###\n",
        "\n",
        "# Print sample data\n",
        "\n",
        "print(decode_review(X[-1], inverse_word_dict), end='\\n\\n')\n",
        "\n",
        "print('Label: ', y[-1] )\n",
        "\n",
        "### YOUR CODE HERE ###"
      ],
      "execution_count": 29,
      "outputs": [
        {
          "output_type": "stream",
          "name": "stdout",
          "text": [
            "Downloading data from https://storage.googleapis.com/tensorflow/tf-keras-datasets/reuters.npz\n",
            "2110848/2110848 [==============================] - 0s 0us/step\n",
            "Downloading data from https://storage.googleapis.com/tensorflow/tf-keras-datasets/reuters_word_index.json\n",
            "550378/550378 [==============================] - 0s 0us/step\n",
            "<START> congress should give the u s agriculture secretary the authority to keep the 1987 soybean loan rate at the\n",
            "current effective rate of 4 56 dlrs per bushel in order to help resolve the problem of soybean export competitiveness\n",
            "usda undersecretary dan amstutz said speaking to reporters following a senate agriculture appropriations hearing amstutz\n",
            "suggested that one way out of the current soybean program dilemma would be for congress to allow the loan rate to remain\n",
            "at 4 56 dlrs he indicated if the loan rate were 4 56 dlrs usda could then consider ways to make u s soybeans more\n",
            "competitive such as using certificates to further buydown the loan rate under current law the 1987 soybean loan rate\n",
            "cannot be less than 4 77 dlrs per bu amstutz' suggestion would be for congress to change the farm bill to allow usda to\n",
            "leave the soybean loan rate at 4 56 dlrs in crop year 1987 rather than increase it to 4 77 dlrs the 1986 effective loan\n",
            "rate is 4 56 dlrs because of the 4 3 pct gramm rudman budget cut amstutz stressed that a major factor in any decision on\n",
            "soybean program changes will be the budget costs he told the hearing that the problem in soybeans is that the u s loan\n",
            "rate provides an umbrella to foreign production and causes competitive problems for u s soybeans asked about the\n",
            "american soybean association's request for some form of income support amstutz said the competitive problem is the most\n",
            "severe he said usda is still studying the situation and no resolution has yet been found reuter 3\n",
            "\n",
            "Label:  24\n"
          ]
        }
      ]
    },
    {
      "cell_type": "markdown",
      "metadata": {
        "id": "YarxnZSMgtrF"
      },
      "source": [
        "### Part b) Data Partitioning (5 points)\n",
        "\n",
        "Split data into train and test sets. Please use 80% for training and 20% for testing. Note that we want to have the same distribution of labels in the training and test set, so you can use stratified train-test split of Keras. See here: https://scikit-learn.org/stable/modules/generated/sklearn.model_selection.train_test_split.html"
      ]
    },
    {
      "cell_type": "code",
      "metadata": {
        "id": "dM3fOjNG0ybv"
      },
      "source": [
        "### YOUR CODE HERE ###\n",
        "X_train, X_test, y_train, y_test = train_test_split(X, y, train_size = 0.8, stratify = y)"
      ],
      "execution_count": 30,
      "outputs": []
    },
    {
      "cell_type": "code",
      "source": [
        "print(decode_review(X_train[-1], inverse_word_dict), end='\\n\\n')\n",
        "\n",
        "print('Label: ', y_train[-1])"
      ],
      "metadata": {
        "colab": {
          "base_uri": "https://localhost:8080/"
        },
        "id": "_FdHTmu0bj1g",
        "outputId": "be48f98c-ec8a-42a5-fb41-7b85707d69d6"
      },
      "execution_count": 31,
      "outputs": [
        {
          "output_type": "stream",
          "name": "stdout",
          "text": [
            "<START> industrial production excluding construction and adjusted for the number of working days fell 1 5 pct in\n",
            "december from year earlier levels the national statistics office said it was also a sharp 16 8 pct below the november\n",
            "level it said the office said the production index base 1980 stood at 97 3 in december against an adjusted 116 9 in\n",
            "november and 98 8 in december 1985 reuter 3\n",
            "\n",
            "Label:  30\n"
          ]
        }
      ]
    },
    {
      "cell_type": "markdown",
      "metadata": {
        "id": "Lp8HvntUTzwW"
      },
      "source": [
        "### Part c) Simple RNN Model (15 points)\n",
        "\n",
        "Create a model using an RNN layer (LSTM or GRU, unidirectional or bidirectional) and train it on your training data. You will also plot training and validation loss and your accuracy metric."
      ]
    },
    {
      "cell_type": "markdown",
      "metadata": {
        "id": "-L2aeGG9KS7w"
      },
      "source": [
        "Compile your model and display the summary:"
      ]
    },
    {
      "cell_type": "code",
      "metadata": {
        "id": "09k-v7zVzUXj",
        "colab": {
          "base_uri": "https://localhost:8080/"
        },
        "outputId": "ae71220f-9098-4045-e617-52655da406ca"
      },
      "source": [
        "# Build your model\n",
        "input_layer = Input(shape=(max_sequence_len))\n",
        "x = Embedding(vocab_size, 500)(input_layer)\n",
        "\n",
        "x = LSTM(32)(x) \n",
        "# x = Bidirectional(tf.keras.layers.GRU(32))(x)\n",
        "\n",
        "x = Dense(32, activation='relu')(x)\n",
        "x = Dropout(0.5)(x)\n",
        "x = Dense(8, activation='relu')(x)\n",
        "x = Dropout(0.8)(x)\n",
        "\n",
        "x = Dense(46, activation='sigmoid')(x)\n",
        "reuters_model = Model(input_layer, x)\n",
        "\n",
        "### YOUR CODE HERE ###\n",
        "# tf.keras.losses.SparseCategoricalCrossentropy()\n",
        "loss = tf.keras.losses.SparseCategoricalCrossentropy() ### YOUR CODE HERE ###\n",
        "# tf.keras.optimizers.Adam(2e-4)\n",
        "opt =  \"adam\" ### YOUR CODE HERE ###\n",
        "\n",
        "metrics = metrics=['accuracy'] ### YOUR CODE HERE ###\n",
        "\n",
        "reuters_model.compile(loss=loss,\n",
        "              optimizer=opt,\n",
        "              metrics=metrics)\n",
        "\n",
        "reuters_model.summary()"
      ],
      "execution_count": 32,
      "outputs": [
        {
          "output_type": "stream",
          "name": "stdout",
          "text": [
            "Model: \"model\"\n",
            "_________________________________________________________________\n",
            " Layer (type)                Output Shape              Param #   \n",
            "=================================================================\n",
            " input_1 (InputLayer)        [(None, 1000)]            0         \n",
            "                                                                 \n",
            " embedding (Embedding)       (None, 1000, 500)         15491500  \n",
            "                                                                 \n",
            " lstm_2 (LSTM)               (None, 32)                68224     \n",
            "                                                                 \n",
            " dense_4 (Dense)             (None, 32)                1056      \n",
            "                                                                 \n",
            " dropout_1 (Dropout)         (None, 32)                0         \n",
            "                                                                 \n",
            " dense_5 (Dense)             (None, 8)                 264       \n",
            "                                                                 \n",
            " dropout_2 (Dropout)         (None, 8)                 0         \n",
            "                                                                 \n",
            " dense_6 (Dense)             (None, 46)                414       \n",
            "                                                                 \n",
            "=================================================================\n",
            "Total params: 15,561,458\n",
            "Trainable params: 15,561,458\n",
            "Non-trainable params: 0\n",
            "_________________________________________________________________\n"
          ]
        }
      ]
    },
    {
      "cell_type": "code",
      "metadata": {
        "id": "mthwaqCrzvM3",
        "colab": {
          "base_uri": "https://localhost:8080/"
        },
        "outputId": "31e40aab-e106-4e39-d630-df3e2b327375"
      },
      "source": [
        "batchsize = 128 ### YOUR CODE HERE ###\n",
        "epochs =  5 ### YOUR CODE HERE ###\n",
        "\n",
        "X_train = pad_sequences(X_train, maxlen=max_sequence_len)\n",
        "\n",
        "# Fit model\n",
        "history = reuters_model.fit(X_train, y_train, batch_size=batchsize, epochs=epochs, validation_split=0.2, shuffle=True)"
      ],
      "execution_count": 33,
      "outputs": [
        {
          "output_type": "stream",
          "name": "stdout",
          "text": [
            "Epoch 1/5\n",
            "57/57 [==============================] - 6s 66ms/step - loss: 3.7056 - accuracy: 0.1953 - val_loss: 3.3629 - val_accuracy: 0.4905\n",
            "Epoch 2/5\n",
            "57/57 [==============================] - 3s 54ms/step - loss: 3.3983 - accuracy: 0.2432 - val_loss: 2.7422 - val_accuracy: 0.5239\n",
            "Epoch 3/5\n",
            "57/57 [==============================] - 3s 54ms/step - loss: 3.0718 - accuracy: 0.3447 - val_loss: 2.0442 - val_accuracy: 0.5445\n",
            "Epoch 4/5\n",
            "57/57 [==============================] - 3s 53ms/step - loss: 2.8614 - accuracy: 0.3299 - val_loss: 1.9915 - val_accuracy: 0.5418\n",
            "Epoch 5/5\n",
            "57/57 [==============================] - 3s 53ms/step - loss: 2.7337 - accuracy: 0.3539 - val_loss: 1.9268 - val_accuracy: 0.5362\n"
          ]
        }
      ]
    },
    {
      "cell_type": "code",
      "metadata": {
        "id": "cBzaRs9hrQsh",
        "colab": {
          "base_uri": "https://localhost:8080/",
          "height": 557
        },
        "outputId": "dde1b2a7-dd51-451d-86a6-0516998d156f"
      },
      "source": [
        "# Plot the model loss and accuracy on training and validation sets\n",
        "plot_losses(history)\n",
        "plot_accuracies(history)\n",
        "### YOUR CODE HERE ###"
      ],
      "execution_count": 34,
      "outputs": [
        {
          "output_type": "display_data",
          "data": {
            "text/plain": [
              "<Figure size 432x288 with 1 Axes>"
            ],
            "image/png": "[encoded data removed]"
          },
          "metadata": {
            "needs_background": "light"
          }
        },
        {
          "output_type": "display_data",
          "data": {
            "text/plain": [
              "<Figure size 432x288 with 1 Axes>"
            ],
            "image/png": "[encoded data removed]"
          },
          "metadata": {
            "needs_background": "light"
          }
        }
      ]
    },
    {
      "cell_type": "markdown",
      "metadata": {
        "id": "-ONEJCKBa384"
      },
      "source": [
        "### Part d) More Advanced RNN Model (15 points)\n",
        "In this part, you will create an RNN model with the number of layers and architerure you prefer. Train it on your training data. You will also plot training and validation loss and your metric. In this part, you can try different models and use different hyper-parameters and report only the best one."
      ]
    },
    {
      "cell_type": "markdown",
      "metadata": {
        "id": "ToO-cZbKa386"
      },
      "source": [
        "Compile your model and display the summary:"
      ]
    },
    {
      "cell_type": "code",
      "metadata": {
        "id": "FOo5_Rp6a386",
        "colab": {
          "base_uri": "https://localhost:8080/"
        },
        "outputId": "c820bb7e-ed9a-4d60-d21d-10ec6b47d228"
      },
      "source": [
        "# Build your model\n",
        "\n",
        "input_layer = Input(shape=(max_sequence_len))\n",
        "x = Embedding(vocab_size, 1000)(input_layer)\n",
        "\n",
        "# x = LSTM(128)(x) \n",
        "x = Bidirectional(tf.keras.layers.GRU(128))(x)\n",
        "\n",
        "x = Dense(1024, activation='relu')(x)\n",
        "x = Dropout(0.5)(x)\n",
        "\n",
        "x = Dense(46, activation='sigmoid')(x)\n",
        "model = Model(input_layer, x)\n",
        "\n",
        "### YOUR CODE HERE ###\n",
        "\n",
        "loss = tf.keras.losses.SparseCategoricalCrossentropy() ### YOUR CODE HERE ###\n",
        "\n",
        "opt = \"adam\" ### YOUR CODE HERE ###\n",
        "\n",
        "metrics = ['accuracy'] ### YOUR CODE HERE ###\n",
        "\n",
        "model.compile(loss=loss,\n",
        "              optimizer=opt,\n",
        "              metrics=metrics)\n",
        "\n",
        "model.summary()"
      ],
      "execution_count": 35,
      "outputs": [
        {
          "output_type": "stream",
          "name": "stdout",
          "text": [
            "Model: \"model_1\"\n",
            "_________________________________________________________________\n",
            " Layer (type)                Output Shape              Param #   \n",
            "=================================================================\n",
            " input_2 (InputLayer)        [(None, 1000)]            0         \n",
            "                                                                 \n",
            " embedding_1 (Embedding)     (None, 1000, 1000)        30983000  \n",
            "                                                                 \n",
            " bidirectional (Bidirectiona  (None, 256)              867840    \n",
            " l)                                                              \n",
            "                                                                 \n",
            " dense_7 (Dense)             (None, 1024)              263168    \n",
            "                                                                 \n",
            " dropout_3 (Dropout)         (None, 1024)              0         \n",
            "                                                                 \n",
            " dense_8 (Dense)             (None, 46)                47150     \n",
            "                                                                 \n",
            "=================================================================\n",
            "Total params: 32,161,158\n",
            "Trainable params: 32,161,158\n",
            "Non-trainable params: 0\n",
            "_________________________________________________________________\n"
          ]
        }
      ]
    },
    {
      "cell_type": "code",
      "metadata": {
        "id": "80rNRrDva387",
        "colab": {
          "base_uri": "https://localhost:8080/"
        },
        "outputId": "008d9904-ae34-4c0d-ad42-92c144a4488d"
      },
      "source": [
        "batchsize = 128 ### YOUR CODE HERE ###\n",
        "epochs =  10 ### YOUR CODE HERE ###\n",
        "\n",
        "# Fit model\n",
        "history = model.fit(X_train, y_train, batch_size=batchsize, epochs=epochs, validation_split=0.2, shuffle=True)"
      ],
      "execution_count": 36,
      "outputs": [
        {
          "output_type": "stream",
          "name": "stdout",
          "text": [
            "Epoch 1/10\n",
            "57/57 [==============================] - 11s 145ms/step - loss: 2.3990 - accuracy: 0.3986 - val_loss: 1.8700 - val_accuracy: 0.4855\n",
            "Epoch 2/10\n",
            "57/57 [==============================] - 8s 134ms/step - loss: 1.8226 - accuracy: 0.5208 - val_loss: 1.6935 - val_accuracy: 0.5618\n",
            "Epoch 3/10\n",
            "57/57 [==============================] - 8s 134ms/step - loss: 1.5585 - accuracy: 0.5876 - val_loss: 1.6038 - val_accuracy: 0.5802\n",
            "Epoch 4/10\n",
            "57/57 [==============================] - 8s 134ms/step - loss: 1.3158 - accuracy: 0.6547 - val_loss: 1.5636 - val_accuracy: 0.6086\n",
            "Epoch 5/10\n",
            "57/57 [==============================] - 8s 134ms/step - loss: 1.0842 - accuracy: 0.7170 - val_loss: 1.5269 - val_accuracy: 0.6409\n",
            "Epoch 6/10\n",
            "57/57 [==============================] - 8s 134ms/step - loss: 0.9127 - accuracy: 0.7510 - val_loss: 1.5420 - val_accuracy: 0.6492\n",
            "Epoch 7/10\n",
            "57/57 [==============================] - 8s 134ms/step - loss: 0.7874 - accuracy: 0.7825 - val_loss: 1.5942 - val_accuracy: 0.6559\n",
            "Epoch 8/10\n",
            "57/57 [==============================] - 8s 133ms/step - loss: 0.6772 - accuracy: 0.8155 - val_loss: 1.7572 - val_accuracy: 0.6347\n",
            "Epoch 9/10\n",
            "57/57 [==============================] - 8s 135ms/step - loss: 0.5864 - accuracy: 0.8403 - val_loss: 1.9971 - val_accuracy: 0.6364\n",
            "Epoch 10/10\n",
            "57/57 [==============================] - 8s 134ms/step - loss: 0.5052 - accuracy: 0.8592 - val_loss: 1.8039 - val_accuracy: 0.6308\n"
          ]
        }
      ]
    },
    {
      "cell_type": "code",
      "metadata": {
        "id": "8B_BKjzda387",
        "colab": {
          "base_uri": "https://localhost:8080/",
          "height": 0
        },
        "outputId": "f3aee8c7-9f28-49a0-a1c3-0d687837adcd"
      },
      "source": [
        "# Plot the model loss and accuracy\n",
        "plot_losses(history)\n",
        "plot_accuracies(history)\n",
        "### YOUR CODE HERE ###"
      ],
      "execution_count": 37,
      "outputs": [
        {
          "output_type": "display_data",
          "data": {
            "text/plain": [
              "<Figure size 432x288 with 1 Axes>"
            ],
            "image/png": "[encoded data removed]"
          },
          "metadata": {
            "needs_background": "light"
          }
        },
        {
          "output_type": "display_data",
          "data": {
            "text/plain": [
              "<Figure size 432x288 with 1 Axes>"
            ],
            "image/png": "[encoded data removed]"
          },
          "metadata": {
            "needs_background": "light"
          }
        }
      ]
    },
    {
      "cell_type": "markdown",
      "metadata": {
        "id": "dc7BEuccYvit"
      },
      "source": [
        "### Part e) Looking at the Predictions (10 points)\n",
        "\n",
        "Now, Using the final (best) model you trained, show your model's performance on the test set.\n",
        "Calculate and display the prediction accuracy for all of the 46 different classes. "
      ]
    },
    {
      "cell_type": "code",
      "metadata": {
        "id": "PyCzORLJELij",
        "colab": {
          "base_uri": "https://localhost:8080/"
        },
        "outputId": "f920eaf5-b22f-425e-fc33-1361d9fd2b9f"
      },
      "source": [
        "### YOUR CODE HERE ###\n",
        "X_test = pad_sequences(X_test, maxlen=max_sequence_len)\n",
        "predict = model.predict(X_test)\n",
        "\n",
        "y_test_list = list(y_test)"
      ],
      "execution_count": 38,
      "outputs": [
        {
          "output_type": "stream",
          "name": "stdout",
          "text": [
            "71/71 [==============================] - 3s 36ms/step\n"
          ]
        }
      ]
    },
    {
      "cell_type": "code",
      "source": [
        "predict = [np.argmax(i) for i in predict]\n",
        "c = 0\n",
        "predict_counts = [0] * 46\n",
        "test_counts = [0] * 46\n",
        "for i in range(len(predict)):\n",
        "  test_counts[y_test[i]] += 1\n",
        "  if(predict[i] == y_test[i]):\n",
        "    predict_counts[y_test[i]] += 1\n",
        "accuracies = [i / j for i, j in zip(predict_counts, test_counts)] \n",
        "for i, j in enumerate(accuracies):\n",
        "  print(\"Class {} prediction accuracy: \".format(i), j)"
      ],
      "metadata": {
        "colab": {
          "base_uri": "https://localhost:8080/"
        },
        "id": "2lYENkwftDEt",
        "outputId": "af9c7e6a-63e5-467d-ea45-04dc2b95b431"
      },
      "execution_count": 39,
      "outputs": [
        {
          "output_type": "stream",
          "name": "stdout",
          "text": [
            "Class 0 prediction accuracy:  0.5\n",
            "Class 1 prediction accuracy:  0.6448598130841121\n",
            "Class 2 prediction accuracy:  0.10526315789473684\n",
            "Class 3 prediction accuracy:  0.8729559748427673\n",
            "Class 4 prediction accuracy:  0.7319587628865979\n",
            "Class 5 prediction accuracy:  0.0\n",
            "Class 6 prediction accuracy:  0.25\n",
            "Class 7 prediction accuracy:  0.0\n",
            "Class 8 prediction accuracy:  0.5\n",
            "Class 9 prediction accuracy:  0.48\n",
            "Class 10 prediction accuracy:  0.7096774193548387\n",
            "Class 11 prediction accuracy:  0.45263157894736844\n",
            "Class 12 prediction accuracy:  0.16666666666666666\n",
            "Class 13 prediction accuracy:  0.2857142857142857\n",
            "Class 14 prediction accuracy:  0.16666666666666666\n",
            "Class 15 prediction accuracy:  0.0\n",
            "Class 16 prediction accuracy:  0.1834862385321101\n",
            "Class 17 prediction accuracy:  0.2\n",
            "Class 18 prediction accuracy:  0.7647058823529411\n",
            "Class 19 prediction accuracy:  0.5735294117647058\n",
            "Class 20 prediction accuracy:  0.5441176470588235\n",
            "Class 21 prediction accuracy:  0.32\n",
            "Class 22 prediction accuracy:  0.0\n",
            "Class 23 prediction accuracy:  0.09090909090909091\n",
            "Class 24 prediction accuracy:  0.25\n",
            "Class 25 prediction accuracy:  0.24\n",
            "Class 26 prediction accuracy:  0.0\n",
            "Class 27 prediction accuracy:  0.0\n",
            "Class 28 prediction accuracy:  0.3333333333333333\n",
            "Class 29 prediction accuracy:  0.0\n",
            "Class 30 prediction accuracy:  0.0\n",
            "Class 31 prediction accuracy:  0.2\n",
            "Class 32 prediction accuracy:  0.125\n",
            "Class 33 prediction accuracy:  0.0\n",
            "Class 34 prediction accuracy:  0.45454545454545453\n",
            "Class 35 prediction accuracy:  0.0\n",
            "Class 36 prediction accuracy:  0.16666666666666666\n",
            "Class 37 prediction accuracy:  0.0\n",
            "Class 38 prediction accuracy:  0.0\n",
            "Class 39 prediction accuracy:  0.0\n",
            "Class 40 prediction accuracy:  0.1111111111111111\n",
            "Class 41 prediction accuracy:  0.0\n",
            "Class 42 prediction accuracy:  0.0\n",
            "Class 43 prediction accuracy:  0.0\n",
            "Class 44 prediction accuracy:  0.0\n",
            "Class 45 prediction accuracy:  0.0\n"
          ]
        }
      ]
    },
    {
      "cell_type": "code",
      "source": [
        "from sklearn.metrics import classification_report\n",
        "\n",
        "target_names = [\"{}\".format(i) for i in range(46)]\n",
        "print(classification_report(y_test_list, predict, target_names = target_names) )\n"
      ],
      "metadata": {
        "colab": {
          "base_uri": "https://localhost:8080/"
        },
        "id": "vSOGGG9f1sSQ",
        "outputId": "feb20da9-25ed-438f-820f-88326bf530ce"
      },
      "execution_count": 40,
      "outputs": [
        {
          "output_type": "stream",
          "name": "stdout",
          "text": [
            "              precision    recall  f1-score   support\n",
            "\n",
            "           0       0.88      0.50      0.64        14\n",
            "           1       0.82      0.64      0.72       107\n",
            "           2       0.08      0.11      0.09        19\n",
            "           3       0.88      0.87      0.88       795\n",
            "           4       0.78      0.73      0.76       485\n",
            "           5       0.00      0.00      0.00         4\n",
            "           6       0.25      0.25      0.25        12\n",
            "           7       0.00      0.00      0.00         4\n",
            "           8       0.26      0.50      0.34        36\n",
            "           9       0.43      0.48      0.45        25\n",
            "          10       0.51      0.71      0.59        31\n",
            "          11       0.48      0.45      0.47        95\n",
            "          12       0.11      0.17      0.13        12\n",
            "          13       0.38      0.29      0.32        42\n",
            "          14       0.33      0.17      0.22         6\n",
            "          15       0.00      0.00      0.00         6\n",
            "          16       0.33      0.18      0.24       109\n",
            "          17       0.08      0.20      0.11        10\n",
            "          18       0.33      0.76      0.46        17\n",
            "          19       0.74      0.57      0.64       136\n",
            "          20       0.44      0.54      0.49        68\n",
            "          21       0.24      0.32      0.27        25\n",
            "          22       0.00      0.00      0.00         4\n",
            "          23       0.08      0.09      0.08        11\n",
            "          24       0.24      0.25      0.24        16\n",
            "          25       0.10      0.24      0.14        25\n",
            "          26       0.00      0.00      0.00         6\n",
            "          27       0.00      0.00      0.00         4\n",
            "          28       0.13      0.33      0.19        12\n",
            "          29       0.00      0.00      0.00         5\n",
            "          30       0.00      0.00      0.00        11\n",
            "          31       0.08      0.20      0.11        10\n",
            "          32       0.14      0.12      0.13         8\n",
            "          33       0.00      0.00      0.00         3\n",
            "          34       0.14      0.45      0.21        11\n",
            "          35       0.00      0.00      0.00         3\n",
            "          36       0.09      0.17      0.11        12\n",
            "          37       0.00      0.00      0.00         4\n",
            "          38       0.00      0.00      0.00         4\n",
            "          39       0.00      0.00      0.00         6\n",
            "          40       0.10      0.11      0.11         9\n",
            "          41       0.00      0.00      0.00         8\n",
            "          42       0.00      0.00      0.00         3\n",
            "          43       0.00      0.00      0.00         5\n",
            "          44       0.00      0.00      0.00         3\n",
            "          45       0.00      0.00      0.00         4\n",
            "\n",
            "    accuracy                           0.63      2245\n",
            "   macro avg       0.20      0.23      0.20      2245\n",
            "weighted avg       0.66      0.63      0.64      2245\n",
            "\n"
          ]
        },
        {
          "output_type": "stream",
          "name": "stderr",
          "text": [
            "/usr/local/lib/python3.8/dist-packages/sklearn/metrics/_classification.py:1318: UndefinedMetricWarning: Precision and F-score are ill-defined and being set to 0.0 in labels with no predicted samples. Use `zero_division` parameter to control this behavior.\n",
            "  _warn_prf(average, modifier, msg_start, len(result))\n",
            "/usr/local/lib/python3.8/dist-packages/sklearn/metrics/_classification.py:1318: UndefinedMetricWarning: Precision and F-score are ill-defined and being set to 0.0 in labels with no predicted samples. Use `zero_division` parameter to control this behavior.\n",
            "  _warn_prf(average, modifier, msg_start, len(result))\n",
            "/usr/local/lib/python3.8/dist-packages/sklearn/metrics/_classification.py:1318: UndefinedMetricWarning: Precision and F-score are ill-defined and being set to 0.0 in labels with no predicted samples. Use `zero_division` parameter to control this behavior.\n",
            "  _warn_prf(average, modifier, msg_start, len(result))\n"
          ]
        }
      ]
    }
  ]
}