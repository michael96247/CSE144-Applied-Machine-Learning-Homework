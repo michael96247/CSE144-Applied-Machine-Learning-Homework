{
  "nbformat": 4,
  "nbformat_minor": 0,
  "metadata": {
    "colab": {
      "provenance": [],
      "collapsed_sections": [
        "dlHfuG_UYnfG",
        "UfmMI_k5vZLx",
        "Di8yHQU2Yukr",
        "nG9NvytqOK7s",
        "YldeqJEoImZJ",
        "JEoRzxdUZEXE",
        "K-UjZojxjv5W",
        "lz031lPOZuDJ",
        "E7Mj2JJcImZW"
      ],
      "include_colab_link": true
    },
    "kernelspec": {
      "name": "python3",
      "display_name": "Python 3"
    },
    "language_info": {
      "name": "python"
    },
    "accelerator": "GPU",
    "gpuClass": "standard"
  },
  "cells": [
    {
      "cell_type": "markdown",
      "metadata": {
        "id": "view-in-github",
        "colab_type": "text"
      },
      "source": [
        "<a href=\"https://colab.research.google.com/github/michael96247/CSE144-Applied-Machine-Learning-Homework/blob/main/CSE_144_Assignment_2.ipynb\" target=\"_parent\"><img src=\"https://colab.research.google.com/assets/colab-badge.svg\" alt=\"Open In Colab\"/></a>"
      ]
    },
    {
      "cell_type": "code",
      "metadata": {
        "id": "2IlwhV0z2nMr"
      },
      "source": [
        "%matplotlib inline"
      ],
      "execution_count": 1,
      "outputs": []
    },
    {
      "cell_type": "markdown",
      "metadata": {
        "id": "Chprzdhe2nMw"
      },
      "source": [
        "# Assignment 2\n",
        "\n",
        "**DUE: Sunday October 23 at 11:59pm**\n",
        "\n",
        "Turn in the assignment via Canvas.\n",
        "\n",
        "To write legible answers you will need to be familiar with both [Markdown](https://github.com/adam-p/markdown-here/wiki/Markdown-Cheatsheet) and [Latex](https://www.latex-tutorial.com/tutorials/amsmath/)\n",
        "\n",
        "Before you turn this problem in, make sure everything runs as expected. First, restart the kernel (in the menubar, select Runtime→→Restart runtime) and then run all cells (in the menubar, select Runtime→→Run All).\n",
        "\n",
        "Make sure you fill in any place that says \"YOUR CODE HERE\" or \"YOUR ANSWER HERE\", as well as your name below:"
      ]
    },
    {
      "cell_type": "code",
      "metadata": {
        "id": "8jeWubXE2nMx"
      },
      "source": [
        "NAME = \"Michael Chen\"\n",
        "STUDENT_ID = \"1772059\""
      ],
      "execution_count": 2,
      "outputs": []
    },
    {
      "cell_type": "markdown",
      "metadata": {
        "id": "ozDglVovkHJJ"
      },
      "source": [
        "## Problem 1 - Yield Dataset with Polynomial Regression"
      ]
    },
    {
      "cell_type": "code",
      "metadata": {
        "id": "7qm6WAqNPRRu"
      },
      "source": [
        "import numpy as np\n",
        "import matplotlib.pyplot as plt\n",
        "import pandas as pd\n",
        "import seaborn as sns"
      ],
      "execution_count": 3,
      "outputs": []
    },
    {
      "cell_type": "markdown",
      "metadata": {
        "id": "q20rkd3LlkHs"
      },
      "source": [
        "This dataset of size $n = 15$ contains measurements of yield from an experiment done at five different temperature levels. The variables are $y = yield$ and $x = temperature$ in degrees Fahrenheit. Download the data from PyDrive."
      ]
    },
    {
      "cell_type": "code",
      "metadata": {
        "id": "oyKWchKWIvPi"
      },
      "source": [
        "!pip install -U -q PyDrive\n",
        "from pydrive.auth import GoogleAuth\n",
        "from pydrive.drive import GoogleDrive\n",
        "from google.colab import auth\n",
        "from oauth2client.client import GoogleCredentials"
      ],
      "execution_count": 4,
      "outputs": []
    },
    {
      "cell_type": "code",
      "metadata": {
        "id": "UwexIqp8I_lF"
      },
      "source": [
        "auth.authenticate_user()\n",
        "gauth = GoogleAuth()\n",
        "gauth.credentials = GoogleCredentials.get_application_default()\n",
        "drive = GoogleDrive(gauth)"
      ],
      "execution_count": 5,
      "outputs": []
    },
    {
      "cell_type": "code",
      "metadata": {
        "id": "dLF5xucumaai"
      },
      "source": [
        "downloaded = drive.CreateFile({'id':\"1Oikuudc0715xr2QezMpKTNAD4_SdMfH3\"})\n",
        "downloaded.GetContentFile('yield.csv')  "
      ],
      "execution_count": 6,
      "outputs": []
    },
    {
      "cell_type": "code",
      "metadata": {
        "id": "kpxch0eIm2D3"
      },
      "source": [
        "# Create pandas dataframe\n",
        "data = pd.read_csv('yield.csv')"
      ],
      "execution_count": 7,
      "outputs": []
    },
    {
      "cell_type": "code",
      "metadata": {
        "id": "wEGGgoy6nD4w",
        "colab": {
          "base_uri": "https://localhost:8080/",
          "height": 488
        },
        "outputId": "27f7c06e-431d-4d90-c55b-4a3172d3e2fe"
      },
      "source": [
        "# Let's look at the data\n",
        "data"
      ],
      "execution_count": 8,
      "outputs": [
        {
          "output_type": "execute_result",
          "data": {
            "text/plain": [
              "     50  3.3\n",
              "0    50  2.8\n",
              "1    50  2.9\n",
              "2    70  2.3\n",
              "3    70  2.6\n",
              "4    70  2.1\n",
              "5    80  2.5\n",
              "6    80  2.9\n",
              "7    80  2.4\n",
              "8    90  3.0\n",
              "9    90  3.1\n",
              "10   90  2.8\n",
              "11  100  3.3\n",
              "12  100  3.5\n",
              "13  100  3.0"
            ],
            "text/html": [
              "\n",
              "  <div id=\"df-cb1e3216-654d-44a9-a0d3-64e232504750\">\n",
              "    <div class=\"colab-df-container\">\n",
              "      <div>\n",
              "<style scoped>\n",
              "    .dataframe tbody tr th:only-of-type {\n",
              "        vertical-align: middle;\n",
              "    }\n",
              "\n",
              "    .dataframe tbody tr th {\n",
              "        vertical-align: top;\n",
              "    }\n",
              "\n",
              "    .dataframe thead th {\n",
              "        text-align: right;\n",
              "    }\n",
              "</style>\n",
              "<table border=\"1\" class=\"dataframe\">\n",
              "  <thead>\n",
              "    <tr style=\"text-align: right;\">\n",
              "      <th></th>\n",
              "      <th>50</th>\n",
              "      <th>3.3</th>\n",
              "    </tr>\n",
              "  </thead>\n",
              "  <tbody>\n",
              "    <tr>\n",
              "      <th>0</th>\n",
              "      <td>50</td>\n",
              "      <td>2.8</td>\n",
              "    </tr>\n",
              "    <tr>\n",
              "      <th>1</th>\n",
              "      <td>50</td>\n",
              "      <td>2.9</td>\n",
              "    </tr>\n",
              "    <tr>\n",
              "      <th>2</th>\n",
              "      <td>70</td>\n",
              "      <td>2.3</td>\n",
              "    </tr>\n",
              "    <tr>\n",
              "      <th>3</th>\n",
              "      <td>70</td>\n",
              "      <td>2.6</td>\n",
              "    </tr>\n",
              "    <tr>\n",
              "      <th>4</th>\n",
              "      <td>70</td>\n",
              "      <td>2.1</td>\n",
              "    </tr>\n",
              "    <tr>\n",
              "      <th>5</th>\n",
              "      <td>80</td>\n",
              "      <td>2.5</td>\n",
              "    </tr>\n",
              "    <tr>\n",
              "      <th>6</th>\n",
              "      <td>80</td>\n",
              "      <td>2.9</td>\n",
              "    </tr>\n",
              "    <tr>\n",
              "      <th>7</th>\n",
              "      <td>80</td>\n",
              "      <td>2.4</td>\n",
              "    </tr>\n",
              "    <tr>\n",
              "      <th>8</th>\n",
              "      <td>90</td>\n",
              "      <td>3.0</td>\n",
              "    </tr>\n",
              "    <tr>\n",
              "      <th>9</th>\n",
              "      <td>90</td>\n",
              "      <td>3.1</td>\n",
              "    </tr>\n",
              "    <tr>\n",
              "      <th>10</th>\n",
              "      <td>90</td>\n",
              "      <td>2.8</td>\n",
              "    </tr>\n",
              "    <tr>\n",
              "      <th>11</th>\n",
              "      <td>100</td>\n",
              "      <td>3.3</td>\n",
              "    </tr>\n",
              "    <tr>\n",
              "      <th>12</th>\n",
              "      <td>100</td>\n",
              "      <td>3.5</td>\n",
              "    </tr>\n",
              "    <tr>\n",
              "      <th>13</th>\n",
              "      <td>100</td>\n",
              "      <td>3.0</td>\n",
              "    </tr>\n",
              "  </tbody>\n",
              "</table>\n",
              "</div>\n",
              "      <button class=\"colab-df-convert\" onclick=\"convertToInteractive('df-cb1e3216-654d-44a9-a0d3-64e232504750')\"\n",
              "              title=\"Convert this dataframe to an interactive table.\"\n",
              "              style=\"display:none;\">\n",
              "        \n",
              "  <svg xmlns=\"http://www.w3.org/2000/svg\" height=\"24px\"viewBox=\"0 0 24 24\"\n",
              "       width=\"24px\">\n",
              "    <path d=\"M0 0h24v24H0V0z\" fill=\"none\"/>\n",
              "    <path d=\"M18.56 5.44l.94 2.06.94-2.06 2.06-.94-2.06-.94-.94-2.06-.94 2.06-2.06.94zm-11 1L8.5 8.5l.94-2.06 2.06-.94-2.06-.94L8.5 2.5l-.94 2.06-2.06.94zm10 10l.94 2.06.94-2.06 2.06-.94-2.06-.94-.94-2.06-.94 2.06-2.06.94z\"/><path d=\"M17.41 7.96l-1.37-1.37c-.4-.4-.92-.59-1.43-.59-.52 0-1.04.2-1.43.59L10.3 9.45l-7.72 7.72c-.78.78-.78 2.05 0 2.83L4 21.41c.39.39.9.59 1.41.59.51 0 1.02-.2 1.41-.59l7.78-7.78 2.81-2.81c.8-.78.8-2.07 0-2.86zM5.41 20L4 18.59l7.72-7.72 1.47 1.35L5.41 20z\"/>\n",
              "  </svg>\n",
              "      </button>\n",
              "      \n",
              "  <style>\n",
              "    .colab-df-container {\n",
              "      display:flex;\n",
              "      flex-wrap:wrap;\n",
              "      gap: 12px;\n",
              "    }\n",
              "\n",
              "    .colab-df-convert {\n",
              "      background-color: #E8F0FE;\n",
              "      border: none;\n",
              "      border-radius: 50%;\n",
              "      cursor: pointer;\n",
              "      display: none;\n",
              "      fill: #1967D2;\n",
              "      height: 32px;\n",
              "      padding: 0 0 0 0;\n",
              "      width: 32px;\n",
              "    }\n",
              "\n",
              "    .colab-df-convert:hover {\n",
              "      background-color: #E2EBFA;\n",
              "      box-shadow: 0px 1px 2px rgba(60, 64, 67, 0.3), 0px 1px 3px 1px rgba(60, 64, 67, 0.15);\n",
              "      fill: #174EA6;\n",
              "    }\n",
              "\n",
              "    [theme=dark] .colab-df-convert {\n",
              "      background-color: #3B4455;\n",
              "      fill: #D2E3FC;\n",
              "    }\n",
              "\n",
              "    [theme=dark] .colab-df-convert:hover {\n",
              "      background-color: #434B5C;\n",
              "      box-shadow: 0px 1px 3px 1px rgba(0, 0, 0, 0.15);\n",
              "      filter: drop-shadow(0px 1px 2px rgba(0, 0, 0, 0.3));\n",
              "      fill: #FFFFFF;\n",
              "    }\n",
              "  </style>\n",
              "\n",
              "      <script>\n",
              "        const buttonEl =\n",
              "          document.querySelector('#df-cb1e3216-654d-44a9-a0d3-64e232504750 button.colab-df-convert');\n",
              "        buttonEl.style.display =\n",
              "          google.colab.kernel.accessAllowed ? 'block' : 'none';\n",
              "\n",
              "        async function convertToInteractive(key) {\n",
              "          const element = document.querySelector('#df-cb1e3216-654d-44a9-a0d3-64e232504750');\n",
              "          const dataTable =\n",
              "            await google.colab.kernel.invokeFunction('convertToInteractive',\n",
              "                                                     [key], {});\n",
              "          if (!dataTable) return;\n",
              "\n",
              "          const docLinkHtml = 'Like what you see? Visit the ' +\n",
              "            '<a target=\"_blank\" href=https://colab.research.google.com/notebooks/data_table.ipynb>data table notebook</a>'\n",
              "            + ' to learn more about interactive tables.';\n",
              "          element.innerHTML = '';\n",
              "          dataTable['output_type'] = 'display_data';\n",
              "          await google.colab.output.renderOutput(dataTable, element);\n",
              "          const docLink = document.createElement('div');\n",
              "          docLink.innerHTML = docLinkHtml;\n",
              "          element.appendChild(docLink);\n",
              "        }\n",
              "      </script>\n",
              "    </div>\n",
              "  </div>\n",
              "  "
            ]
          },
          "metadata": {},
          "execution_count": 8
        }
      ]
    },
    {
      "cell_type": "code",
      "metadata": {
        "id": "u1E3XKXgnIqq",
        "colab": {
          "base_uri": "https://localhost:8080/",
          "height": 300
        },
        "outputId": "8d3e3d3c-5938-4b1f-95f9-f6a2a5e07d9e"
      },
      "source": [
        "# Look at data description\n",
        "data.describe()"
      ],
      "execution_count": 9,
      "outputs": [
        {
          "output_type": "execute_result",
          "data": {
            "text/plain": [
              "               50       3.3\n",
              "count   14.000000  14.00000\n",
              "mean    80.000000   2.80000\n",
              "std     16.641006   0.38829\n",
              "min     50.000000   2.10000\n",
              "25%     70.000000   2.52500\n",
              "50%     80.000000   2.85000\n",
              "75%     90.000000   3.00000\n",
              "max    100.000000   3.50000"
            ],
            "text/html": [
              "\n",
              "  <div id=\"df-73a53433-4f2d-47b0-8569-b69b7889cb30\">\n",
              "    <div class=\"colab-df-container\">\n",
              "      <div>\n",
              "<style scoped>\n",
              "    .dataframe tbody tr th:only-of-type {\n",
              "        vertical-align: middle;\n",
              "    }\n",
              "\n",
              "    .dataframe tbody tr th {\n",
              "        vertical-align: top;\n",
              "    }\n",
              "\n",
              "    .dataframe thead th {\n",
              "        text-align: right;\n",
              "    }\n",
              "</style>\n",
              "<table border=\"1\" class=\"dataframe\">\n",
              "  <thead>\n",
              "    <tr style=\"text-align: right;\">\n",
              "      <th></th>\n",
              "      <th>50</th>\n",
              "      <th>3.3</th>\n",
              "    </tr>\n",
              "  </thead>\n",
              "  <tbody>\n",
              "    <tr>\n",
              "      <th>count</th>\n",
              "      <td>14.000000</td>\n",
              "      <td>14.00000</td>\n",
              "    </tr>\n",
              "    <tr>\n",
              "      <th>mean</th>\n",
              "      <td>80.000000</td>\n",
              "      <td>2.80000</td>\n",
              "    </tr>\n",
              "    <tr>\n",
              "      <th>std</th>\n",
              "      <td>16.641006</td>\n",
              "      <td>0.38829</td>\n",
              "    </tr>\n",
              "    <tr>\n",
              "      <th>min</th>\n",
              "      <td>50.000000</td>\n",
              "      <td>2.10000</td>\n",
              "    </tr>\n",
              "    <tr>\n",
              "      <th>25%</th>\n",
              "      <td>70.000000</td>\n",
              "      <td>2.52500</td>\n",
              "    </tr>\n",
              "    <tr>\n",
              "      <th>50%</th>\n",
              "      <td>80.000000</td>\n",
              "      <td>2.85000</td>\n",
              "    </tr>\n",
              "    <tr>\n",
              "      <th>75%</th>\n",
              "      <td>90.000000</td>\n",
              "      <td>3.00000</td>\n",
              "    </tr>\n",
              "    <tr>\n",
              "      <th>max</th>\n",
              "      <td>100.000000</td>\n",
              "      <td>3.50000</td>\n",
              "    </tr>\n",
              "  </tbody>\n",
              "</table>\n",
              "</div>\n",
              "      <button class=\"colab-df-convert\" onclick=\"convertToInteractive('df-73a53433-4f2d-47b0-8569-b69b7889cb30')\"\n",
              "              title=\"Convert this dataframe to an interactive table.\"\n",
              "              style=\"display:none;\">\n",
              "        \n",
              "  <svg xmlns=\"http://www.w3.org/2000/svg\" height=\"24px\"viewBox=\"0 0 24 24\"\n",
              "       width=\"24px\">\n",
              "    <path d=\"M0 0h24v24H0V0z\" fill=\"none\"/>\n",
              "    <path d=\"M18.56 5.44l.94 2.06.94-2.06 2.06-.94-2.06-.94-.94-2.06-.94 2.06-2.06.94zm-11 1L8.5 8.5l.94-2.06 2.06-.94-2.06-.94L8.5 2.5l-.94 2.06-2.06.94zm10 10l.94 2.06.94-2.06 2.06-.94-2.06-.94-.94-2.06-.94 2.06-2.06.94z\"/><path d=\"M17.41 7.96l-1.37-1.37c-.4-.4-.92-.59-1.43-.59-.52 0-1.04.2-1.43.59L10.3 9.45l-7.72 7.72c-.78.78-.78 2.05 0 2.83L4 21.41c.39.39.9.59 1.41.59.51 0 1.02-.2 1.41-.59l7.78-7.78 2.81-2.81c.8-.78.8-2.07 0-2.86zM5.41 20L4 18.59l7.72-7.72 1.47 1.35L5.41 20z\"/>\n",
              "  </svg>\n",
              "      </button>\n",
              "      \n",
              "  <style>\n",
              "    .colab-df-container {\n",
              "      display:flex;\n",
              "      flex-wrap:wrap;\n",
              "      gap: 12px;\n",
              "    }\n",
              "\n",
              "    .colab-df-convert {\n",
              "      background-color: #E8F0FE;\n",
              "      border: none;\n",
              "      border-radius: 50%;\n",
              "      cursor: pointer;\n",
              "      display: none;\n",
              "      fill: #1967D2;\n",
              "      height: 32px;\n",
              "      padding: 0 0 0 0;\n",
              "      width: 32px;\n",
              "    }\n",
              "\n",
              "    .colab-df-convert:hover {\n",
              "      background-color: #E2EBFA;\n",
              "      box-shadow: 0px 1px 2px rgba(60, 64, 67, 0.3), 0px 1px 3px 1px rgba(60, 64, 67, 0.15);\n",
              "      fill: #174EA6;\n",
              "    }\n",
              "\n",
              "    [theme=dark] .colab-df-convert {\n",
              "      background-color: #3B4455;\n",
              "      fill: #D2E3FC;\n",
              "    }\n",
              "\n",
              "    [theme=dark] .colab-df-convert:hover {\n",
              "      background-color: #434B5C;\n",
              "      box-shadow: 0px 1px 3px 1px rgba(0, 0, 0, 0.15);\n",
              "      filter: drop-shadow(0px 1px 2px rgba(0, 0, 0, 0.3));\n",
              "      fill: #FFFFFF;\n",
              "    }\n",
              "  </style>\n",
              "\n",
              "      <script>\n",
              "        const buttonEl =\n",
              "          document.querySelector('#df-73a53433-4f2d-47b0-8569-b69b7889cb30 button.colab-df-convert');\n",
              "        buttonEl.style.display =\n",
              "          google.colab.kernel.accessAllowed ? 'block' : 'none';\n",
              "\n",
              "        async function convertToInteractive(key) {\n",
              "          const element = document.querySelector('#df-73a53433-4f2d-47b0-8569-b69b7889cb30');\n",
              "          const dataTable =\n",
              "            await google.colab.kernel.invokeFunction('convertToInteractive',\n",
              "                                                     [key], {});\n",
              "          if (!dataTable) return;\n",
              "\n",
              "          const docLinkHtml = 'Like what you see? Visit the ' +\n",
              "            '<a target=\"_blank\" href=https://colab.research.google.com/notebooks/data_table.ipynb>data table notebook</a>'\n",
              "            + ' to learn more about interactive tables.';\n",
              "          element.innerHTML = '';\n",
              "          dataTable['output_type'] = 'display_data';\n",
              "          await google.colab.output.renderOutput(dataTable, element);\n",
              "          const docLink = document.createElement('div');\n",
              "          docLink.innerHTML = docLinkHtml;\n",
              "          element.appendChild(docLink);\n",
              "        }\n",
              "      </script>\n",
              "    </div>\n",
              "  </div>\n",
              "  "
            ]
          },
          "metadata": {},
          "execution_count": 9
        }
      ]
    },
    {
      "cell_type": "code",
      "metadata": {
        "id": "_CZhvRnRogIL"
      },
      "source": [
        "# Split data in X and y using pandas functionality.\n",
        "X = data.iloc[:,0] # Create vector of explanatory variables\n",
        "y = data.iloc[:,1] # Create vector of target variables\n",
        "\n",
        "# Cast dataframes into numpy arrays\n",
        "X = X.values\n",
        "y = y.values\n",
        "\n",
        "# Split data into X_train, Y_train, X_test y_test using sklearn\n",
        "from sklearn.model_selection import train_test_split\n",
        "X_train, X_test, y_train, y_test = train_test_split(X, y, test_size = 0.30, random_state = 0)\n",
        "\n",
        "# Reshape X_train, X_test for sklearn LinearRegression\n",
        "X_train = X_train.reshape(-1,1)\n",
        "X_test = X_test.reshape(-1,1)"
      ],
      "execution_count": 10,
      "outputs": []
    },
    {
      "cell_type": "markdown",
      "metadata": {
        "id": "P-6uuoH9m31F"
      },
      "source": [
        "### a) Linear Regression (10 points)"
      ]
    },
    {
      "cell_type": "markdown",
      "metadata": {
        "id": "cO7NdJ0YnNfi"
      },
      "source": [
        "We will run a simple linear regression on this well-curated dataset using sklearn's **LinearRegression**.\n",
        "\n",
        "Hint: Review the sklearn docs https://scikit-learn.org/stable/modules/generated/sklearn.linear_model.LinearRegression.html and class exercise."
      ]
    },
    {
      "cell_type": "code",
      "metadata": {
        "id": "dvZTcsNzpZXq",
        "colab": {
          "base_uri": "https://localhost:8080/"
        },
        "outputId": "e86678a7-c40a-4bcf-a30f-eb0fbb5c9265"
      },
      "source": [
        "from sklearn.linear_model import LinearRegression\n",
        "\n",
        "from sklearn import linear_model\n",
        "# Instantiate LinearRegression\n",
        "regressor = LinearRegression() ### YOUR CODE HERE ### \n",
        "\n",
        "# Fit the regressor using X_train and y_train\n",
        "regressor.fit(X_train, y_train)\n",
        "\n",
        "### YOUR CODE HERE ###"
      ],
      "execution_count": 11,
      "outputs": [
        {
          "output_type": "execute_result",
          "data": {
            "text/plain": [
              "LinearRegression()"
            ]
          },
          "metadata": {},
          "execution_count": 11
        }
      ]
    },
    {
      "cell_type": "markdown",
      "metadata": {
        "id": "YEUvILxltp1o"
      },
      "source": [
        "Let's now visually inspect the model and see how well this model predicts the yield. \n",
        "* First, plot the yield vs. temperature points from training set in black.\n",
        "* Then, plot the regression line in red. Predictions from the regression model lie along the red line."
      ]
    },
    {
      "cell_type": "code",
      "metadata": {
        "id": "qkaRSeQxs00h",
        "colab": {
          "base_uri": "https://localhost:8080/",
          "height": 265
        },
        "outputId": "09490162-5ca8-4a18-8e5f-de08a83babbc"
      },
      "source": [
        "# Plot the actual yield (y_train) vs. temperature values from training set\n",
        "\n",
        "### YOUR CODE HERE ###\n",
        "\n",
        "plt.scatter(X_train, y_train, color='black')\n",
        "\n",
        "line_x = np.linspace( np.min(X_train),np.max(X_train) ,9)\n",
        "line_y = line_x * regressor.coef_ + regressor.intercept_ #regressor.predict(X_train)\n",
        "plt.plot(line_x, line_y, color='red', linewidth=3)\n",
        "plt.show()\n",
        "\n",
        "### YOUR CODE HERE ###\n"
      ],
      "execution_count": 12,
      "outputs": [
        {
          "output_type": "display_data",
          "data": {
            "text/plain": [
              "<Figure size 432x288 with 1 Axes>"
            ],
            "image/png": "[encoded data removed]"
          },
          "metadata": {
            "needs_background": "light"
          }
        }
      ]
    },
    {
      "cell_type": "markdown",
      "metadata": {
        "id": "VDEu6LcfuLG4"
      },
      "source": [
        "Let's also visually inspect the prediction results from the test set.\n",
        "* First, plot the yield vs. temperature points from the test set in black\n",
        "* Then plot the regression line in red to see how prediction is similar to or different from the actual target."
      ]
    },
    {
      "cell_type": "code",
      "metadata": {
        "id": "pNppCKKTrHtW",
        "colab": {
          "base_uri": "https://localhost:8080/",
          "height": 265
        },
        "outputId": "15a216ff-4b33-47af-d2c9-6eb880d522fa"
      },
      "source": [
        "# Plot the actual yield (y_test) vs. temperature values  for the test set\n",
        "plt.scatter(X_test, y_test, color='black')\n",
        "# plt.title('Regression line and training data')\n",
        "\n",
        "### YOUR CODE HERE ###\n",
        "\n",
        "# Plot the regression line\n",
        "line_x = np.linspace( np.min(X_test),np.max(X_test) ,5)\n",
        "line_y = line_x * regressor.coef_ + regressor.intercept_# regressor.predict(X_test)\n",
        "plt.plot(line_x, line_y, color='red', linewidth=3)\n",
        "\n",
        "plt.show()\n",
        "\n",
        "### YOUR CODE HERE ###"
      ],
      "execution_count": 13,
      "outputs": [
        {
          "output_type": "display_data",
          "data": {
            "text/plain": [
              "<Figure size 432x288 with 1 Axes>"
            ],
            "image/png": "[encoded data removed]"
          },
          "metadata": {
            "needs_background": "light"
          }
        }
      ]
    },
    {
      "cell_type": "markdown",
      "metadata": {
        "id": "dlHfuG_UYnfG"
      },
      "source": [
        "### b) Inspecting Linear Regression Model (5 points)"
      ]
    },
    {
      "cell_type": "markdown",
      "metadata": {
        "id": "nNWLywqeuzR9"
      },
      "source": [
        "After inspecting the results visually, does this model appear to be a good or bad fit on the test set and training set? "
      ]
    },
    {
      "cell_type": "markdown",
      "metadata": {
        "id": "og-QtiEOvKgn"
      },
      "source": [
        "[YOUR ANSWER HERE] \n",
        "The model appears to be an ok fit for the training set. But it appears to be a bad fit on the test set. It seems like it requires polynomial regression."
      ]
    },
    {
      "cell_type": "markdown",
      "metadata": {
        "id": "OrI7XG0qP0aW"
      },
      "source": [
        "Does the model display signs of underfitting? If so, why?"
      ]
    },
    {
      "cell_type": "markdown",
      "metadata": {
        "id": "1z9GhfWcP_eO"
      },
      "source": [
        "[YOUR ANSWER HERE]\n",
        "The model displays signs of underfitting. The pattern that appears in the test set seems to be like a log function. It looks like it requires polynomial regression."
      ]
    },
    {
      "cell_type": "markdown",
      "metadata": {
        "id": "UfmMI_k5vZLx"
      },
      "source": [
        "### c) Polynomial Regression (10 points)"
      ]
    },
    {
      "cell_type": "markdown",
      "metadata": {
        "id": "-OVJMeKAyb2J"
      },
      "source": [
        "Data may not follow a linear relationship from the independent variable $X$ to the dependent variable $y$. Fitting a linear model to this would be inaccurate and yield a high loss. \n",
        "\n",
        "If we want to model an order $d$ polynomial relationship between $X$ and $y$ we can augment our initial linear model where instead of having:\n",
        "$$\n",
        "y^{(i)} = \\theta_0 + \\theta_1 x^{(i)}\n",
        "$$\n",
        "\n",
        "We have:\n",
        "\n",
        "$$\n",
        "y^{(i)} = \\theta_0 + \\theta_1 x^{(i)} + \\theta_2 {x^{(i)}}^2 + \\cdots + \\theta_d {x^{(i)}}^d\n",
        "$$\n",
        "\n",
        "We can use the same linear regression algorithm we if we first augment $X$ and add extra columns (or dimensions). \n",
        "\n",
        "$$ \\textbf X =\n",
        "\\begin{bmatrix}\n",
        "    x^{(1)}       & {x^{(1)}}^2 & \\cdots & {x^{(1)}}^d \\\\\n",
        "    x^{(2)}       & {x^{(2)}}^2 & \\cdots & {x^{(2)}}^d \\\\\n",
        "    \\vdots       & \\vdots & \\ddots & \\vdots \\\\\n",
        "    x^{(n)}       & {x^{(n)}}^2 & \\cdots & {x^{(n)}}^d\n",
        "\\end{bmatrix}$$\n",
        "\n",
        "Then our new higher order $\\hat Y$ is computed same as before.\n",
        "\n",
        "$$ \\hat Y =  X \\theta =\n",
        "\\begin{bmatrix}\n",
        "    1 & x^{(1)}       & {x^{(1)}}^2 & \\cdots & {x^{(1)}}^d \\\\\n",
        "    1 & x^{(2)}       & {x^{(2)}}^2 & \\cdots & {x^{(2)}}^d \\\\\n",
        "    \\vdots & \\vdots       & \\vdots & \\ddots & \\vdots \\\\\n",
        "    1 & x^{(n)}       & {x^{(n)}}^2 & \\cdots & {x^{(n)}}^d\n",
        "\\end{bmatrix}\n",
        "\\begin{bmatrix}\\theta_0 \\\\ \\theta_1 \\\\ \\vdots \\\\ \\theta_{d} \n",
        "\\end{bmatrix}=\n",
        "\\begin{bmatrix}\n",
        "    \\theta_0 + \\theta_1 x^{(1)} + \\theta_2 {x^{(1)}}^2 + \\cdots + \\theta_{d}  {x^{(1)}}^d \\\\\n",
        "    \\theta_0 + \\theta_1 x^{(2)} + \\theta_2 {x^{(2)}}^2 + \\cdots + \\theta_{d}  {x^{(2)}}^d  \\\\\n",
        "    \\vdots   \\\\\n",
        "    \\theta_0 + \\theta_1 x^{(n)} + \\theta_2 {x^{(n)}}^2 + \\cdots + \\theta_{d}  {x^{(n)}}^d\n",
        "\\end{bmatrix} \n",
        "= \\begin{bmatrix}\\hat y^{(1)} \\\\ \\hat y^{(2)} \\\\ \\vdots \\\\ \\hat y^{(n)} \n",
        "\\end{bmatrix}$$"
      ]
    },
    {
      "cell_type": "markdown",
      "metadata": {
        "id": "GEgFFYh9vppr"
      },
      "source": [
        "Using sklearn's **PolynomialFeatures** functionality, we will now transform X_train and X_test into second order polynomial space.\n",
        "\n",
        "For more info: https://scikit-learn.org/stable/modules/generated/sklearn.preprocessing.PolynomialFeatures.html"
      ]
    },
    {
      "cell_type": "code",
      "metadata": {
        "id": "KTMHoLIxw61l",
        "colab": {
          "base_uri": "https://localhost:8080/"
        },
        "outputId": "791f5514-f572-4cb0-d146-b057c6105b31"
      },
      "source": [
        "# First, lets look at the values of X_train\n",
        "print(X_train)"
      ],
      "execution_count": 14,
      "outputs": [
        {
          "output_type": "stream",
          "name": "stdout",
          "text": [
            "[[100]\n",
            " [ 90]\n",
            " [ 50]\n",
            " [ 80]\n",
            " [ 90]\n",
            " [ 70]\n",
            " [ 50]\n",
            " [ 80]\n",
            " [100]]\n"
          ]
        }
      ]
    },
    {
      "cell_type": "code",
      "metadata": {
        "id": "kPEUwbX0wN5-",
        "colab": {
          "base_uri": "https://localhost:8080/"
        },
        "outputId": "4ce95148-e2c7-43de-f453-5d59a5f5c0ce"
      },
      "source": [
        "from sklearn.preprocessing import PolynomialFeatures\n",
        "\n",
        "# Creates polynomial transform of degree 2\n",
        "poly = PolynomialFeatures(2)\n",
        "\n",
        "# Transform X_train X_test\n",
        "X_train_pol = poly.fit_transform(X_train)\n",
        "X_test_pol = poly.fit_transform(X_test)\n",
        "\n",
        "# Print X_train_pol\n",
        "print(X_train_pol)"
      ],
      "execution_count": 15,
      "outputs": [
        {
          "output_type": "stream",
          "name": "stdout",
          "text": [
            "[[1.0e+00 1.0e+02 1.0e+04]\n",
            " [1.0e+00 9.0e+01 8.1e+03]\n",
            " [1.0e+00 5.0e+01 2.5e+03]\n",
            " [1.0e+00 8.0e+01 6.4e+03]\n",
            " [1.0e+00 9.0e+01 8.1e+03]\n",
            " [1.0e+00 7.0e+01 4.9e+03]\n",
            " [1.0e+00 5.0e+01 2.5e+03]\n",
            " [1.0e+00 8.0e+01 6.4e+03]\n",
            " [1.0e+00 1.0e+02 1.0e+04]]\n"
          ]
        }
      ]
    },
    {
      "cell_type": "markdown",
      "metadata": {
        "id": "FByoPNOWxK_o"
      },
      "source": [
        "We can now fit a second degree polynomial regression model to the transformed data."
      ]
    },
    {
      "cell_type": "code",
      "metadata": {
        "id": "z2nbImhTzHDV",
        "colab": {
          "base_uri": "https://localhost:8080/"
        },
        "outputId": "a00e4f84-0919-475b-9be8-791ad90c4cbe"
      },
      "source": [
        "from sklearn.linear_model import LinearRegression\n",
        "# Instantiate LinearRegression\n",
        "regressor = LinearRegression()  ### YOUR CODE HERE ### \n",
        "\n",
        "# Fit the regressor using X_train_pol and y_train\n",
        "regressor.fit(X_train_pol, y_train)\n",
        "\n",
        "### YOUR CODE HERE ###"
      ],
      "execution_count": 16,
      "outputs": [
        {
          "output_type": "execute_result",
          "data": {
            "text/plain": [
              "LinearRegression()"
            ]
          },
          "metadata": {},
          "execution_count": 16
        }
      ]
    },
    {
      "cell_type": "markdown",
      "metadata": {
        "id": "P2mFEIoB0IdM"
      },
      "source": [
        "Now, visually inspect the polynomial regression model and see how well this model predicts the yield on the training set. \n",
        "\n",
        "Plot the yield vs. temperature points in black along with the polynomial regression line in red. Hint: For plotting the regression line, you can use the plot function to interpolate the regression line based on the model's prediction on data points."
      ]
    },
    {
      "cell_type": "code",
      "metadata": {
        "id": "nZ3TpGZ30IdN",
        "colab": {
          "base_uri": "https://localhost:8080/",
          "height": 0
        },
        "outputId": "a82b2e5f-7f29-4dc6-8445-74beeb155fbe"
      },
      "source": [
        "# Plot the actual yield (y_train) vs temp. values from training set\n",
        "\n",
        "plt.scatter(X_train, y_train, color='black')  ### YOUR CODE HERE ###\n",
        "\n",
        "# plt.plot(X_train_pol,regressor.predict(X_train_pol),'-r')\n",
        "# plt.plot(line_x ,regressor.predict(X_train_pol),'-r')\n",
        "x_line = np.linspace( np.min(X_train),np.max(X_train) ,100).reshape(-1, 1)\n",
        "x_line = poly.fit_transform(x_line)\n",
        "\n",
        "y_line = regressor.predict(x_line)\n",
        "plt.plot(np.linspace( np.min(X_train),np.max(X_train) ,100), y_line, color='red', linewidth=3)\n",
        "plt.show()\n",
        "\n",
        "### YOUR CODE HERE ###"
      ],
      "execution_count": 17,
      "outputs": [
        {
          "output_type": "display_data",
          "data": {
            "text/plain": [
              "<Figure size 432x288 with 1 Axes>"
            ],
            "image/png": "[encoded data removed]"
          },
          "metadata": {
            "needs_background": "light"
          }
        }
      ]
    },
    {
      "cell_type": "markdown",
      "metadata": {
        "id": "eiN6blfA0zsr"
      },
      "source": [
        "Lastly, let's plot the test set yield vs. temperature points along with the polynomial regression line."
      ]
    },
    {
      "cell_type": "code",
      "metadata": {
        "id": "3fcQtM8g00_z",
        "colab": {
          "base_uri": "https://localhost:8080/",
          "height": 0
        },
        "outputId": "109bf2d3-2e6c-40d1-e602-14b80fd93467"
      },
      "source": [
        "# Plot the actual yield (y_test) vs temp. values from test set\n",
        "\n",
        "plt.scatter(X_test, y_test, color='black')\n",
        "\n",
        "plt.title('Regression line and training data')\n",
        "\n",
        "### YOUR CODE HERE ###\n",
        "\n",
        "\n",
        "# Plot the regression line\n",
        "# plt.plot(line_x, line_y, color='orangered', linewidth=3)\n",
        "x_line = np.linspace( np.min(X_test),np.max(X_test) ,100).reshape(-1, 1)\n",
        "x_line = poly.fit_transform(x_line)\n",
        "y_line = regressor.predict(x_line)\n",
        "plt.plot(np.linspace( np.min(X_test),np.max(X_test) ,100), y_line, color='red', linewidth=3)\n",
        "plt.show()\n",
        "\n",
        "### YOUR CODE HERE ###"
      ],
      "execution_count": 18,
      "outputs": [
        {
          "output_type": "display_data",
          "data": {
            "text/plain": [
              "<Figure size 432x288 with 1 Axes>"
            ],
            "image/png": "[encoded data removed]"
          },
          "metadata": {
            "needs_background": "light"
          }
        }
      ]
    },
    {
      "cell_type": "markdown",
      "metadata": {
        "id": "Di8yHQU2Yukr"
      },
      "source": [
        "### d) Inpsecting Polynomial Regression Model (5 points)"
      ]
    },
    {
      "cell_type": "markdown",
      "metadata": {
        "id": "czHSwZxX-WfG"
      },
      "source": [
        "After inspecting the polynomial regression model, does the model appear to be a better fit than simple linear regression? "
      ]
    },
    {
      "cell_type": "markdown",
      "metadata": {
        "id": "nEXJnHhG-pJ-"
      },
      "source": [
        "[YOUR ANSWER HERE]\n",
        "Yes, the model appears to be a better fit than simple linear regression."
      ]
    },
    {
      "cell_type": "markdown",
      "metadata": {
        "id": "1_-ZNVBuQJ0X"
      },
      "source": [
        "Does the model address display more or less underfitting than the simple linear regression model and why?"
      ]
    },
    {
      "cell_type": "markdown",
      "metadata": {
        "id": "dLeDdBynQO0Y"
      },
      "source": [
        "[YOUR ANSWER HERE]\n",
        "The model appears to be less underfitting because it follow the pattern in the test set more."
      ]
    },
    {
      "cell_type": "markdown",
      "metadata": {
        "id": "CazISR8X_HUG"
      },
      "source": [
        "## Problem 2 - Fish Dataset"
      ]
    },
    {
      "cell_type": "markdown",
      "metadata": {
        "id": "vgC61-ah_WIz"
      },
      "source": [
        "## Importing the Dataset"
      ]
    },
    {
      "cell_type": "markdown",
      "metadata": {
        "id": "QlPD4uh5ImZE"
      },
      "source": [
        "We will now perform different variations of linear regression to predict fish weight given species type, weight, and physical measurements. The different attributes of the data are:\n",
        "\n",
        "- Species: species name of fish\n",
        "\n",
        "- Weight: weight of fish in Gram (g)\n",
        "\n",
        "- Length1: vertical length in (cm)\n",
        "\n",
        "- Length2: diagonal length in (cm)\n",
        "\n",
        "- Length3: cross length in (cm)\n",
        "\n",
        "- Height: height in (cm)\n",
        "\n",
        "- Width: diagonal width in (cm)\n",
        "\n",
        "Begin by downloading the Fish.csv file from google drive. Make sure to select your @ucsc.edu email when authorizing access to your account. "
      ]
    },
    {
      "cell_type": "code",
      "metadata": {
        "id": "RMy-21iKABVc"
      },
      "source": [
        "!pip install -U -q PyDrive\n",
        "from pydrive.auth import GoogleAuth\n",
        "from pydrive.drive import GoogleDrive\n",
        "from google.colab import auth\n",
        "from oauth2client.client import GoogleCredentials"
      ],
      "execution_count": 19,
      "outputs": []
    },
    {
      "cell_type": "code",
      "metadata": {
        "id": "BTvM0_JzABVc"
      },
      "source": [
        "auth.authenticate_user()\n",
        "gauth = GoogleAuth()\n",
        "gauth.credentials = GoogleCredentials.get_application_default()\n",
        "drive = GoogleDrive(gauth)"
      ],
      "execution_count": 20,
      "outputs": []
    },
    {
      "cell_type": "code",
      "metadata": {
        "id": "NLDSqS7_JD0j"
      },
      "source": [
        "# Download the Fish data\n",
        "downloaded = drive.CreateFile({'id':\"13Q2WAaDIP6D5yrQlLV3OMnkmcwxcAwHz\"})\n",
        "downloaded.GetContentFile('Fish.csv')  "
      ],
      "execution_count": 21,
      "outputs": []
    },
    {
      "cell_type": "code",
      "metadata": {
        "id": "lWS9rMQjImZF"
      },
      "source": [
        "import pandas as pd\n",
        "\n",
        "# Create pandas dataframe\n",
        "fish_data = pd.read_csv('Fish.csv')"
      ],
      "execution_count": 22,
      "outputs": []
    },
    {
      "cell_type": "markdown",
      "metadata": {
        "id": "tdr40HJxNb8Q"
      },
      "source": [
        "Let's look at some of the data and check some of the dataset descriptors."
      ]
    },
    {
      "cell_type": "code",
      "metadata": {
        "id": "L7jhsbgiNiWu",
        "colab": {
          "base_uri": "https://localhost:8080/",
          "height": 206
        },
        "outputId": "dd21dd2a-242c-4815-a267-4a456e890b44"
      },
      "source": [
        "# Let's print out the first few rows\n",
        "fish_data.head()"
      ],
      "execution_count": 23,
      "outputs": [
        {
          "output_type": "execute_result",
          "data": {
            "text/plain": [
              "  Species  Weight  Length1  Length2  Length3   Height   Width\n",
              "0   Bream   242.0     23.2     25.4     30.0  11.5200  4.0200\n",
              "1   Bream   290.0     24.0     26.3     31.2  12.4800  4.3056\n",
              "2   Bream   340.0     23.9     26.5     31.1  12.3778  4.6961\n",
              "3   Bream   363.0     26.3     29.0     33.5  12.7300  4.4555\n",
              "4   Bream   430.0     26.5     29.0     34.0  12.4440  5.1340"
            ],
            "text/html": [
              "\n",
              "  <div id=\"df-5c48760c-3d60-4e71-8e16-bacb6df585e3\">\n",
              "    <div class=\"colab-df-container\">\n",
              "      <div>\n",
              "<style scoped>\n",
              "    .dataframe tbody tr th:only-of-type {\n",
              "        vertical-align: middle;\n",
              "    }\n",
              "\n",
              "    .dataframe tbody tr th {\n",
              "        vertical-align: top;\n",
              "    }\n",
              "\n",
              "    .dataframe thead th {\n",
              "        text-align: right;\n",
              "    }\n",
              "</style>\n",
              "<table border=\"1\" class=\"dataframe\">\n",
              "  <thead>\n",
              "    <tr style=\"text-align: right;\">\n",
              "      <th></th>\n",
              "      <th>Species</th>\n",
              "      <th>Weight</th>\n",
              "      <th>Length1</th>\n",
              "      <th>Length2</th>\n",
              "      <th>Length3</th>\n",
              "      <th>Height</th>\n",
              "      <th>Width</th>\n",
              "    </tr>\n",
              "  </thead>\n",
              "  <tbody>\n",
              "    <tr>\n",
              "      <th>0</th>\n",
              "      <td>Bream</td>\n",
              "      <td>242.0</td>\n",
              "      <td>23.2</td>\n",
              "      <td>25.4</td>\n",
              "      <td>30.0</td>\n",
              "      <td>11.5200</td>\n",
              "      <td>4.0200</td>\n",
              "    </tr>\n",
              "    <tr>\n",
              "      <th>1</th>\n",
              "      <td>Bream</td>\n",
              "      <td>290.0</td>\n",
              "      <td>24.0</td>\n",
              "      <td>26.3</td>\n",
              "      <td>31.2</td>\n",
              "      <td>12.4800</td>\n",
              "      <td>4.3056</td>\n",
              "    </tr>\n",
              "    <tr>\n",
              "      <th>2</th>\n",
              "      <td>Bream</td>\n",
              "      <td>340.0</td>\n",
              "      <td>23.9</td>\n",
              "      <td>26.5</td>\n",
              "      <td>31.1</td>\n",
              "      <td>12.3778</td>\n",
              "      <td>4.6961</td>\n",
              "    </tr>\n",
              "    <tr>\n",
              "      <th>3</th>\n",
              "      <td>Bream</td>\n",
              "      <td>363.0</td>\n",
              "      <td>26.3</td>\n",
              "      <td>29.0</td>\n",
              "      <td>33.5</td>\n",
              "      <td>12.7300</td>\n",
              "      <td>4.4555</td>\n",
              "    </tr>\n",
              "    <tr>\n",
              "      <th>4</th>\n",
              "      <td>Bream</td>\n",
              "      <td>430.0</td>\n",
              "      <td>26.5</td>\n",
              "      <td>29.0</td>\n",
              "      <td>34.0</td>\n",
              "      <td>12.4440</td>\n",
              "      <td>5.1340</td>\n",
              "    </tr>\n",
              "  </tbody>\n",
              "</table>\n",
              "</div>\n",
              "      <button class=\"colab-df-convert\" onclick=\"convertToInteractive('df-5c48760c-3d60-4e71-8e16-bacb6df585e3')\"\n",
              "              title=\"Convert this dataframe to an interactive table.\"\n",
              "              style=\"display:none;\">\n",
              "        \n",
              "  <svg xmlns=\"http://www.w3.org/2000/svg\" height=\"24px\"viewBox=\"0 0 24 24\"\n",
              "       width=\"24px\">\n",
              "    <path d=\"M0 0h24v24H0V0z\" fill=\"none\"/>\n",
              "    <path d=\"M18.56 5.44l.94 2.06.94-2.06 2.06-.94-2.06-.94-.94-2.06-.94 2.06-2.06.94zm-11 1L8.5 8.5l.94-2.06 2.06-.94-2.06-.94L8.5 2.5l-.94 2.06-2.06.94zm10 10l.94 2.06.94-2.06 2.06-.94-2.06-.94-.94-2.06-.94 2.06-2.06.94z\"/><path d=\"M17.41 7.96l-1.37-1.37c-.4-.4-.92-.59-1.43-.59-.52 0-1.04.2-1.43.59L10.3 9.45l-7.72 7.72c-.78.78-.78 2.05 0 2.83L4 21.41c.39.39.9.59 1.41.59.51 0 1.02-.2 1.41-.59l7.78-7.78 2.81-2.81c.8-.78.8-2.07 0-2.86zM5.41 20L4 18.59l7.72-7.72 1.47 1.35L5.41 20z\"/>\n",
              "  </svg>\n",
              "      </button>\n",
              "      \n",
              "  <style>\n",
              "    .colab-df-container {\n",
              "      display:flex;\n",
              "      flex-wrap:wrap;\n",
              "      gap: 12px;\n",
              "    }\n",
              "\n",
              "    .colab-df-convert {\n",
              "      background-color: #E8F0FE;\n",
              "      border: none;\n",
              "      border-radius: 50%;\n",
              "      cursor: pointer;\n",
              "      display: none;\n",
              "      fill: #1967D2;\n",
              "      height: 32px;\n",
              "      padding: 0 0 0 0;\n",
              "      width: 32px;\n",
              "    }\n",
              "\n",
              "    .colab-df-convert:hover {\n",
              "      background-color: #E2EBFA;\n",
              "      box-shadow: 0px 1px 2px rgba(60, 64, 67, 0.3), 0px 1px 3px 1px rgba(60, 64, 67, 0.15);\n",
              "      fill: #174EA6;\n",
              "    }\n",
              "\n",
              "    [theme=dark] .colab-df-convert {\n",
              "      background-color: #3B4455;\n",
              "      fill: #D2E3FC;\n",
              "    }\n",
              "\n",
              "    [theme=dark] .colab-df-convert:hover {\n",
              "      background-color: #434B5C;\n",
              "      box-shadow: 0px 1px 3px 1px rgba(0, 0, 0, 0.15);\n",
              "      filter: drop-shadow(0px 1px 2px rgba(0, 0, 0, 0.3));\n",
              "      fill: #FFFFFF;\n",
              "    }\n",
              "  </style>\n",
              "\n",
              "      <script>\n",
              "        const buttonEl =\n",
              "          document.querySelector('#df-5c48760c-3d60-4e71-8e16-bacb6df585e3 button.colab-df-convert');\n",
              "        buttonEl.style.display =\n",
              "          google.colab.kernel.accessAllowed ? 'block' : 'none';\n",
              "\n",
              "        async function convertToInteractive(key) {\n",
              "          const element = document.querySelector('#df-5c48760c-3d60-4e71-8e16-bacb6df585e3');\n",
              "          const dataTable =\n",
              "            await google.colab.kernel.invokeFunction('convertToInteractive',\n",
              "                                                     [key], {});\n",
              "          if (!dataTable) return;\n",
              "\n",
              "          const docLinkHtml = 'Like what you see? Visit the ' +\n",
              "            '<a target=\"_blank\" href=https://colab.research.google.com/notebooks/data_table.ipynb>data table notebook</a>'\n",
              "            + ' to learn more about interactive tables.';\n",
              "          element.innerHTML = '';\n",
              "          dataTable['output_type'] = 'display_data';\n",
              "          await google.colab.output.renderOutput(dataTable, element);\n",
              "          const docLink = document.createElement('div');\n",
              "          docLink.innerHTML = docLinkHtml;\n",
              "          element.appendChild(docLink);\n",
              "        }\n",
              "      </script>\n",
              "    </div>\n",
              "  </div>\n",
              "  "
            ]
          },
          "metadata": {},
          "execution_count": 23
        }
      ]
    },
    {
      "cell_type": "code",
      "metadata": {
        "id": "iL6vmfTMNqeI",
        "colab": {
          "base_uri": "https://localhost:8080/"
        },
        "outputId": "a67035f2-7080-4f23-81a8-7fb8d47fb937"
      },
      "source": [
        "# Let's get the data shape\n",
        "fish_data.shape"
      ],
      "execution_count": 24,
      "outputs": [
        {
          "output_type": "execute_result",
          "data": {
            "text/plain": [
              "(159, 7)"
            ]
          },
          "metadata": {},
          "execution_count": 24
        }
      ]
    },
    {
      "cell_type": "code",
      "metadata": {
        "id": "uYMy04YkImZG",
        "colab": {
          "base_uri": "https://localhost:8080/",
          "height": 300
        },
        "outputId": "79ce3280-d78e-4e91-8567-a6934f9c5a78"
      },
      "source": [
        "# Let's describe the data\n",
        "fish_data.describe()"
      ],
      "execution_count": 25,
      "outputs": [
        {
          "output_type": "execute_result",
          "data": {
            "text/plain": [
              "            Weight     Length1     Length2     Length3      Height       Width\n",
              "count   159.000000  159.000000  159.000000  159.000000  159.000000  159.000000\n",
              "mean    398.326415   26.247170   28.415723   31.227044    8.970994    4.417486\n",
              "std     357.978317    9.996441   10.716328   11.610246    4.286208    1.685804\n",
              "min       0.000000    7.500000    8.400000    8.800000    1.728400    1.047600\n",
              "25%     120.000000   19.050000   21.000000   23.150000    5.944800    3.385650\n",
              "50%     273.000000   25.200000   27.300000   29.400000    7.786000    4.248500\n",
              "75%     650.000000   32.700000   35.500000   39.650000   12.365900    5.584500\n",
              "max    1650.000000   59.000000   63.400000   68.000000   18.957000    8.142000"
            ],
            "text/html": [
              "\n",
              "  <div id=\"df-f87a2b27-c9c2-42d8-a692-9d9afc699be4\">\n",
              "    <div class=\"colab-df-container\">\n",
              "      <div>\n",
              "<style scoped>\n",
              "    .dataframe tbody tr th:only-of-type {\n",
              "        vertical-align: middle;\n",
              "    }\n",
              "\n",
              "    .dataframe tbody tr th {\n",
              "        vertical-align: top;\n",
              "    }\n",
              "\n",
              "    .dataframe thead th {\n",
              "        text-align: right;\n",
              "    }\n",
              "</style>\n",
              "<table border=\"1\" class=\"dataframe\">\n",
              "  <thead>\n",
              "    <tr style=\"text-align: right;\">\n",
              "      <th></th>\n",
              "      <th>Weight</th>\n",
              "      <th>Length1</th>\n",
              "      <th>Length2</th>\n",
              "      <th>Length3</th>\n",
              "      <th>Height</th>\n",
              "      <th>Width</th>\n",
              "    </tr>\n",
              "  </thead>\n",
              "  <tbody>\n",
              "    <tr>\n",
              "      <th>count</th>\n",
              "      <td>159.000000</td>\n",
              "      <td>159.000000</td>\n",
              "      <td>159.000000</td>\n",
              "      <td>159.000000</td>\n",
              "      <td>159.000000</td>\n",
              "      <td>159.000000</td>\n",
              "    </tr>\n",
              "    <tr>\n",
              "      <th>mean</th>\n",
              "      <td>398.326415</td>\n",
              "      <td>26.247170</td>\n",
              "      <td>28.415723</td>\n",
              "      <td>31.227044</td>\n",
              "      <td>8.970994</td>\n",
              "      <td>4.417486</td>\n",
              "    </tr>\n",
              "    <tr>\n",
              "      <th>std</th>\n",
              "      <td>357.978317</td>\n",
              "      <td>9.996441</td>\n",
              "      <td>10.716328</td>\n",
              "      <td>11.610246</td>\n",
              "      <td>4.286208</td>\n",
              "      <td>1.685804</td>\n",
              "    </tr>\n",
              "    <tr>\n",
              "      <th>min</th>\n",
              "      <td>0.000000</td>\n",
              "      <td>7.500000</td>\n",
              "      <td>8.400000</td>\n",
              "      <td>8.800000</td>\n",
              "      <td>1.728400</td>\n",
              "      <td>1.047600</td>\n",
              "    </tr>\n",
              "    <tr>\n",
              "      <th>25%</th>\n",
              "      <td>120.000000</td>\n",
              "      <td>19.050000</td>\n",
              "      <td>21.000000</td>\n",
              "      <td>23.150000</td>\n",
              "      <td>5.944800</td>\n",
              "      <td>3.385650</td>\n",
              "    </tr>\n",
              "    <tr>\n",
              "      <th>50%</th>\n",
              "      <td>273.000000</td>\n",
              "      <td>25.200000</td>\n",
              "      <td>27.300000</td>\n",
              "      <td>29.400000</td>\n",
              "      <td>7.786000</td>\n",
              "      <td>4.248500</td>\n",
              "    </tr>\n",
              "    <tr>\n",
              "      <th>75%</th>\n",
              "      <td>650.000000</td>\n",
              "      <td>32.700000</td>\n",
              "      <td>35.500000</td>\n",
              "      <td>39.650000</td>\n",
              "      <td>12.365900</td>\n",
              "      <td>5.584500</td>\n",
              "    </tr>\n",
              "    <tr>\n",
              "      <th>max</th>\n",
              "      <td>1650.000000</td>\n",
              "      <td>59.000000</td>\n",
              "      <td>63.400000</td>\n",
              "      <td>68.000000</td>\n",
              "      <td>18.957000</td>\n",
              "      <td>8.142000</td>\n",
              "    </tr>\n",
              "  </tbody>\n",
              "</table>\n",
              "</div>\n",
              "      <button class=\"colab-df-convert\" onclick=\"convertToInteractive('df-f87a2b27-c9c2-42d8-a692-9d9afc699be4')\"\n",
              "              title=\"Convert this dataframe to an interactive table.\"\n",
              "              style=\"display:none;\">\n",
              "        \n",
              "  <svg xmlns=\"http://www.w3.org/2000/svg\" height=\"24px\"viewBox=\"0 0 24 24\"\n",
              "       width=\"24px\">\n",
              "    <path d=\"M0 0h24v24H0V0z\" fill=\"none\"/>\n",
              "    <path d=\"M18.56 5.44l.94 2.06.94-2.06 2.06-.94-2.06-.94-.94-2.06-.94 2.06-2.06.94zm-11 1L8.5 8.5l.94-2.06 2.06-.94-2.06-.94L8.5 2.5l-.94 2.06-2.06.94zm10 10l.94 2.06.94-2.06 2.06-.94-2.06-.94-.94-2.06-.94 2.06-2.06.94z\"/><path d=\"M17.41 7.96l-1.37-1.37c-.4-.4-.92-.59-1.43-.59-.52 0-1.04.2-1.43.59L10.3 9.45l-7.72 7.72c-.78.78-.78 2.05 0 2.83L4 21.41c.39.39.9.59 1.41.59.51 0 1.02-.2 1.41-.59l7.78-7.78 2.81-2.81c.8-.78.8-2.07 0-2.86zM5.41 20L4 18.59l7.72-7.72 1.47 1.35L5.41 20z\"/>\n",
              "  </svg>\n",
              "      </button>\n",
              "      \n",
              "  <style>\n",
              "    .colab-df-container {\n",
              "      display:flex;\n",
              "      flex-wrap:wrap;\n",
              "      gap: 12px;\n",
              "    }\n",
              "\n",
              "    .colab-df-convert {\n",
              "      background-color: #E8F0FE;\n",
              "      border: none;\n",
              "      border-radius: 50%;\n",
              "      cursor: pointer;\n",
              "      display: none;\n",
              "      fill: #1967D2;\n",
              "      height: 32px;\n",
              "      padding: 0 0 0 0;\n",
              "      width: 32px;\n",
              "    }\n",
              "\n",
              "    .colab-df-convert:hover {\n",
              "      background-color: #E2EBFA;\n",
              "      box-shadow: 0px 1px 2px rgba(60, 64, 67, 0.3), 0px 1px 3px 1px rgba(60, 64, 67, 0.15);\n",
              "      fill: #174EA6;\n",
              "    }\n",
              "\n",
              "    [theme=dark] .colab-df-convert {\n",
              "      background-color: #3B4455;\n",
              "      fill: #D2E3FC;\n",
              "    }\n",
              "\n",
              "    [theme=dark] .colab-df-convert:hover {\n",
              "      background-color: #434B5C;\n",
              "      box-shadow: 0px 1px 3px 1px rgba(0, 0, 0, 0.15);\n",
              "      filter: drop-shadow(0px 1px 2px rgba(0, 0, 0, 0.3));\n",
              "      fill: #FFFFFF;\n",
              "    }\n",
              "  </style>\n",
              "\n",
              "      <script>\n",
              "        const buttonEl =\n",
              "          document.querySelector('#df-f87a2b27-c9c2-42d8-a692-9d9afc699be4 button.colab-df-convert');\n",
              "        buttonEl.style.display =\n",
              "          google.colab.kernel.accessAllowed ? 'block' : 'none';\n",
              "\n",
              "        async function convertToInteractive(key) {\n",
              "          const element = document.querySelector('#df-f87a2b27-c9c2-42d8-a692-9d9afc699be4');\n",
              "          const dataTable =\n",
              "            await google.colab.kernel.invokeFunction('convertToInteractive',\n",
              "                                                     [key], {});\n",
              "          if (!dataTable) return;\n",
              "\n",
              "          const docLinkHtml = 'Like what you see? Visit the ' +\n",
              "            '<a target=\"_blank\" href=https://colab.research.google.com/notebooks/data_table.ipynb>data table notebook</a>'\n",
              "            + ' to learn more about interactive tables.';\n",
              "          element.innerHTML = '';\n",
              "          dataTable['output_type'] = 'display_data';\n",
              "          await google.colab.output.renderOutput(dataTable, element);\n",
              "          const docLink = document.createElement('div');\n",
              "          docLink.innerHTML = docLinkHtml;\n",
              "          element.appendChild(docLink);\n",
              "        }\n",
              "      </script>\n",
              "    </div>\n",
              "  </div>\n",
              "  "
            ]
          },
          "metadata": {},
          "execution_count": 25
        }
      ]
    },
    {
      "cell_type": "code",
      "metadata": {
        "id": "qPM2fT7pImZH",
        "scrolled": true,
        "colab": {
          "base_uri": "https://localhost:8080/"
        },
        "outputId": "f8019a94-e232-479c-f4b2-25093ab0043e"
      },
      "source": [
        "# Lastly, let's get data info\n",
        "fish_data.info()"
      ],
      "execution_count": 26,
      "outputs": [
        {
          "output_type": "stream",
          "name": "stdout",
          "text": [
            "<class 'pandas.core.frame.DataFrame'>\n",
            "RangeIndex: 159 entries, 0 to 158\n",
            "Data columns (total 7 columns):\n",
            " #   Column   Non-Null Count  Dtype  \n",
            "---  ------   --------------  -----  \n",
            " 0   Species  159 non-null    object \n",
            " 1   Weight   159 non-null    float64\n",
            " 2   Length1  159 non-null    float64\n",
            " 3   Length2  159 non-null    float64\n",
            " 4   Length3  159 non-null    float64\n",
            " 5   Height   159 non-null    float64\n",
            " 6   Width    159 non-null    float64\n",
            "dtypes: float64(6), object(1)\n",
            "memory usage: 8.8+ KB\n"
          ]
        }
      ]
    },
    {
      "cell_type": "markdown",
      "metadata": {
        "id": "nG9NvytqOK7s"
      },
      "source": [
        "### a) Removing 0's from data (5 points)"
      ]
    },
    {
      "cell_type": "markdown",
      "metadata": {
        "id": "expaCW7rOZO1"
      },
      "source": [
        "We can see that there aren't any null values in this dataset by using the .info() function. However, .describe() shows us there are weights of 0.0g which is ambiguous and is likely a recording error. \n",
        "\n",
        "Drop any row that has a weight of 0.0."
      ]
    },
    {
      "cell_type": "code",
      "metadata": {
        "id": "7yfCamcEImZJ",
        "colab": {
          "base_uri": "https://localhost:8080/",
          "height": 0
        },
        "outputId": "db8a8f92-b725-4b26-9490-f4c9f8689434"
      },
      "source": [
        "# Delete any rows for which there is a measurement of 0.0 for weight.\n",
        "### YOUR CODE HERE ###\n",
        "indexes= fish_data[ fish_data['Weight'] == 0].index\n",
        "fish_data.drop(indexes, inplace=True)\n",
        "# Let's take another look.\n",
        "fish_data.describe()"
      ],
      "execution_count": 27,
      "outputs": [
        {
          "output_type": "execute_result",
          "data": {
            "text/plain": [
              "            Weight     Length1     Length2     Length3      Height       Width\n",
              "count   158.000000  158.000000  158.000000  158.000000  158.000000  158.000000\n",
              "mean    400.847468   26.293038   28.465823   31.280380    8.986790    4.424232\n",
              "std     357.697796   10.011427   10.731707   11.627605    4.295191    1.689010\n",
              "min       5.900000    7.500000    8.400000    8.800000    1.728400    1.047600\n",
              "25%     121.250000   19.150000   21.000000   23.200000    5.940600    3.398650\n",
              "50%     281.500000   25.300000   27.400000   29.700000    7.789000    4.277050\n",
              "75%     650.000000   32.700000   35.750000   39.675000   12.371850    5.586750\n",
              "max    1650.000000   59.000000   63.400000   68.000000   18.957000    8.142000"
            ],
            "text/html": [
              "\n",
              "  <div id=\"df-9e8f667c-3cfc-4a34-8bac-00c0599f9e1f\">\n",
              "    <div class=\"colab-df-container\">\n",
              "      <div>\n",
              "<style scoped>\n",
              "    .dataframe tbody tr th:only-of-type {\n",
              "        vertical-align: middle;\n",
              "    }\n",
              "\n",
              "    .dataframe tbody tr th {\n",
              "        vertical-align: top;\n",
              "    }\n",
              "\n",
              "    .dataframe thead th {\n",
              "        text-align: right;\n",
              "    }\n",
              "</style>\n",
              "<table border=\"1\" class=\"dataframe\">\n",
              "  <thead>\n",
              "    <tr style=\"text-align: right;\">\n",
              "      <th></th>\n",
              "      <th>Weight</th>\n",
              "      <th>Length1</th>\n",
              "      <th>Length2</th>\n",
              "      <th>Length3</th>\n",
              "      <th>Height</th>\n",
              "      <th>Width</th>\n",
              "    </tr>\n",
              "  </thead>\n",
              "  <tbody>\n",
              "    <tr>\n",
              "      <th>count</th>\n",
              "      <td>158.000000</td>\n",
              "      <td>158.000000</td>\n",
              "      <td>158.000000</td>\n",
              "      <td>158.000000</td>\n",
              "      <td>158.000000</td>\n",
              "      <td>158.000000</td>\n",
              "    </tr>\n",
              "    <tr>\n",
              "      <th>mean</th>\n",
              "      <td>400.847468</td>\n",
              "      <td>26.293038</td>\n",
              "      <td>28.465823</td>\n",
              "      <td>31.280380</td>\n",
              "      <td>8.986790</td>\n",
              "      <td>4.424232</td>\n",
              "    </tr>\n",
              "    <tr>\n",
              "      <th>std</th>\n",
              "      <td>357.697796</td>\n",
              "      <td>10.011427</td>\n",
              "      <td>10.731707</td>\n",
              "      <td>11.627605</td>\n",
              "      <td>4.295191</td>\n",
              "      <td>1.689010</td>\n",
              "    </tr>\n",
              "    <tr>\n",
              "      <th>min</th>\n",
              "      <td>5.900000</td>\n",
              "      <td>7.500000</td>\n",
              "      <td>8.400000</td>\n",
              "      <td>8.800000</td>\n",
              "      <td>1.728400</td>\n",
              "      <td>1.047600</td>\n",
              "    </tr>\n",
              "    <tr>\n",
              "      <th>25%</th>\n",
              "      <td>121.250000</td>\n",
              "      <td>19.150000</td>\n",
              "      <td>21.000000</td>\n",
              "      <td>23.200000</td>\n",
              "      <td>5.940600</td>\n",
              "      <td>3.398650</td>\n",
              "    </tr>\n",
              "    <tr>\n",
              "      <th>50%</th>\n",
              "      <td>281.500000</td>\n",
              "      <td>25.300000</td>\n",
              "      <td>27.400000</td>\n",
              "      <td>29.700000</td>\n",
              "      <td>7.789000</td>\n",
              "      <td>4.277050</td>\n",
              "    </tr>\n",
              "    <tr>\n",
              "      <th>75%</th>\n",
              "      <td>650.000000</td>\n",
              "      <td>32.700000</td>\n",
              "      <td>35.750000</td>\n",
              "      <td>39.675000</td>\n",
              "      <td>12.371850</td>\n",
              "      <td>5.586750</td>\n",
              "    </tr>\n",
              "    <tr>\n",
              "      <th>max</th>\n",
              "      <td>1650.000000</td>\n",
              "      <td>59.000000</td>\n",
              "      <td>63.400000</td>\n",
              "      <td>68.000000</td>\n",
              "      <td>18.957000</td>\n",
              "      <td>8.142000</td>\n",
              "    </tr>\n",
              "  </tbody>\n",
              "</table>\n",
              "</div>\n",
              "      <button class=\"colab-df-convert\" onclick=\"convertToInteractive('df-9e8f667c-3cfc-4a34-8bac-00c0599f9e1f')\"\n",
              "              title=\"Convert this dataframe to an interactive table.\"\n",
              "              style=\"display:none;\">\n",
              "        \n",
              "  <svg xmlns=\"http://www.w3.org/2000/svg\" height=\"24px\"viewBox=\"0 0 24 24\"\n",
              "       width=\"24px\">\n",
              "    <path d=\"M0 0h24v24H0V0z\" fill=\"none\"/>\n",
              "    <path d=\"M18.56 5.44l.94 2.06.94-2.06 2.06-.94-2.06-.94-.94-2.06-.94 2.06-2.06.94zm-11 1L8.5 8.5l.94-2.06 2.06-.94-2.06-.94L8.5 2.5l-.94 2.06-2.06.94zm10 10l.94 2.06.94-2.06 2.06-.94-2.06-.94-.94-2.06-.94 2.06-2.06.94z\"/><path d=\"M17.41 7.96l-1.37-1.37c-.4-.4-.92-.59-1.43-.59-.52 0-1.04.2-1.43.59L10.3 9.45l-7.72 7.72c-.78.78-.78 2.05 0 2.83L4 21.41c.39.39.9.59 1.41.59.51 0 1.02-.2 1.41-.59l7.78-7.78 2.81-2.81c.8-.78.8-2.07 0-2.86zM5.41 20L4 18.59l7.72-7.72 1.47 1.35L5.41 20z\"/>\n",
              "  </svg>\n",
              "      </button>\n",
              "      \n",
              "  <style>\n",
              "    .colab-df-container {\n",
              "      display:flex;\n",
              "      flex-wrap:wrap;\n",
              "      gap: 12px;\n",
              "    }\n",
              "\n",
              "    .colab-df-convert {\n",
              "      background-color: #E8F0FE;\n",
              "      border: none;\n",
              "      border-radius: 50%;\n",
              "      cursor: pointer;\n",
              "      display: none;\n",
              "      fill: #1967D2;\n",
              "      height: 32px;\n",
              "      padding: 0 0 0 0;\n",
              "      width: 32px;\n",
              "    }\n",
              "\n",
              "    .colab-df-convert:hover {\n",
              "      background-color: #E2EBFA;\n",
              "      box-shadow: 0px 1px 2px rgba(60, 64, 67, 0.3), 0px 1px 3px 1px rgba(60, 64, 67, 0.15);\n",
              "      fill: #174EA6;\n",
              "    }\n",
              "\n",
              "    [theme=dark] .colab-df-convert {\n",
              "      background-color: #3B4455;\n",
              "      fill: #D2E3FC;\n",
              "    }\n",
              "\n",
              "    [theme=dark] .colab-df-convert:hover {\n",
              "      background-color: #434B5C;\n",
              "      box-shadow: 0px 1px 3px 1px rgba(0, 0, 0, 0.15);\n",
              "      filter: drop-shadow(0px 1px 2px rgba(0, 0, 0, 0.3));\n",
              "      fill: #FFFFFF;\n",
              "    }\n",
              "  </style>\n",
              "\n",
              "      <script>\n",
              "        const buttonEl =\n",
              "          document.querySelector('#df-9e8f667c-3cfc-4a34-8bac-00c0599f9e1f button.colab-df-convert');\n",
              "        buttonEl.style.display =\n",
              "          google.colab.kernel.accessAllowed ? 'block' : 'none';\n",
              "\n",
              "        async function convertToInteractive(key) {\n",
              "          const element = document.querySelector('#df-9e8f667c-3cfc-4a34-8bac-00c0599f9e1f');\n",
              "          const dataTable =\n",
              "            await google.colab.kernel.invokeFunction('convertToInteractive',\n",
              "                                                     [key], {});\n",
              "          if (!dataTable) return;\n",
              "\n",
              "          const docLinkHtml = 'Like what you see? Visit the ' +\n",
              "            '<a target=\"_blank\" href=https://colab.research.google.com/notebooks/data_table.ipynb>data table notebook</a>'\n",
              "            + ' to learn more about interactive tables.';\n",
              "          element.innerHTML = '';\n",
              "          dataTable['output_type'] = 'display_data';\n",
              "          await google.colab.output.renderOutput(dataTable, element);\n",
              "          const docLink = document.createElement('div');\n",
              "          docLink.innerHTML = docLinkHtml;\n",
              "          element.appendChild(docLink);\n",
              "        }\n",
              "      </script>\n",
              "    </div>\n",
              "  </div>\n",
              "  "
            ]
          },
          "metadata": {},
          "execution_count": 27
        }
      ]
    },
    {
      "cell_type": "markdown",
      "metadata": {
        "id": "YldeqJEoImZJ"
      },
      "source": [
        "### b) Outlier Detection \\& Elimination (5 points)"
      ]
    },
    {
      "cell_type": "markdown",
      "metadata": {
        "id": "WSqQRkpJPQSb"
      },
      "source": [
        "Using 4 standard deviations from the mean as our cut-off, and using the data listed using the describe function above, are there any outliers?"
      ]
    },
    {
      "cell_type": "code",
      "metadata": {
        "id": "HCnFZgec000S",
        "colab": {
          "base_uri": "https://localhost:8080/",
          "height": 0
        },
        "outputId": "ba4aa651-3aed-4078-d51f-6f204329cf9a"
      },
      "source": [
        "### YOUR CODE HERE ###\n",
        "\n",
        "fish_data['WeightZ'] = (fish_data['Weight'] - fish_data['Weight'].mean() ) / fish_data['Weight'].std()\n",
        "if (len(fish_data[ fish_data['WeightZ'] > 4]) or len(fish_data[ fish_data['WeightZ'] < -4])):\n",
        "  print(\"outliers in Weight\")\n",
        "\n",
        "fish_data['Length1Z'] = (fish_data['Length1'] - fish_data['Length1'].mean() ) / fish_data['Length1'].std()\n",
        "if (len(fish_data[ fish_data['Length1Z'] > 4]) or len(fish_data[ fish_data['Length1Z'] < -4])):\n",
        "  print(\"outliers in Length1\")\n",
        "\n",
        "fish_data['Length2Z'] = (fish_data['Length2'] - fish_data['Length2'].mean() ) / fish_data['Length2'].std()\n",
        "if (len(fish_data[ fish_data['Length2Z'] > 4]) or len(fish_data[ fish_data['Length2Z'] < -4])):\n",
        "  print(\"outliers in Length2\")\n",
        "\n",
        "fish_data['Length3Z'] = (fish_data['Length3'] - fish_data['Length3'].mean() ) / fish_data['Length3'].std()\n",
        "if (len(fish_data[ fish_data['Length3Z'] > 4]) or len(fish_data[ fish_data['Length3Z'] < -4])):\n",
        "  print(\"outliers in Length3\")\n",
        "\n",
        "fish_data['HeightZ'] = (fish_data['Height'] - fish_data['Height'].mean() ) / fish_data['Height'].std()\n",
        "if (len(fish_data[ fish_data['HeightZ'] > 4]) or len(fish_data[ fish_data['HeightZ'] < -4])):\n",
        "  print(\"outliers in Height\")\n",
        "\n",
        "\n",
        "fish_data['WidthZ'] = (fish_data['Width'] - fish_data['Width'].mean() ) / fish_data['Width'].std()\n",
        "if (len(fish_data[ fish_data['WidthZ'] > 4]) or len(fish_data[ fish_data['WidthZ'] < -4])):\n",
        "  print(\"outliers in Width\")\n",
        "\n",
        "fish_data = fish_data.drop(columns = ['WeightZ', 'Length1Z', 'Length2Z', 'Length3Z', 'HeightZ', 'WidthZ'])\n",
        "fish_data.describe()"
      ],
      "execution_count": 28,
      "outputs": [
        {
          "output_type": "execute_result",
          "data": {
            "text/plain": [
              "            Weight     Length1     Length2     Length3      Height       Width\n",
              "count   158.000000  158.000000  158.000000  158.000000  158.000000  158.000000\n",
              "mean    400.847468   26.293038   28.465823   31.280380    8.986790    4.424232\n",
              "std     357.697796   10.011427   10.731707   11.627605    4.295191    1.689010\n",
              "min       5.900000    7.500000    8.400000    8.800000    1.728400    1.047600\n",
              "25%     121.250000   19.150000   21.000000   23.200000    5.940600    3.398650\n",
              "50%     281.500000   25.300000   27.400000   29.700000    7.789000    4.277050\n",
              "75%     650.000000   32.700000   35.750000   39.675000   12.371850    5.586750\n",
              "max    1650.000000   59.000000   63.400000   68.000000   18.957000    8.142000"
            ],
            "text/html": [
              "\n",
              "  <div id=\"df-09e709f9-30c9-4483-bf9e-55c6e40a3f78\">\n",
              "    <div class=\"colab-df-container\">\n",
              "      <div>\n",
              "<style scoped>\n",
              "    .dataframe tbody tr th:only-of-type {\n",
              "        vertical-align: middle;\n",
              "    }\n",
              "\n",
              "    .dataframe tbody tr th {\n",
              "        vertical-align: top;\n",
              "    }\n",
              "\n",
              "    .dataframe thead th {\n",
              "        text-align: right;\n",
              "    }\n",
              "</style>\n",
              "<table border=\"1\" class=\"dataframe\">\n",
              "  <thead>\n",
              "    <tr style=\"text-align: right;\">\n",
              "      <th></th>\n",
              "      <th>Weight</th>\n",
              "      <th>Length1</th>\n",
              "      <th>Length2</th>\n",
              "      <th>Length3</th>\n",
              "      <th>Height</th>\n",
              "      <th>Width</th>\n",
              "    </tr>\n",
              "  </thead>\n",
              "  <tbody>\n",
              "    <tr>\n",
              "      <th>count</th>\n",
              "      <td>158.000000</td>\n",
              "      <td>158.000000</td>\n",
              "      <td>158.000000</td>\n",
              "      <td>158.000000</td>\n",
              "      <td>158.000000</td>\n",
              "      <td>158.000000</td>\n",
              "    </tr>\n",
              "    <tr>\n",
              "      <th>mean</th>\n",
              "      <td>400.847468</td>\n",
              "      <td>26.293038</td>\n",
              "      <td>28.465823</td>\n",
              "      <td>31.280380</td>\n",
              "      <td>8.986790</td>\n",
              "      <td>4.424232</td>\n",
              "    </tr>\n",
              "    <tr>\n",
              "      <th>std</th>\n",
              "      <td>357.697796</td>\n",
              "      <td>10.011427</td>\n",
              "      <td>10.731707</td>\n",
              "      <td>11.627605</td>\n",
              "      <td>4.295191</td>\n",
              "      <td>1.689010</td>\n",
              "    </tr>\n",
              "    <tr>\n",
              "      <th>min</th>\n",
              "      <td>5.900000</td>\n",
              "      <td>7.500000</td>\n",
              "      <td>8.400000</td>\n",
              "      <td>8.800000</td>\n",
              "      <td>1.728400</td>\n",
              "      <td>1.047600</td>\n",
              "    </tr>\n",
              "    <tr>\n",
              "      <th>25%</th>\n",
              "      <td>121.250000</td>\n",
              "      <td>19.150000</td>\n",
              "      <td>21.000000</td>\n",
              "      <td>23.200000</td>\n",
              "      <td>5.940600</td>\n",
              "      <td>3.398650</td>\n",
              "    </tr>\n",
              "    <tr>\n",
              "      <th>50%</th>\n",
              "      <td>281.500000</td>\n",
              "      <td>25.300000</td>\n",
              "      <td>27.400000</td>\n",
              "      <td>29.700000</td>\n",
              "      <td>7.789000</td>\n",
              "      <td>4.277050</td>\n",
              "    </tr>\n",
              "    <tr>\n",
              "      <th>75%</th>\n",
              "      <td>650.000000</td>\n",
              "      <td>32.700000</td>\n",
              "      <td>35.750000</td>\n",
              "      <td>39.675000</td>\n",
              "      <td>12.371850</td>\n",
              "      <td>5.586750</td>\n",
              "    </tr>\n",
              "    <tr>\n",
              "      <th>max</th>\n",
              "      <td>1650.000000</td>\n",
              "      <td>59.000000</td>\n",
              "      <td>63.400000</td>\n",
              "      <td>68.000000</td>\n",
              "      <td>18.957000</td>\n",
              "      <td>8.142000</td>\n",
              "    </tr>\n",
              "  </tbody>\n",
              "</table>\n",
              "</div>\n",
              "      <button class=\"colab-df-convert\" onclick=\"convertToInteractive('df-09e709f9-30c9-4483-bf9e-55c6e40a3f78')\"\n",
              "              title=\"Convert this dataframe to an interactive table.\"\n",
              "              style=\"display:none;\">\n",
              "        \n",
              "  <svg xmlns=\"http://www.w3.org/2000/svg\" height=\"24px\"viewBox=\"0 0 24 24\"\n",
              "       width=\"24px\">\n",
              "    <path d=\"M0 0h24v24H0V0z\" fill=\"none\"/>\n",
              "    <path d=\"M18.56 5.44l.94 2.06.94-2.06 2.06-.94-2.06-.94-.94-2.06-.94 2.06-2.06.94zm-11 1L8.5 8.5l.94-2.06 2.06-.94-2.06-.94L8.5 2.5l-.94 2.06-2.06.94zm10 10l.94 2.06.94-2.06 2.06-.94-2.06-.94-.94-2.06-.94 2.06-2.06.94z\"/><path d=\"M17.41 7.96l-1.37-1.37c-.4-.4-.92-.59-1.43-.59-.52 0-1.04.2-1.43.59L10.3 9.45l-7.72 7.72c-.78.78-.78 2.05 0 2.83L4 21.41c.39.39.9.59 1.41.59.51 0 1.02-.2 1.41-.59l7.78-7.78 2.81-2.81c.8-.78.8-2.07 0-2.86zM5.41 20L4 18.59l7.72-7.72 1.47 1.35L5.41 20z\"/>\n",
              "  </svg>\n",
              "      </button>\n",
              "      \n",
              "  <style>\n",
              "    .colab-df-container {\n",
              "      display:flex;\n",
              "      flex-wrap:wrap;\n",
              "      gap: 12px;\n",
              "    }\n",
              "\n",
              "    .colab-df-convert {\n",
              "      background-color: #E8F0FE;\n",
              "      border: none;\n",
              "      border-radius: 50%;\n",
              "      cursor: pointer;\n",
              "      display: none;\n",
              "      fill: #1967D2;\n",
              "      height: 32px;\n",
              "      padding: 0 0 0 0;\n",
              "      width: 32px;\n",
              "    }\n",
              "\n",
              "    .colab-df-convert:hover {\n",
              "      background-color: #E2EBFA;\n",
              "      box-shadow: 0px 1px 2px rgba(60, 64, 67, 0.3), 0px 1px 3px 1px rgba(60, 64, 67, 0.15);\n",
              "      fill: #174EA6;\n",
              "    }\n",
              "\n",
              "    [theme=dark] .colab-df-convert {\n",
              "      background-color: #3B4455;\n",
              "      fill: #D2E3FC;\n",
              "    }\n",
              "\n",
              "    [theme=dark] .colab-df-convert:hover {\n",
              "      background-color: #434B5C;\n",
              "      box-shadow: 0px 1px 3px 1px rgba(0, 0, 0, 0.15);\n",
              "      filter: drop-shadow(0px 1px 2px rgba(0, 0, 0, 0.3));\n",
              "      fill: #FFFFFF;\n",
              "    }\n",
              "  </style>\n",
              "\n",
              "      <script>\n",
              "        const buttonEl =\n",
              "          document.querySelector('#df-09e709f9-30c9-4483-bf9e-55c6e40a3f78 button.colab-df-convert');\n",
              "        buttonEl.style.display =\n",
              "          google.colab.kernel.accessAllowed ? 'block' : 'none';\n",
              "\n",
              "        async function convertToInteractive(key) {\n",
              "          const element = document.querySelector('#df-09e709f9-30c9-4483-bf9e-55c6e40a3f78');\n",
              "          const dataTable =\n",
              "            await google.colab.kernel.invokeFunction('convertToInteractive',\n",
              "                                                     [key], {});\n",
              "          if (!dataTable) return;\n",
              "\n",
              "          const docLinkHtml = 'Like what you see? Visit the ' +\n",
              "            '<a target=\"_blank\" href=https://colab.research.google.com/notebooks/data_table.ipynb>data table notebook</a>'\n",
              "            + ' to learn more about interactive tables.';\n",
              "          element.innerHTML = '';\n",
              "          dataTable['output_type'] = 'display_data';\n",
              "          await google.colab.output.renderOutput(dataTable, element);\n",
              "          const docLink = document.createElement('div');\n",
              "          docLink.innerHTML = docLinkHtml;\n",
              "          element.appendChild(docLink);\n",
              "        }\n",
              "      </script>\n",
              "    </div>\n",
              "  </div>\n",
              "  "
            ]
          },
          "metadata": {},
          "execution_count": 28
        }
      ]
    },
    {
      "cell_type": "markdown",
      "metadata": {
        "id": "W-DoY4ozjeel"
      },
      "source": [
        "[YOUR ANSWER HERE]\n",
        "There are no outliers in all the columns."
      ]
    },
    {
      "cell_type": "markdown",
      "metadata": {
        "id": "se3W2x_PThhC"
      },
      "source": [
        "## Problem 3 - Fish Linear Regression"
      ]
    },
    {
      "cell_type": "markdown",
      "metadata": {
        "id": "3aOeXbcUeZJL"
      },
      "source": [
        "You will now run different versions of linear regression in order to predict fish Weight using the 6 explanatory variables."
      ]
    },
    {
      "cell_type": "markdown",
      "metadata": {
        "id": "TD6Ixu2Welbe"
      },
      "source": [
        "### a) Multiple Linear Regression (6 points)"
      ]
    },
    {
      "cell_type": "markdown",
      "metadata": {
        "id": "E2DFm5KrU7N9"
      },
      "source": [
        "First, run a multiple linear regression using only the height, width, and length measurements to predict weight. We will begin by splitting the data into features **X_fish** and target variable **y_fish**."
      ]
    },
    {
      "cell_type": "code",
      "metadata": {
        "id": "HPuMcF23Vbyl",
        "colab": {
          "base_uri": "https://localhost:8080/"
        },
        "outputId": "dbe205ac-7cf2-4e9c-a57b-3e7ea5ea8c2f"
      },
      "source": [
        "y_fish = fish_data.iloc[:, 1] # Get Fish Weights\n",
        "X_fish = fish_data.drop(columns=['Weight']) # Get Fish measurements plus species\n",
        "X_fish = X_fish.drop(columns=['Species']) # Drop the Fish Species for now\n",
        "\n",
        "# Print X.head(), you should have 5 features for each sample\n",
        "print(\"X_fish.head():\")\n",
        "print(X_fish.head())\n",
        "\n",
        "# Print y.head(), you should have one label for each sample\n",
        "print(\"\\ny_fish.head()\")\n",
        "print(y_fish.head())"
      ],
      "execution_count": 29,
      "outputs": [
        {
          "output_type": "stream",
          "name": "stdout",
          "text": [
            "X_fish.head():\n",
            "   Length1  Length2  Length3   Height   Width\n",
            "0     23.2     25.4     30.0  11.5200  4.0200\n",
            "1     24.0     26.3     31.2  12.4800  4.3056\n",
            "2     23.9     26.5     31.1  12.3778  4.6961\n",
            "3     26.3     29.0     33.5  12.7300  4.4555\n",
            "4     26.5     29.0     34.0  12.4440  5.1340\n",
            "\n",
            "y_fish.head()\n",
            "0    242.0\n",
            "1    290.0\n",
            "2    340.0\n",
            "3    363.0\n",
            "4    430.0\n",
            "Name: Weight, dtype: float64\n"
          ]
        }
      ]
    },
    {
      "cell_type": "markdown",
      "metadata": {
        "id": "jypw17XkXuDv"
      },
      "source": [
        "Now, we are almost ready to run regression with scikit-learn. We need to first convert **X_fish** and **y_fish** into numpy arrays and split the data into training and validation splits using sklearn **train_test_split**. \n",
        "\n",
        "sklearn's train_test_split offers customizable functionality when creating training and test sets. For more information, checkout https://scikit-learn.org/stable/modules/generated/sklearn.model_selection.train_test_split.html ."
      ]
    },
    {
      "cell_type": "code",
      "metadata": {
        "id": "I0UOI7KvYA0x"
      },
      "source": [
        "# Convert X, and y into np arrays\n",
        "X_fish = X_fish.values\n",
        "y_fish = y_fish.values\n",
        "\n",
        "# Split data into train test split\n",
        "from sklearn.model_selection import train_test_split\n",
        "X_fish_train, X_fish_test, y_fish_train, y_fish_test = train_test_split(X_fish, y_fish, test_size = 0.2, random_state = 0)"
      ],
      "execution_count": 30,
      "outputs": []
    },
    {
      "cell_type": "markdown",
      "metadata": {
        "id": "qFCSJJ7MYsMj"
      },
      "source": [
        "Now we are ready to run a multiple linear regression. Use sklearn's **LinearRegression** to carry out the regression."
      ]
    },
    {
      "cell_type": "code",
      "metadata": {
        "id": "GHcbvBTTYsF2",
        "colab": {
          "base_uri": "https://localhost:8080/"
        },
        "outputId": "dfb1196d-4937-4f09-fd7d-3426435d417a"
      },
      "source": [
        "from sklearn.linear_model import LinearRegression\n",
        "regressor = LinearRegression() ### YOUR CODE HERE ### \n",
        "\n",
        "# Fit the regressor using X_fish_train and y_fish_train\n",
        "### YOUR CODE HERE ###\n",
        "regressor.fit(X_fish_train, y_fish_train)\n"
      ],
      "execution_count": 31,
      "outputs": [
        {
          "output_type": "execute_result",
          "data": {
            "text/plain": [
              "LinearRegression()"
            ]
          },
          "metadata": {},
          "execution_count": 31
        }
      ]
    },
    {
      "cell_type": "markdown",
      "metadata": {
        "id": "acTg_PwUabeY"
      },
      "source": [
        "Now let's see how we did and generate predictions for X_fish_test. Then print predicted values and actual target values side-by-side for a visual comparison."
      ]
    },
    {
      "cell_type": "code",
      "metadata": {
        "id": "u3BTynP2Yr-B",
        "colab": {
          "base_uri": "https://localhost:8080/",
          "height": 1000
        },
        "outputId": "711584ee-55ec-42dc-80c9-23b9e5fbbf55"
      },
      "source": [
        "# Generate predictions using X_fish_test\n",
        "y_fish_pred = regressor.predict(X_fish_test)### YOUR CODE HERE ### \n",
        "\n",
        "# Print the predictions along with actual weights\n",
        "print(y_fish_pred)\n",
        "print(y_fish_test)\n",
        "\n",
        "compare_data = {'y_fish_pred': y_fish_pred, 'y_fish_test':  y_fish_test}\n",
        "pd.DataFrame(data=compare_data)\n",
        "### YOUR CODE HERE ### "
      ],
      "execution_count": 32,
      "outputs": [
        {
          "output_type": "stream",
          "name": "stdout",
          "text": [
            "[ 476.59117882  207.99295613  696.61277798  829.8356242   155.66081611\n",
            "  839.43077312  756.42454219  860.9053846   648.06518937  194.36935617\n",
            "  656.33115593  988.3533044   694.41908995   27.97315647   90.40492061\n",
            "  279.88428528  426.51714491  253.27497124  988.3533044   380.41382554\n",
            "  203.773294    873.13422668  776.42866652  514.64529123  156.2549434\n",
            "   98.82407554  423.34057751  638.76055132 -203.30791322  611.87530104\n",
            "  352.87773986  307.75783507]\n",
            "[ 390.   160.   700.  1015.   120.  1100.   820.   950.   556.   145.\n",
            "  700.  1600.   720.    55.    85.   188.   300.   180.  1550.   306.\n",
            "  140.   975.  1000.   450.   110.    78.   300.   650.     6.7  514.\n",
            "  290.   270. ]\n"
          ]
        },
        {
          "output_type": "execute_result",
          "data": {
            "text/plain": [
              "    y_fish_pred  y_fish_test\n",
              "0    476.591179        390.0\n",
              "1    207.992956        160.0\n",
              "2    696.612778        700.0\n",
              "3    829.835624       1015.0\n",
              "4    155.660816        120.0\n",
              "5    839.430773       1100.0\n",
              "6    756.424542        820.0\n",
              "7    860.905385        950.0\n",
              "8    648.065189        556.0\n",
              "9    194.369356        145.0\n",
              "10   656.331156        700.0\n",
              "11   988.353304       1600.0\n",
              "12   694.419090        720.0\n",
              "13    27.973156         55.0\n",
              "14    90.404921         85.0\n",
              "15   279.884285        188.0\n",
              "16   426.517145        300.0\n",
              "17   253.274971        180.0\n",
              "18   988.353304       1550.0\n",
              "19   380.413826        306.0\n",
              "20   203.773294        140.0\n",
              "21   873.134227        975.0\n",
              "22   776.428667       1000.0\n",
              "23   514.645291        450.0\n",
              "24   156.254943        110.0\n",
              "25    98.824076         78.0\n",
              "26   423.340578        300.0\n",
              "27   638.760551        650.0\n",
              "28  -203.307913          6.7\n",
              "29   611.875301        514.0\n",
              "30   352.877740        290.0\n",
              "31   307.757835        270.0"
            ],
            "text/html": [
              "\n",
              "  <div id=\"df-ec42834b-3b93-4f9b-a4d5-b61962637d31\">\n",
              "    <div class=\"colab-df-container\">\n",
              "      <div>\n",
              "<style scoped>\n",
              "    .dataframe tbody tr th:only-of-type {\n",
              "        vertical-align: middle;\n",
              "    }\n",
              "\n",
              "    .dataframe tbody tr th {\n",
              "        vertical-align: top;\n",
              "    }\n",
              "\n",
              "    .dataframe thead th {\n",
              "        text-align: right;\n",
              "    }\n",
              "</style>\n",
              "<table border=\"1\" class=\"dataframe\">\n",
              "  <thead>\n",
              "    <tr style=\"text-align: right;\">\n",
              "      <th></th>\n",
              "      <th>y_fish_pred</th>\n",
              "      <th>y_fish_test</th>\n",
              "    </tr>\n",
              "  </thead>\n",
              "  <tbody>\n",
              "    <tr>\n",
              "      <th>0</th>\n",
              "      <td>476.591179</td>\n",
              "      <td>390.0</td>\n",
              "    </tr>\n",
              "    <tr>\n",
              "      <th>1</th>\n",
              "      <td>207.992956</td>\n",
              "      <td>160.0</td>\n",
              "    </tr>\n",
              "    <tr>\n",
              "      <th>2</th>\n",
              "      <td>696.612778</td>\n",
              "      <td>700.0</td>\n",
              "    </tr>\n",
              "    <tr>\n",
              "      <th>3</th>\n",
              "      <td>829.835624</td>\n",
              "      <td>1015.0</td>\n",
              "    </tr>\n",
              "    <tr>\n",
              "      <th>4</th>\n",
              "      <td>155.660816</td>\n",
              "      <td>120.0</td>\n",
              "    </tr>\n",
              "    <tr>\n",
              "      <th>5</th>\n",
              "      <td>839.430773</td>\n",
              "      <td>1100.0</td>\n",
              "    </tr>\n",
              "    <tr>\n",
              "      <th>6</th>\n",
              "      <td>756.424542</td>\n",
              "      <td>820.0</td>\n",
              "    </tr>\n",
              "    <tr>\n",
              "      <th>7</th>\n",
              "      <td>860.905385</td>\n",
              "      <td>950.0</td>\n",
              "    </tr>\n",
              "    <tr>\n",
              "      <th>8</th>\n",
              "      <td>648.065189</td>\n",
              "      <td>556.0</td>\n",
              "    </tr>\n",
              "    <tr>\n",
              "      <th>9</th>\n",
              "      <td>194.369356</td>\n",
              "      <td>145.0</td>\n",
              "    </tr>\n",
              "    <tr>\n",
              "      <th>10</th>\n",
              "      <td>656.331156</td>\n",
              "      <td>700.0</td>\n",
              "    </tr>\n",
              "    <tr>\n",
              "      <th>11</th>\n",
              "      <td>988.353304</td>\n",
              "      <td>1600.0</td>\n",
              "    </tr>\n",
              "    <tr>\n",
              "      <th>12</th>\n",
              "      <td>694.419090</td>\n",
              "      <td>720.0</td>\n",
              "    </tr>\n",
              "    <tr>\n",
              "      <th>13</th>\n",
              "      <td>27.973156</td>\n",
              "      <td>55.0</td>\n",
              "    </tr>\n",
              "    <tr>\n",
              "      <th>14</th>\n",
              "      <td>90.404921</td>\n",
              "      <td>85.0</td>\n",
              "    </tr>\n",
              "    <tr>\n",
              "      <th>15</th>\n",
              "      <td>279.884285</td>\n",
              "      <td>188.0</td>\n",
              "    </tr>\n",
              "    <tr>\n",
              "      <th>16</th>\n",
              "      <td>426.517145</td>\n",
              "      <td>300.0</td>\n",
              "    </tr>\n",
              "    <tr>\n",
              "      <th>17</th>\n",
              "      <td>253.274971</td>\n",
              "      <td>180.0</td>\n",
              "    </tr>\n",
              "    <tr>\n",
              "      <th>18</th>\n",
              "      <td>988.353304</td>\n",
              "      <td>1550.0</td>\n",
              "    </tr>\n",
              "    <tr>\n",
              "      <th>19</th>\n",
              "      <td>380.413826</td>\n",
              "      <td>306.0</td>\n",
              "    </tr>\n",
              "    <tr>\n",
              "      <th>20</th>\n",
              "      <td>203.773294</td>\n",
              "      <td>140.0</td>\n",
              "    </tr>\n",
              "    <tr>\n",
              "      <th>21</th>\n",
              "      <td>873.134227</td>\n",
              "      <td>975.0</td>\n",
              "    </tr>\n",
              "    <tr>\n",
              "      <th>22</th>\n",
              "      <td>776.428667</td>\n",
              "      <td>1000.0</td>\n",
              "    </tr>\n",
              "    <tr>\n",
              "      <th>23</th>\n",
              "      <td>514.645291</td>\n",
              "      <td>450.0</td>\n",
              "    </tr>\n",
              "    <tr>\n",
              "      <th>24</th>\n",
              "      <td>156.254943</td>\n",
              "      <td>110.0</td>\n",
              "    </tr>\n",
              "    <tr>\n",
              "      <th>25</th>\n",
              "      <td>98.824076</td>\n",
              "      <td>78.0</td>\n",
              "    </tr>\n",
              "    <tr>\n",
              "      <th>26</th>\n",
              "      <td>423.340578</td>\n",
              "      <td>300.0</td>\n",
              "    </tr>\n",
              "    <tr>\n",
              "      <th>27</th>\n",
              "      <td>638.760551</td>\n",
              "      <td>650.0</td>\n",
              "    </tr>\n",
              "    <tr>\n",
              "      <th>28</th>\n",
              "      <td>-203.307913</td>\n",
              "      <td>6.7</td>\n",
              "    </tr>\n",
              "    <tr>\n",
              "      <th>29</th>\n",
              "      <td>611.875301</td>\n",
              "      <td>514.0</td>\n",
              "    </tr>\n",
              "    <tr>\n",
              "      <th>30</th>\n",
              "      <td>352.877740</td>\n",
              "      <td>290.0</td>\n",
              "    </tr>\n",
              "    <tr>\n",
              "      <th>31</th>\n",
              "      <td>307.757835</td>\n",
              "      <td>270.0</td>\n",
              "    </tr>\n",
              "  </tbody>\n",
              "</table>\n",
              "</div>\n",
              "      <button class=\"colab-df-convert\" onclick=\"convertToInteractive('df-ec42834b-3b93-4f9b-a4d5-b61962637d31')\"\n",
              "              title=\"Convert this dataframe to an interactive table.\"\n",
              "              style=\"display:none;\">\n",
              "        \n",
              "  <svg xmlns=\"http://www.w3.org/2000/svg\" height=\"24px\"viewBox=\"0 0 24 24\"\n",
              "       width=\"24px\">\n",
              "    <path d=\"M0 0h24v24H0V0z\" fill=\"none\"/>\n",
              "    <path d=\"M18.56 5.44l.94 2.06.94-2.06 2.06-.94-2.06-.94-.94-2.06-.94 2.06-2.06.94zm-11 1L8.5 8.5l.94-2.06 2.06-.94-2.06-.94L8.5 2.5l-.94 2.06-2.06.94zm10 10l.94 2.06.94-2.06 2.06-.94-2.06-.94-.94-2.06-.94 2.06-2.06.94z\"/><path d=\"M17.41 7.96l-1.37-1.37c-.4-.4-.92-.59-1.43-.59-.52 0-1.04.2-1.43.59L10.3 9.45l-7.72 7.72c-.78.78-.78 2.05 0 2.83L4 21.41c.39.39.9.59 1.41.59.51 0 1.02-.2 1.41-.59l7.78-7.78 2.81-2.81c.8-.78.8-2.07 0-2.86zM5.41 20L4 18.59l7.72-7.72 1.47 1.35L5.41 20z\"/>\n",
              "  </svg>\n",
              "      </button>\n",
              "      \n",
              "  <style>\n",
              "    .colab-df-container {\n",
              "      display:flex;\n",
              "      flex-wrap:wrap;\n",
              "      gap: 12px;\n",
              "    }\n",
              "\n",
              "    .colab-df-convert {\n",
              "      background-color: #E8F0FE;\n",
              "      border: none;\n",
              "      border-radius: 50%;\n",
              "      cursor: pointer;\n",
              "      display: none;\n",
              "      fill: #1967D2;\n",
              "      height: 32px;\n",
              "      padding: 0 0 0 0;\n",
              "      width: 32px;\n",
              "    }\n",
              "\n",
              "    .colab-df-convert:hover {\n",
              "      background-color: #E2EBFA;\n",
              "      box-shadow: 0px 1px 2px rgba(60, 64, 67, 0.3), 0px 1px 3px 1px rgba(60, 64, 67, 0.15);\n",
              "      fill: #174EA6;\n",
              "    }\n",
              "\n",
              "    [theme=dark] .colab-df-convert {\n",
              "      background-color: #3B4455;\n",
              "      fill: #D2E3FC;\n",
              "    }\n",
              "\n",
              "    [theme=dark] .colab-df-convert:hover {\n",
              "      background-color: #434B5C;\n",
              "      box-shadow: 0px 1px 3px 1px rgba(0, 0, 0, 0.15);\n",
              "      filter: drop-shadow(0px 1px 2px rgba(0, 0, 0, 0.3));\n",
              "      fill: #FFFFFF;\n",
              "    }\n",
              "  </style>\n",
              "\n",
              "      <script>\n",
              "        const buttonEl =\n",
              "          document.querySelector('#df-ec42834b-3b93-4f9b-a4d5-b61962637d31 button.colab-df-convert');\n",
              "        buttonEl.style.display =\n",
              "          google.colab.kernel.accessAllowed ? 'block' : 'none';\n",
              "\n",
              "        async function convertToInteractive(key) {\n",
              "          const element = document.querySelector('#df-ec42834b-3b93-4f9b-a4d5-b61962637d31');\n",
              "          const dataTable =\n",
              "            await google.colab.kernel.invokeFunction('convertToInteractive',\n",
              "                                                     [key], {});\n",
              "          if (!dataTable) return;\n",
              "\n",
              "          const docLinkHtml = 'Like what you see? Visit the ' +\n",
              "            '<a target=\"_blank\" href=https://colab.research.google.com/notebooks/data_table.ipynb>data table notebook</a>'\n",
              "            + ' to learn more about interactive tables.';\n",
              "          element.innerHTML = '';\n",
              "          dataTable['output_type'] = 'display_data';\n",
              "          await google.colab.output.renderOutput(dataTable, element);\n",
              "          const docLink = document.createElement('div');\n",
              "          docLink.innerHTML = docLinkHtml;\n",
              "          element.appendChild(docLink);\n",
              "        }\n",
              "      </script>\n",
              "    </div>\n",
              "  </div>\n",
              "  "
            ]
          },
          "metadata": {},
          "execution_count": 32
        }
      ]
    },
    {
      "cell_type": "markdown",
      "metadata": {
        "id": "JEoRzxdUZEXE"
      },
      "source": [
        "### b) Computing MSE and R-squared for MLR (5 points)"
      ]
    },
    {
      "cell_type": "markdown",
      "metadata": {
        "id": "J1H01fjoYr3I"
      },
      "source": [
        "The model appears to do an okay job predicting some weights while missing the mark on others. Let's quantify the results by computing mean squared error (MSE) and the coefficient of determination (R-squared). sklearn's metrics package provides functions to compute the values for you. \n",
        "\n",
        "More info can be found here: \n",
        "\n",
        "https://scikit-learn.org/stable/modules/generated/sklearn.metrics.mean_squared_error.html\n",
        "https://scikit-learn.org/stable/modules/generated/sklearn.metrics.r2_score.html"
      ]
    },
    {
      "cell_type": "code",
      "metadata": {
        "id": "_KUunCUyYrvX",
        "colab": {
          "base_uri": "https://localhost:8080/"
        },
        "outputId": "99c4da30-053d-4594-afb0-8f16d8a767c1"
      },
      "source": [
        "from sklearn.metrics import mean_squared_error\n",
        "from sklearn.metrics import r2_score\n",
        "\n",
        "# Compute the mean squared error using y_fish_test and y_fish_pred\n",
        "### YOUR CODE HERE ###\n",
        "print(mean_squared_error(y_fish_test, y_fish_pred, squared=True))\n",
        "\n",
        "# Compute the coefficient of determination using y_fish_test and y_fish_pred\n",
        "### YOUR CODE HERE ###\n",
        "print(r2_score(y_fish_test, y_fish_pred))\n"
      ],
      "execution_count": 33,
      "outputs": [
        {
          "output_type": "stream",
          "name": "stdout",
          "text": [
            "31561.77306754145\n",
            "0.8245122776931346\n"
          ]
        }
      ]
    },
    {
      "cell_type": "markdown",
      "metadata": {
        "id": "jiKHKbSzdWZQ"
      },
      "source": [
        "Using the y_fish_test and y_fish_pred, what was the mean squared error for this model?"
      ]
    },
    {
      "cell_type": "markdown",
      "metadata": {
        "id": "CFUrwJv7dn5d"
      },
      "source": [
        "[YOUR ANSWER HERE]\n",
        "The mean squared error is 31561.77306754145 "
      ]
    },
    {
      "cell_type": "markdown",
      "metadata": {
        "id": "dsC4S8pWdrHE"
      },
      "source": [
        "Using the y_fish_test and y_fish_pred, what was the coefficient of detemination for this model?"
      ]
    },
    {
      "cell_type": "markdown",
      "metadata": {
        "id": "M-xqx9NUdrHF"
      },
      "source": [
        "[YOUR ANSWER HERE]\n",
        "The coefficient of detemination for this model is 0.8245122776931346"
      ]
    },
    {
      "cell_type": "markdown",
      "metadata": {
        "id": "K-UjZojxjv5W"
      },
      "source": [
        "### c) Polynomial Multiple Linear Regression (12 points)"
      ]
    },
    {
      "cell_type": "markdown",
      "metadata": {
        "id": "z8EgAGkAjzCP"
      },
      "source": [
        "We have seen how polynomial regression can increase the predictive power of linear regression models. We will now run a polynomial multiple linear regression model in order to gain a more accurate model. Begin by transforming the features X_fish_test and X_fish_train into second order polynomial space. There will be interaction terms in the transformed dataset as well. For more on interaction terms visit the sklearn docs."
      ]
    },
    {
      "cell_type": "code",
      "metadata": {
        "id": "QlKOME90kDmY",
        "colab": {
          "base_uri": "https://localhost:8080/"
        },
        "outputId": "85209107-980b-4a99-8c28-f54791614d96"
      },
      "source": [
        "from sklearn.preprocessing import PolynomialFeatures\n",
        "# Create polynomial transform of degree 2. hint: problem 1\n",
        "poly = PolynomialFeatures(2) ### YOUR CODE HERE ###\n",
        "\n",
        "# Transform X_fish_train X_fish_test to second order polynomial space\n",
        "X_fish_train_pol = poly.fit_transform(X_fish_train) ### YOUR CODE HERE ###\n",
        "X_fish_test_pol = poly.fit_transform(X_fish_test) ### YOUR CODE HERE ###\n",
        "\n",
        "# Print 5 rows of X_fish_train_poly, shape should be (5,21)\n",
        "print(X_fish_train_pol[:5])\n",
        "print(X_fish_train_pol[:5].shape)\n",
        "\n",
        "### YOUR CODE HERE ###"
      ],
      "execution_count": 34,
      "outputs": [
        {
          "output_type": "stream",
          "name": "stdout",
          "text": [
            "[[1.00000000e+00 3.04000000e+01 3.30000000e+01 3.83000000e+01\n",
            "  1.48604000e+01 5.28540000e+00 9.24160000e+02 1.00320000e+03\n",
            "  1.16432000e+03 4.51756160e+02 1.60676160e+02 1.08900000e+03\n",
            "  1.26390000e+03 4.90393200e+02 1.74418200e+02 1.46689000e+03\n",
            "  5.69153320e+02 2.02430820e+02 2.20831488e+02 7.85431582e+01\n",
            "  2.79354532e+01]\n",
            " [1.00000000e+00 3.48000000e+01 3.73000000e+01 3.98000000e+01\n",
            "  6.28840000e+00 4.01980000e+00 1.21104000e+03 1.29804000e+03\n",
            "  1.38504000e+03 2.18836320e+02 1.39889040e+02 1.39129000e+03\n",
            "  1.48454000e+03 2.34557320e+02 1.49938540e+02 1.58404000e+03\n",
            "  2.50278320e+02 1.59988040e+02 3.95439746e+01 2.52781103e+01\n",
            "  1.61587920e+01]\n",
            " [1.00000000e+00 4.00000000e+01 4.25000000e+01 4.55000000e+01\n",
            "  6.82500000e+00 4.45900000e+00 1.60000000e+03 1.70000000e+03\n",
            "  1.82000000e+03 2.73000000e+02 1.78360000e+02 1.80625000e+03\n",
            "  1.93375000e+03 2.90062500e+02 1.89507500e+02 2.07025000e+03\n",
            "  3.10537500e+02 2.02884500e+02 4.65806250e+01 3.04326750e+01\n",
            "  1.98826810e+01]\n",
            " [1.00000000e+00 3.15000000e+01 3.45000000e+01 3.97000000e+01\n",
            "  1.55227000e+01 5.28010000e+00 9.92250000e+02 1.08675000e+03\n",
            "  1.25055000e+03 4.88965050e+02 1.66323150e+02 1.19025000e+03\n",
            "  1.36965000e+03 5.35533150e+02 1.82163450e+02 1.57609000e+03\n",
            "  6.16251190e+02 2.09619970e+02 2.40954215e+02 8.19614083e+01\n",
            "  2.78794560e+01]\n",
            " [1.00000000e+00 2.10000000e+01 2.30000000e+01 2.45000000e+01\n",
            "  5.21850000e+00 3.62600000e+00 4.41000000e+02 4.83000000e+02\n",
            "  5.14500000e+02 1.09588500e+02 7.61460000e+01 5.29000000e+02\n",
            "  5.63500000e+02 1.20025500e+02 8.33980000e+01 6.00250000e+02\n",
            "  1.27853250e+02 8.88370000e+01 2.72327422e+01 1.89222810e+01\n",
            "  1.31478760e+01]]\n",
            "(5, 21)\n"
          ]
        }
      ]
    },
    {
      "cell_type": "markdown",
      "metadata": {
        "id": "21wLW5Y0DTXR"
      },
      "source": [
        "Next run the second order polynomial regression using the transformed data. Instantiate a new regression model and use X_fish_train_pol and y_fish_train to fit the model."
      ]
    },
    {
      "cell_type": "code",
      "metadata": {
        "id": "mRK0BdUlDZOf",
        "colab": {
          "base_uri": "https://localhost:8080/"
        },
        "outputId": "dbef4bb9-fbec-401a-8492-88afa5c720b3"
      },
      "source": [
        "from sklearn.linear_model import LinearRegression\n",
        "regressor = LinearRegression()### YOUR CODE HERE ### \n",
        "\n",
        "# Fit the regressor using X_fish_train_pol and y_fish_train\n",
        "### YOUR CODE HERE ###\n",
        "regressor.fit(X_fish_train_pol, y_fish_train)\n"
      ],
      "execution_count": 35,
      "outputs": [
        {
          "output_type": "execute_result",
          "data": {
            "text/plain": [
              "LinearRegression()"
            ]
          },
          "metadata": {},
          "execution_count": 35
        }
      ]
    },
    {
      "cell_type": "markdown",
      "metadata": {
        "id": "8Ue0vEm4D0fC"
      },
      "source": [
        "Now let's see how we did with the second model and generate predictions using X_fish_test_pol. Then print predicted values and actual target values side-by-side for a visual comparison."
      ]
    },
    {
      "cell_type": "code",
      "metadata": {
        "id": "dptAnGEhEc1D",
        "colab": {
          "base_uri": "https://localhost:8080/",
          "height": 0
        },
        "outputId": "d489fe20-4da9-4ac1-8c6f-da4ffd5f080d"
      },
      "source": [
        "# generate predictions using X_test\n",
        "y_fish_pol_pred = regressor.predict(X_fish_test_pol)### YOUR CODE HERE ### \n",
        "\n",
        "# Print the predictions along with actual weights\n",
        "### YOUR CODE HERE ###\n",
        "print(y_fish_pol_pred)\n",
        "print(y_fish_test)\n",
        "\n",
        "compare_data = {'y_fish_pol_pred': y_fish_pol_pred, 'y_fish_test':  y_fish_test}\n",
        "pd.DataFrame(data=compare_data)"
      ],
      "execution_count": 36,
      "outputs": [
        {
          "output_type": "stream",
          "name": "stdout",
          "text": [
            "[ 410.78161734  144.99000843  661.08994618  916.20938635  120.28326146\n",
            "  892.29452538  779.33036275  970.51372058  613.97188853  138.75685095\n",
            "  702.96694468 1200.88080985  736.01964613   68.24127116   65.41870351\n",
            "  204.06717258  348.32997005  164.86007088 1200.88080985  301.29364676\n",
            "  132.03878287 1080.95184924  800.55488719  465.06392928  113.12282845\n",
            "   78.16667224  337.9263526   610.88838108   14.31425669  526.27843992\n",
            "  265.75936168  235.08321339]\n",
            "[ 390.   160.   700.  1015.   120.  1100.   820.   950.   556.   145.\n",
            "  700.  1600.   720.    55.    85.   188.   300.   180.  1550.   306.\n",
            "  140.   975.  1000.   450.   110.    78.   300.   650.     6.7  514.\n",
            "  290.   270. ]\n"
          ]
        },
        {
          "output_type": "execute_result",
          "data": {
            "text/plain": [
              "    y_fish_pol_pred  y_fish_test\n",
              "0        410.781617        390.0\n",
              "1        144.990008        160.0\n",
              "2        661.089946        700.0\n",
              "3        916.209386       1015.0\n",
              "4        120.283261        120.0\n",
              "5        892.294525       1100.0\n",
              "6        779.330363        820.0\n",
              "7        970.513721        950.0\n",
              "8        613.971889        556.0\n",
              "9        138.756851        145.0\n",
              "10       702.966945        700.0\n",
              "11      1200.880810       1600.0\n",
              "12       736.019646        720.0\n",
              "13        68.241271         55.0\n",
              "14        65.418704         85.0\n",
              "15       204.067173        188.0\n",
              "16       348.329970        300.0\n",
              "17       164.860071        180.0\n",
              "18      1200.880810       1550.0\n",
              "19       301.293647        306.0\n",
              "20       132.038783        140.0\n",
              "21      1080.951849        975.0\n",
              "22       800.554887       1000.0\n",
              "23       465.063929        450.0\n",
              "24       113.122828        110.0\n",
              "25        78.166672         78.0\n",
              "26       337.926353        300.0\n",
              "27       610.888381        650.0\n",
              "28        14.314257          6.7\n",
              "29       526.278440        514.0\n",
              "30       265.759362        290.0\n",
              "31       235.083213        270.0"
            ],
            "text/html": [
              "\n",
              "  <div id=\"df-400ad43f-5b93-44c1-9603-90c43eb1f78f\">\n",
              "    <div class=\"colab-df-container\">\n",
              "      <div>\n",
              "<style scoped>\n",
              "    .dataframe tbody tr th:only-of-type {\n",
              "        vertical-align: middle;\n",
              "    }\n",
              "\n",
              "    .dataframe tbody tr th {\n",
              "        vertical-align: top;\n",
              "    }\n",
              "\n",
              "    .dataframe thead th {\n",
              "        text-align: right;\n",
              "    }\n",
              "</style>\n",
              "<table border=\"1\" class=\"dataframe\">\n",
              "  <thead>\n",
              "    <tr style=\"text-align: right;\">\n",
              "      <th></th>\n",
              "      <th>y_fish_pol_pred</th>\n",
              "      <th>y_fish_test</th>\n",
              "    </tr>\n",
              "  </thead>\n",
              "  <tbody>\n",
              "    <tr>\n",
              "      <th>0</th>\n",
              "      <td>410.781617</td>\n",
              "      <td>390.0</td>\n",
              "    </tr>\n",
              "    <tr>\n",
              "      <th>1</th>\n",
              "      <td>144.990008</td>\n",
              "      <td>160.0</td>\n",
              "    </tr>\n",
              "    <tr>\n",
              "      <th>2</th>\n",
              "      <td>661.089946</td>\n",
              "      <td>700.0</td>\n",
              "    </tr>\n",
              "    <tr>\n",
              "      <th>3</th>\n",
              "      <td>916.209386</td>\n",
              "      <td>1015.0</td>\n",
              "    </tr>\n",
              "    <tr>\n",
              "      <th>4</th>\n",
              "      <td>120.283261</td>\n",
              "      <td>120.0</td>\n",
              "    </tr>\n",
              "    <tr>\n",
              "      <th>5</th>\n",
              "      <td>892.294525</td>\n",
              "      <td>1100.0</td>\n",
              "    </tr>\n",
              "    <tr>\n",
              "      <th>6</th>\n",
              "      <td>779.330363</td>\n",
              "      <td>820.0</td>\n",
              "    </tr>\n",
              "    <tr>\n",
              "      <th>7</th>\n",
              "      <td>970.513721</td>\n",
              "      <td>950.0</td>\n",
              "    </tr>\n",
              "    <tr>\n",
              "      <th>8</th>\n",
              "      <td>613.971889</td>\n",
              "      <td>556.0</td>\n",
              "    </tr>\n",
              "    <tr>\n",
              "      <th>9</th>\n",
              "      <td>138.756851</td>\n",
              "      <td>145.0</td>\n",
              "    </tr>\n",
              "    <tr>\n",
              "      <th>10</th>\n",
              "      <td>702.966945</td>\n",
              "      <td>700.0</td>\n",
              "    </tr>\n",
              "    <tr>\n",
              "      <th>11</th>\n",
              "      <td>1200.880810</td>\n",
              "      <td>1600.0</td>\n",
              "    </tr>\n",
              "    <tr>\n",
              "      <th>12</th>\n",
              "      <td>736.019646</td>\n",
              "      <td>720.0</td>\n",
              "    </tr>\n",
              "    <tr>\n",
              "      <th>13</th>\n",
              "      <td>68.241271</td>\n",
              "      <td>55.0</td>\n",
              "    </tr>\n",
              "    <tr>\n",
              "      <th>14</th>\n",
              "      <td>65.418704</td>\n",
              "      <td>85.0</td>\n",
              "    </tr>\n",
              "    <tr>\n",
              "      <th>15</th>\n",
              "      <td>204.067173</td>\n",
              "      <td>188.0</td>\n",
              "    </tr>\n",
              "    <tr>\n",
              "      <th>16</th>\n",
              "      <td>348.329970</td>\n",
              "      <td>300.0</td>\n",
              "    </tr>\n",
              "    <tr>\n",
              "      <th>17</th>\n",
              "      <td>164.860071</td>\n",
              "      <td>180.0</td>\n",
              "    </tr>\n",
              "    <tr>\n",
              "      <th>18</th>\n",
              "      <td>1200.880810</td>\n",
              "      <td>1550.0</td>\n",
              "    </tr>\n",
              "    <tr>\n",
              "      <th>19</th>\n",
              "      <td>301.293647</td>\n",
              "      <td>306.0</td>\n",
              "    </tr>\n",
              "    <tr>\n",
              "      <th>20</th>\n",
              "      <td>132.038783</td>\n",
              "      <td>140.0</td>\n",
              "    </tr>\n",
              "    <tr>\n",
              "      <th>21</th>\n",
              "      <td>1080.951849</td>\n",
              "      <td>975.0</td>\n",
              "    </tr>\n",
              "    <tr>\n",
              "      <th>22</th>\n",
              "      <td>800.554887</td>\n",
              "      <td>1000.0</td>\n",
              "    </tr>\n",
              "    <tr>\n",
              "      <th>23</th>\n",
              "      <td>465.063929</td>\n",
              "      <td>450.0</td>\n",
              "    </tr>\n",
              "    <tr>\n",
              "      <th>24</th>\n",
              "      <td>113.122828</td>\n",
              "      <td>110.0</td>\n",
              "    </tr>\n",
              "    <tr>\n",
              "      <th>25</th>\n",
              "      <td>78.166672</td>\n",
              "      <td>78.0</td>\n",
              "    </tr>\n",
              "    <tr>\n",
              "      <th>26</th>\n",
              "      <td>337.926353</td>\n",
              "      <td>300.0</td>\n",
              "    </tr>\n",
              "    <tr>\n",
              "      <th>27</th>\n",
              "      <td>610.888381</td>\n",
              "      <td>650.0</td>\n",
              "    </tr>\n",
              "    <tr>\n",
              "      <th>28</th>\n",
              "      <td>14.314257</td>\n",
              "      <td>6.7</td>\n",
              "    </tr>\n",
              "    <tr>\n",
              "      <th>29</th>\n",
              "      <td>526.278440</td>\n",
              "      <td>514.0</td>\n",
              "    </tr>\n",
              "    <tr>\n",
              "      <th>30</th>\n",
              "      <td>265.759362</td>\n",
              "      <td>290.0</td>\n",
              "    </tr>\n",
              "    <tr>\n",
              "      <th>31</th>\n",
              "      <td>235.083213</td>\n",
              "      <td>270.0</td>\n",
              "    </tr>\n",
              "  </tbody>\n",
              "</table>\n",
              "</div>\n",
              "      <button class=\"colab-df-convert\" onclick=\"convertToInteractive('df-400ad43f-5b93-44c1-9603-90c43eb1f78f')\"\n",
              "              title=\"Convert this dataframe to an interactive table.\"\n",
              "              style=\"display:none;\">\n",
              "        \n",
              "  <svg xmlns=\"http://www.w3.org/2000/svg\" height=\"24px\"viewBox=\"0 0 24 24\"\n",
              "       width=\"24px\">\n",
              "    <path d=\"M0 0h24v24H0V0z\" fill=\"none\"/>\n",
              "    <path d=\"M18.56 5.44l.94 2.06.94-2.06 2.06-.94-2.06-.94-.94-2.06-.94 2.06-2.06.94zm-11 1L8.5 8.5l.94-2.06 2.06-.94-2.06-.94L8.5 2.5l-.94 2.06-2.06.94zm10 10l.94 2.06.94-2.06 2.06-.94-2.06-.94-.94-2.06-.94 2.06-2.06.94z\"/><path d=\"M17.41 7.96l-1.37-1.37c-.4-.4-.92-.59-1.43-.59-.52 0-1.04.2-1.43.59L10.3 9.45l-7.72 7.72c-.78.78-.78 2.05 0 2.83L4 21.41c.39.39.9.59 1.41.59.51 0 1.02-.2 1.41-.59l7.78-7.78 2.81-2.81c.8-.78.8-2.07 0-2.86zM5.41 20L4 18.59l7.72-7.72 1.47 1.35L5.41 20z\"/>\n",
              "  </svg>\n",
              "      </button>\n",
              "      \n",
              "  <style>\n",
              "    .colab-df-container {\n",
              "      display:flex;\n",
              "      flex-wrap:wrap;\n",
              "      gap: 12px;\n",
              "    }\n",
              "\n",
              "    .colab-df-convert {\n",
              "      background-color: #E8F0FE;\n",
              "      border: none;\n",
              "      border-radius: 50%;\n",
              "      cursor: pointer;\n",
              "      display: none;\n",
              "      fill: #1967D2;\n",
              "      height: 32px;\n",
              "      padding: 0 0 0 0;\n",
              "      width: 32px;\n",
              "    }\n",
              "\n",
              "    .colab-df-convert:hover {\n",
              "      background-color: #E2EBFA;\n",
              "      box-shadow: 0px 1px 2px rgba(60, 64, 67, 0.3), 0px 1px 3px 1px rgba(60, 64, 67, 0.15);\n",
              "      fill: #174EA6;\n",
              "    }\n",
              "\n",
              "    [theme=dark] .colab-df-convert {\n",
              "      background-color: #3B4455;\n",
              "      fill: #D2E3FC;\n",
              "    }\n",
              "\n",
              "    [theme=dark] .colab-df-convert:hover {\n",
              "      background-color: #434B5C;\n",
              "      box-shadow: 0px 1px 3px 1px rgba(0, 0, 0, 0.15);\n",
              "      filter: drop-shadow(0px 1px 2px rgba(0, 0, 0, 0.3));\n",
              "      fill: #FFFFFF;\n",
              "    }\n",
              "  </style>\n",
              "\n",
              "      <script>\n",
              "        const buttonEl =\n",
              "          document.querySelector('#df-400ad43f-5b93-44c1-9603-90c43eb1f78f button.colab-df-convert');\n",
              "        buttonEl.style.display =\n",
              "          google.colab.kernel.accessAllowed ? 'block' : 'none';\n",
              "\n",
              "        async function convertToInteractive(key) {\n",
              "          const element = document.querySelector('#df-400ad43f-5b93-44c1-9603-90c43eb1f78f');\n",
              "          const dataTable =\n",
              "            await google.colab.kernel.invokeFunction('convertToInteractive',\n",
              "                                                     [key], {});\n",
              "          if (!dataTable) return;\n",
              "\n",
              "          const docLinkHtml = 'Like what you see? Visit the ' +\n",
              "            '<a target=\"_blank\" href=https://colab.research.google.com/notebooks/data_table.ipynb>data table notebook</a>'\n",
              "            + ' to learn more about interactive tables.';\n",
              "          element.innerHTML = '';\n",
              "          dataTable['output_type'] = 'display_data';\n",
              "          await google.colab.output.renderOutput(dataTable, element);\n",
              "          const docLink = document.createElement('div');\n",
              "          docLink.innerHTML = docLinkHtml;\n",
              "          element.appendChild(docLink);\n",
              "        }\n",
              "      </script>\n",
              "    </div>\n",
              "  </div>\n",
              "  "
            ]
          },
          "metadata": {},
          "execution_count": 36
        }
      ]
    },
    {
      "cell_type": "markdown",
      "metadata": {
        "id": "Duo5OHehZYHG"
      },
      "source": [
        "### d) Computing MSE and R-squared for Polynomial Regression (5 points)"
      ]
    },
    {
      "cell_type": "markdown",
      "metadata": {
        "id": "ZBBJcKlcZi4g"
      },
      "source": [
        "Now, compute the MSE and R-squared using y_fish_test and y_fish_pol_pred"
      ]
    },
    {
      "cell_type": "code",
      "metadata": {
        "id": "v9cUc-z_EwJa",
        "colab": {
          "base_uri": "https://localhost:8080/"
        },
        "outputId": "485aff95-585c-4b36-d8e9-737755990ffc"
      },
      "source": [
        "from sklearn.metrics import mean_squared_error\n",
        "from sklearn.metrics import r2_score\n",
        "\n",
        "# Compute the mean squared error using y_fish_test and y_fish_pol_pred\n",
        "### YOUR CODE HERE ###\n",
        "print(mean_squared_error(y_fish_pol_pred, y_fish_test, squared=True))\n",
        "\n",
        "\n",
        "# Compute the coefficient of determination using y_fish_test and y_fish_pol_pred\n",
        "### YOUR CODE HERE ###\n",
        "print(r2_score(y_fish_test, y_fish_pol_pred))"
      ],
      "execution_count": 37,
      "outputs": [
        {
          "output_type": "stream",
          "name": "stdout",
          "text": [
            "12552.64579521112\n",
            "0.9302055934939892\n"
          ]
        }
      ]
    },
    {
      "cell_type": "markdown",
      "metadata": {
        "id": "EibvMRnCFSN1"
      },
      "source": [
        "Using the y_fish_test and y_fish_pol_pred, what was the mean squared error for this model?"
      ]
    },
    {
      "cell_type": "markdown",
      "metadata": {
        "id": "il_tGDNsFSN1"
      },
      "source": [
        "[YOUR ANSWER HERE]\n",
        "The mean squared error is 12552.64579521112"
      ]
    },
    {
      "cell_type": "markdown",
      "metadata": {
        "id": "-N2v3ly4FSN2"
      },
      "source": [
        "Using the y_fish_test and y_fish_pol_pred, what was the coefficient of detemination for this model?"
      ]
    },
    {
      "cell_type": "markdown",
      "metadata": {
        "id": "rMdHoxc1Znt4"
      },
      "source": [
        "[YOUR ANSWER HERE]\n",
        "The coefficient of detemination for this model is 0.9302055934939892"
      ]
    },
    {
      "cell_type": "markdown",
      "metadata": {
        "id": "9hKsk6BrImZL"
      },
      "source": [
        "### e) Multiple Linear Regression With Categorical Variable (12 points)"
      ]
    },
    {
      "cell_type": "markdown",
      "metadata": {
        "id": "mx2i-jbiF5oP"
      },
      "source": [
        "Now that we have done multiple linear regression, and polynomial multiple linear regression, we will now do a multiple linear regression that takes into account the species of fish by creating numeric levels."
      ]
    },
    {
      "cell_type": "code",
      "metadata": {
        "id": "q1stDO11ImZL",
        "colab": {
          "base_uri": "https://localhost:8080/",
          "height": 423
        },
        "outputId": "c5bfe0c0-8821-4d2a-cd78-9eeb03da8b73"
      },
      "source": [
        "# Create a copy of fish_data\n",
        "fish_data_species = fish_data\n",
        "\n",
        "# Begin by generating a dictionary that maps all unique species in fish_data to a unique id\n",
        "level_dict = {species:i for i,species in enumerate(fish_data_species['Species'].unique())}  ### YOUR CODE HERE ###\n",
        "\n",
        "# Uses the level dictionary to retrieve the id\n",
        "def integer_encode_level(level):\n",
        "    return level_dict[level] ### YOUR CODE HERE ###\n",
        "    \n",
        "# Apply the function to the Species column and store in Species column (you should overwrite the species current data with the numeric representations)\n",
        "fish_data_species['Species'] = fish_data_species['Species'].apply(integer_encode_level) ### YOUR CODE HERE ###\n",
        "\n",
        "# Use the numeric Species column you just created to one-hot-encode this feature, using the Pandas get_dummies function. Then delete the numeric Species column.\n",
        "### YOUR CODE HERE ###\n",
        "fish_data_species = pd.concat([fish_data_species , pd.get_dummies(fish_data_species['Species'], prefix='Spec')],axis=1)\n",
        "fish_data_species = fish_data_species.drop(columns=[\"Species\"])\n",
        "# Check data\n",
        "fish_data_species"
      ],
      "execution_count": 38,
      "outputs": [
        {
          "output_type": "execute_result",
          "data": {
            "text/plain": [
              "     Weight  Length1  Length2  Length3   Height   Width  Spec_0  Spec_1  \\\n",
              "0     242.0     23.2     25.4     30.0  11.5200  4.0200       1       0   \n",
              "1     290.0     24.0     26.3     31.2  12.4800  4.3056       1       0   \n",
              "2     340.0     23.9     26.5     31.1  12.3778  4.6961       1       0   \n",
              "3     363.0     26.3     29.0     33.5  12.7300  4.4555       1       0   \n",
              "4     430.0     26.5     29.0     34.0  12.4440  5.1340       1       0   \n",
              "..      ...      ...      ...      ...      ...     ...     ...     ...   \n",
              "154    12.2     11.5     12.2     13.4   2.0904  1.3936       0       0   \n",
              "155    13.4     11.7     12.4     13.5   2.4300  1.2690       0       0   \n",
              "156    12.2     12.1     13.0     13.8   2.2770  1.2558       0       0   \n",
              "157    19.7     13.2     14.3     15.2   2.8728  2.0672       0       0   \n",
              "158    19.9     13.8     15.0     16.2   2.9322  1.8792       0       0   \n",
              "\n",
              "     Spec_2  Spec_3  Spec_4  Spec_5  Spec_6  \n",
              "0         0       0       0       0       0  \n",
              "1         0       0       0       0       0  \n",
              "2         0       0       0       0       0  \n",
              "3         0       0       0       0       0  \n",
              "4         0       0       0       0       0  \n",
              "..      ...     ...     ...     ...     ...  \n",
              "154       0       0       0       0       1  \n",
              "155       0       0       0       0       1  \n",
              "156       0       0       0       0       1  \n",
              "157       0       0       0       0       1  \n",
              "158       0       0       0       0       1  \n",
              "\n",
              "[158 rows x 13 columns]"
            ],
            "text/html": [
              "\n",
              "  <div id=\"df-2ba85dfb-21a0-4879-90a4-0da2d45144b6\">\n",
              "    <div class=\"colab-df-container\">\n",
              "      <div>\n",
              "<style scoped>\n",
              "    .dataframe tbody tr th:only-of-type {\n",
              "        vertical-align: middle;\n",
              "    }\n",
              "\n",
              "    .dataframe tbody tr th {\n",
              "        vertical-align: top;\n",
              "    }\n",
              "\n",
              "    .dataframe thead th {\n",
              "        text-align: right;\n",
              "    }\n",
              "</style>\n",
              "<table border=\"1\" class=\"dataframe\">\n",
              "  <thead>\n",
              "    <tr style=\"text-align: right;\">\n",
              "      <th></th>\n",
              "      <th>Weight</th>\n",
              "      <th>Length1</th>\n",
              "      <th>Length2</th>\n",
              "      <th>Length3</th>\n",
              "      <th>Height</th>\n",
              "      <th>Width</th>\n",
              "      <th>Spec_0</th>\n",
              "      <th>Spec_1</th>\n",
              "      <th>Spec_2</th>\n",
              "      <th>Spec_3</th>\n",
              "      <th>Spec_4</th>\n",
              "      <th>Spec_5</th>\n",
              "      <th>Spec_6</th>\n",
              "    </tr>\n",
              "  </thead>\n",
              "  <tbody>\n",
              "    <tr>\n",
              "      <th>0</th>\n",
              "      <td>242.0</td>\n",
              "      <td>23.2</td>\n",
              "      <td>25.4</td>\n",
              "      <td>30.0</td>\n",
              "      <td>11.5200</td>\n",
              "      <td>4.0200</td>\n",
              "      <td>1</td>\n",
              "      <td>0</td>\n",
              "      <td>0</td>\n",
              "      <td>0</td>\n",
              "      <td>0</td>\n",
              "      <td>0</td>\n",
              "      <td>0</td>\n",
              "    </tr>\n",
              "    <tr>\n",
              "      <th>1</th>\n",
              "      <td>290.0</td>\n",
              "      <td>24.0</td>\n",
              "      <td>26.3</td>\n",
              "      <td>31.2</td>\n",
              "      <td>12.4800</td>\n",
              "      <td>4.3056</td>\n",
              "      <td>1</td>\n",
              "      <td>0</td>\n",
              "      <td>0</td>\n",
              "      <td>0</td>\n",
              "      <td>0</td>\n",
              "      <td>0</td>\n",
              "      <td>0</td>\n",
              "    </tr>\n",
              "    <tr>\n",
              "      <th>2</th>\n",
              "      <td>340.0</td>\n",
              "      <td>23.9</td>\n",
              "      <td>26.5</td>\n",
              "      <td>31.1</td>\n",
              "      <td>12.3778</td>\n",
              "      <td>4.6961</td>\n",
              "      <td>1</td>\n",
              "      <td>0</td>\n",
              "      <td>0</td>\n",
              "      <td>0</td>\n",
              "      <td>0</td>\n",
              "      <td>0</td>\n",
              "      <td>0</td>\n",
              "    </tr>\n",
              "    <tr>\n",
              "      <th>3</th>\n",
              "      <td>363.0</td>\n",
              "      <td>26.3</td>\n",
              "      <td>29.0</td>\n",
              "      <td>33.5</td>\n",
              "      <td>12.7300</td>\n",
              "      <td>4.4555</td>\n",
              "      <td>1</td>\n",
              "      <td>0</td>\n",
              "      <td>0</td>\n",
              "      <td>0</td>\n",
              "      <td>0</td>\n",
              "      <td>0</td>\n",
              "      <td>0</td>\n",
              "    </tr>\n",
              "    <tr>\n",
              "      <th>4</th>\n",
              "      <td>430.0</td>\n",
              "      <td>26.5</td>\n",
              "      <td>29.0</td>\n",
              "      <td>34.0</td>\n",
              "      <td>12.4440</td>\n",
              "      <td>5.1340</td>\n",
              "      <td>1</td>\n",
              "      <td>0</td>\n",
              "      <td>0</td>\n",
              "      <td>0</td>\n",
              "      <td>0</td>\n",
              "      <td>0</td>\n",
              "      <td>0</td>\n",
              "    </tr>\n",
              "    <tr>\n",
              "      <th>...</th>\n",
              "      <td>...</td>\n",
              "      <td>...</td>\n",
              "      <td>...</td>\n",
              "      <td>...</td>\n",
              "      <td>...</td>\n",
              "      <td>...</td>\n",
              "      <td>...</td>\n",
              "      <td>...</td>\n",
              "      <td>...</td>\n",
              "      <td>...</td>\n",
              "      <td>...</td>\n",
              "      <td>...</td>\n",
              "      <td>...</td>\n",
              "    </tr>\n",
              "    <tr>\n",
              "      <th>154</th>\n",
              "      <td>12.2</td>\n",
              "      <td>11.5</td>\n",
              "      <td>12.2</td>\n",
              "      <td>13.4</td>\n",
              "      <td>2.0904</td>\n",
              "      <td>1.3936</td>\n",
              "      <td>0</td>\n",
              "      <td>0</td>\n",
              "      <td>0</td>\n",
              "      <td>0</td>\n",
              "      <td>0</td>\n",
              "      <td>0</td>\n",
              "      <td>1</td>\n",
              "    </tr>\n",
              "    <tr>\n",
              "      <th>155</th>\n",
              "      <td>13.4</td>\n",
              "      <td>11.7</td>\n",
              "      <td>12.4</td>\n",
              "      <td>13.5</td>\n",
              "      <td>2.4300</td>\n",
              "      <td>1.2690</td>\n",
              "      <td>0</td>\n",
              "      <td>0</td>\n",
              "      <td>0</td>\n",
              "      <td>0</td>\n",
              "      <td>0</td>\n",
              "      <td>0</td>\n",
              "      <td>1</td>\n",
              "    </tr>\n",
              "    <tr>\n",
              "      <th>156</th>\n",
              "      <td>12.2</td>\n",
              "      <td>12.1</td>\n",
              "      <td>13.0</td>\n",
              "      <td>13.8</td>\n",
              "      <td>2.2770</td>\n",
              "      <td>1.2558</td>\n",
              "      <td>0</td>\n",
              "      <td>0</td>\n",
              "      <td>0</td>\n",
              "      <td>0</td>\n",
              "      <td>0</td>\n",
              "      <td>0</td>\n",
              "      <td>1</td>\n",
              "    </tr>\n",
              "    <tr>\n",
              "      <th>157</th>\n",
              "      <td>19.7</td>\n",
              "      <td>13.2</td>\n",
              "      <td>14.3</td>\n",
              "      <td>15.2</td>\n",
              "      <td>2.8728</td>\n",
              "      <td>2.0672</td>\n",
              "      <td>0</td>\n",
              "      <td>0</td>\n",
              "      <td>0</td>\n",
              "      <td>0</td>\n",
              "      <td>0</td>\n",
              "      <td>0</td>\n",
              "      <td>1</td>\n",
              "    </tr>\n",
              "    <tr>\n",
              "      <th>158</th>\n",
              "      <td>19.9</td>\n",
              "      <td>13.8</td>\n",
              "      <td>15.0</td>\n",
              "      <td>16.2</td>\n",
              "      <td>2.9322</td>\n",
              "      <td>1.8792</td>\n",
              "      <td>0</td>\n",
              "      <td>0</td>\n",
              "      <td>0</td>\n",
              "      <td>0</td>\n",
              "      <td>0</td>\n",
              "      <td>0</td>\n",
              "      <td>1</td>\n",
              "    </tr>\n",
              "  </tbody>\n",
              "</table>\n",
              "<p>158 rows × 13 columns</p>\n",
              "</div>\n",
              "      <button class=\"colab-df-convert\" onclick=\"convertToInteractive('df-2ba85dfb-21a0-4879-90a4-0da2d45144b6')\"\n",
              "              title=\"Convert this dataframe to an interactive table.\"\n",
              "              style=\"display:none;\">\n",
              "        \n",
              "  <svg xmlns=\"http://www.w3.org/2000/svg\" height=\"24px\"viewBox=\"0 0 24 24\"\n",
              "       width=\"24px\">\n",
              "    <path d=\"M0 0h24v24H0V0z\" fill=\"none\"/>\n",
              "    <path d=\"M18.56 5.44l.94 2.06.94-2.06 2.06-.94-2.06-.94-.94-2.06-.94 2.06-2.06.94zm-11 1L8.5 8.5l.94-2.06 2.06-.94-2.06-.94L8.5 2.5l-.94 2.06-2.06.94zm10 10l.94 2.06.94-2.06 2.06-.94-2.06-.94-.94-2.06-.94 2.06-2.06.94z\"/><path d=\"M17.41 7.96l-1.37-1.37c-.4-.4-.92-.59-1.43-.59-.52 0-1.04.2-1.43.59L10.3 9.45l-7.72 7.72c-.78.78-.78 2.05 0 2.83L4 21.41c.39.39.9.59 1.41.59.51 0 1.02-.2 1.41-.59l7.78-7.78 2.81-2.81c.8-.78.8-2.07 0-2.86zM5.41 20L4 18.59l7.72-7.72 1.47 1.35L5.41 20z\"/>\n",
              "  </svg>\n",
              "      </button>\n",
              "      \n",
              "  <style>\n",
              "    .colab-df-container {\n",
              "      display:flex;\n",
              "      flex-wrap:wrap;\n",
              "      gap: 12px;\n",
              "    }\n",
              "\n",
              "    .colab-df-convert {\n",
              "      background-color: #E8F0FE;\n",
              "      border: none;\n",
              "      border-radius: 50%;\n",
              "      cursor: pointer;\n",
              "      display: none;\n",
              "      fill: #1967D2;\n",
              "      height: 32px;\n",
              "      padding: 0 0 0 0;\n",
              "      width: 32px;\n",
              "    }\n",
              "\n",
              "    .colab-df-convert:hover {\n",
              "      background-color: #E2EBFA;\n",
              "      box-shadow: 0px 1px 2px rgba(60, 64, 67, 0.3), 0px 1px 3px 1px rgba(60, 64, 67, 0.15);\n",
              "      fill: #174EA6;\n",
              "    }\n",
              "\n",
              "    [theme=dark] .colab-df-convert {\n",
              "      background-color: #3B4455;\n",
              "      fill: #D2E3FC;\n",
              "    }\n",
              "\n",
              "    [theme=dark] .colab-df-convert:hover {\n",
              "      background-color: #434B5C;\n",
              "      box-shadow: 0px 1px 3px 1px rgba(0, 0, 0, 0.15);\n",
              "      filter: drop-shadow(0px 1px 2px rgba(0, 0, 0, 0.3));\n",
              "      fill: #FFFFFF;\n",
              "    }\n",
              "  </style>\n",
              "\n",
              "      <script>\n",
              "        const buttonEl =\n",
              "          document.querySelector('#df-2ba85dfb-21a0-4879-90a4-0da2d45144b6 button.colab-df-convert');\n",
              "        buttonEl.style.display =\n",
              "          google.colab.kernel.accessAllowed ? 'block' : 'none';\n",
              "\n",
              "        async function convertToInteractive(key) {\n",
              "          const element = document.querySelector('#df-2ba85dfb-21a0-4879-90a4-0da2d45144b6');\n",
              "          const dataTable =\n",
              "            await google.colab.kernel.invokeFunction('convertToInteractive',\n",
              "                                                     [key], {});\n",
              "          if (!dataTable) return;\n",
              "\n",
              "          const docLinkHtml = 'Like what you see? Visit the ' +\n",
              "            '<a target=\"_blank\" href=https://colab.research.google.com/notebooks/data_table.ipynb>data table notebook</a>'\n",
              "            + ' to learn more about interactive tables.';\n",
              "          element.innerHTML = '';\n",
              "          dataTable['output_type'] = 'display_data';\n",
              "          await google.colab.output.renderOutput(dataTable, element);\n",
              "          const docLink = document.createElement('div');\n",
              "          docLink.innerHTML = docLinkHtml;\n",
              "          element.appendChild(docLink);\n",
              "        }\n",
              "      </script>\n",
              "    </div>\n",
              "  </div>\n",
              "  "
            ]
          },
          "metadata": {},
          "execution_count": 38
        }
      ]
    },
    {
      "cell_type": "markdown",
      "metadata": {
        "id": "wY-3cKNAK3cX"
      },
      "source": [
        "We will now create a dataset with 1 target column and 12 feature columns: \n",
        "\n",
        "Length1, Length2, Length3, Height, Width, Spec_0, Spec_1, Spec_2, Spec_3, Spec_4, Spec_5, Spec_6."
      ]
    },
    {
      "cell_type": "code",
      "metadata": {
        "id": "t49zhMyUJni-",
        "colab": {
          "base_uri": "https://localhost:8080/"
        },
        "outputId": "7371115a-20b4-4f6c-f5e6-b681e8a5769e"
      },
      "source": [
        "# Split fish_data into \n",
        "y_fish_categorical = fish_data_species.iloc[:, 0] # Get Fish Weights\n",
        "X_fish_categorical = fish_data_species.drop(columns=['Weight']) # Get Fish measurements plus species\n",
        "\n",
        "# Print X_fish_categorical.head(), you should have 6 features for each sample\n",
        "print(\"X_fish_categorical.head():\")\n",
        "print(X_fish_categorical.head())\n",
        "\n",
        "# Print y_fish_categorical.head(), you should have one label for each sample\n",
        "print(\"\\ny_fish_categorical.head()\")\n",
        "print(y_fish_categorical.head())\n"
      ],
      "execution_count": 39,
      "outputs": [
        {
          "output_type": "stream",
          "name": "stdout",
          "text": [
            "X_fish_categorical.head():\n",
            "   Length1  Length2  Length3   Height   Width  Spec_0  Spec_1  Spec_2  Spec_3  \\\n",
            "0     23.2     25.4     30.0  11.5200  4.0200       1       0       0       0   \n",
            "1     24.0     26.3     31.2  12.4800  4.3056       1       0       0       0   \n",
            "2     23.9     26.5     31.1  12.3778  4.6961       1       0       0       0   \n",
            "3     26.3     29.0     33.5  12.7300  4.4555       1       0       0       0   \n",
            "4     26.5     29.0     34.0  12.4440  5.1340       1       0       0       0   \n",
            "\n",
            "   Spec_4  Spec_5  Spec_6  \n",
            "0       0       0       0  \n",
            "1       0       0       0  \n",
            "2       0       0       0  \n",
            "3       0       0       0  \n",
            "4       0       0       0  \n",
            "\n",
            "y_fish_categorical.head()\n",
            "0    242.0\n",
            "1    290.0\n",
            "2    340.0\n",
            "3    363.0\n",
            "4    430.0\n",
            "Name: Weight, dtype: float64\n"
          ]
        }
      ]
    },
    {
      "cell_type": "markdown",
      "metadata": {
        "id": "-vlKZB6CK6U-"
      },
      "source": [
        "Create training and test sets for the fish data with categorical species variable:"
      ]
    },
    {
      "cell_type": "code",
      "metadata": {
        "id": "JzzEthUHJndk"
      },
      "source": [
        "# Convert X, and y into np arrays\n",
        "X_fish_categorical = X_fish_categorical.values\n",
        "y_fish_categorical = y_fish_categorical.values\n",
        "\n",
        "# Split data into train test split\n",
        "from sklearn.model_selection import train_test_split\n",
        "X_fish_train_categorical, X_fish_test_categorical, y_fish_train_categorical, y_fish_test_categorical = train_test_split(X_fish_categorical, y_fish_categorical, test_size = 0.2, random_state = 0)"
      ],
      "execution_count": 40,
      "outputs": []
    },
    {
      "cell_type": "markdown",
      "metadata": {
        "id": "gTp4MctlI3WL"
      },
      "source": [
        "Now we are ready to run a our final multiple linear regression. As a recap, we added a categorical variable to represent the species of fish. We encoded the species as levels, and overwrote the species column with the numeric representations of the species. Now, use sklearn's **LinearRegression** to carry out regression one last time."
      ]
    },
    {
      "cell_type": "code",
      "metadata": {
        "id": "E3anA9_dLZEy",
        "colab": {
          "base_uri": "https://localhost:8080/"
        },
        "outputId": "6de1ca91-6221-4a5e-8836-da0234d06866"
      },
      "source": [
        "from sklearn.linear_model import LinearRegression\n",
        "regressor = LinearRegression() ### YOUR CODE HERE ### \n",
        "\n",
        "# Fit the regressor using X_fish_train_categorical and y_fish_train_categorical\n",
        "### YOUR CODE HERE ###\n",
        "regressor.fit(X_fish_train_categorical, y_fish_train_categorical)\n"
      ],
      "execution_count": 41,
      "outputs": [
        {
          "output_type": "execute_result",
          "data": {
            "text/plain": [
              "LinearRegression()"
            ]
          },
          "metadata": {},
          "execution_count": 41
        }
      ]
    },
    {
      "cell_type": "markdown",
      "metadata": {
        "id": "6Oac4Ng3L_h3"
      },
      "source": [
        "Let's check the predictions for this model and generate predictions using X_fish_test_categorical. Then print target and estimated weight values side-by-side."
      ]
    },
    {
      "cell_type": "code",
      "metadata": {
        "id": "-e63kqUtL3PW",
        "colab": {
          "base_uri": "https://localhost:8080/",
          "height": 1000
        },
        "outputId": "10ebd126-5f1e-4f5b-ff14-f5a282266c75"
      },
      "source": [
        "# generate predictions using X_fish_test_categorical\n",
        "y_fish_pred_categorical = regressor.predict(X_fish_test_categorical) ### YOUR CODE HERE ### \n",
        "\n",
        "\n",
        "# Print the predictions along with actual weights\n",
        "### YOUR CODE HERE ### \n",
        "print(y_fish_pred_categorical)\n",
        "print(y_fish_test)\n",
        "\n",
        "compare_data = {'y_fish_pred_categorical': y_fish_pred_categorical, 'y_fish_test':  y_fish_test}\n",
        "pd.DataFrame(data=compare_data)"
      ],
      "execution_count": 42,
      "outputs": [
        {
          "output_type": "stream",
          "name": "stdout",
          "text": [
            "[ 446.17903555  201.3215343   719.01091459  895.7044696    76.68973367\n",
            "  913.32596816  825.02970894  880.97643445  661.23970033  183.84246337\n",
            "  704.98914626 1092.28989248  728.53350935  -89.63394122   51.90975236\n",
            "  262.30549462  369.73698835  237.22909697 1092.28989248  380.3923923\n",
            "  128.73284194  937.73584132  792.01319329  481.4630642   103.25655096\n",
            "    7.26381238  393.21935141  607.0017268   -69.15767511  578.52069687\n",
            "  342.05134067  312.61766961]\n",
            "[ 390.   160.   700.  1015.   120.  1100.   820.   950.   556.   145.\n",
            "  700.  1600.   720.    55.    85.   188.   300.   180.  1550.   306.\n",
            "  140.   975.  1000.   450.   110.    78.   300.   650.     6.7  514.\n",
            "  290.   270. ]\n"
          ]
        },
        {
          "output_type": "execute_result",
          "data": {
            "text/plain": [
              "    y_fish_pred_categorical  y_fish_test\n",
              "0                446.179036        390.0\n",
              "1                201.321534        160.0\n",
              "2                719.010915        700.0\n",
              "3                895.704470       1015.0\n",
              "4                 76.689734        120.0\n",
              "5                913.325968       1100.0\n",
              "6                825.029709        820.0\n",
              "7                880.976434        950.0\n",
              "8                661.239700        556.0\n",
              "9                183.842463        145.0\n",
              "10               704.989146        700.0\n",
              "11              1092.289892       1600.0\n",
              "12               728.533509        720.0\n",
              "13               -89.633941         55.0\n",
              "14                51.909752         85.0\n",
              "15               262.305495        188.0\n",
              "16               369.736988        300.0\n",
              "17               237.229097        180.0\n",
              "18              1092.289892       1550.0\n",
              "19               380.392392        306.0\n",
              "20               128.732842        140.0\n",
              "21               937.735841        975.0\n",
              "22               792.013193       1000.0\n",
              "23               481.463064        450.0\n",
              "24               103.256551        110.0\n",
              "25                 7.263812         78.0\n",
              "26               393.219351        300.0\n",
              "27               607.001727        650.0\n",
              "28               -69.157675          6.7\n",
              "29               578.520697        514.0\n",
              "30               342.051341        290.0\n",
              "31               312.617670        270.0"
            ],
            "text/html": [
              "\n",
              "  <div id=\"df-78c8206e-f88a-425b-8a43-b5bda41d8aee\">\n",
              "    <div class=\"colab-df-container\">\n",
              "      <div>\n",
              "<style scoped>\n",
              "    .dataframe tbody tr th:only-of-type {\n",
              "        vertical-align: middle;\n",
              "    }\n",
              "\n",
              "    .dataframe tbody tr th {\n",
              "        vertical-align: top;\n",
              "    }\n",
              "\n",
              "    .dataframe thead th {\n",
              "        text-align: right;\n",
              "    }\n",
              "</style>\n",
              "<table border=\"1\" class=\"dataframe\">\n",
              "  <thead>\n",
              "    <tr style=\"text-align: right;\">\n",
              "      <th></th>\n",
              "      <th>y_fish_pred_categorical</th>\n",
              "      <th>y_fish_test</th>\n",
              "    </tr>\n",
              "  </thead>\n",
              "  <tbody>\n",
              "    <tr>\n",
              "      <th>0</th>\n",
              "      <td>446.179036</td>\n",
              "      <td>390.0</td>\n",
              "    </tr>\n",
              "    <tr>\n",
              "      <th>1</th>\n",
              "      <td>201.321534</td>\n",
              "      <td>160.0</td>\n",
              "    </tr>\n",
              "    <tr>\n",
              "      <th>2</th>\n",
              "      <td>719.010915</td>\n",
              "      <td>700.0</td>\n",
              "    </tr>\n",
              "    <tr>\n",
              "      <th>3</th>\n",
              "      <td>895.704470</td>\n",
              "      <td>1015.0</td>\n",
              "    </tr>\n",
              "    <tr>\n",
              "      <th>4</th>\n",
              "      <td>76.689734</td>\n",
              "      <td>120.0</td>\n",
              "    </tr>\n",
              "    <tr>\n",
              "      <th>5</th>\n",
              "      <td>913.325968</td>\n",
              "      <td>1100.0</td>\n",
              "    </tr>\n",
              "    <tr>\n",
              "      <th>6</th>\n",
              "      <td>825.029709</td>\n",
              "      <td>820.0</td>\n",
              "    </tr>\n",
              "    <tr>\n",
              "      <th>7</th>\n",
              "      <td>880.976434</td>\n",
              "      <td>950.0</td>\n",
              "    </tr>\n",
              "    <tr>\n",
              "      <th>8</th>\n",
              "      <td>661.239700</td>\n",
              "      <td>556.0</td>\n",
              "    </tr>\n",
              "    <tr>\n",
              "      <th>9</th>\n",
              "      <td>183.842463</td>\n",
              "      <td>145.0</td>\n",
              "    </tr>\n",
              "    <tr>\n",
              "      <th>10</th>\n",
              "      <td>704.989146</td>\n",
              "      <td>700.0</td>\n",
              "    </tr>\n",
              "    <tr>\n",
              "      <th>11</th>\n",
              "      <td>1092.289892</td>\n",
              "      <td>1600.0</td>\n",
              "    </tr>\n",
              "    <tr>\n",
              "      <th>12</th>\n",
              "      <td>728.533509</td>\n",
              "      <td>720.0</td>\n",
              "    </tr>\n",
              "    <tr>\n",
              "      <th>13</th>\n",
              "      <td>-89.633941</td>\n",
              "      <td>55.0</td>\n",
              "    </tr>\n",
              "    <tr>\n",
              "      <th>14</th>\n",
              "      <td>51.909752</td>\n",
              "      <td>85.0</td>\n",
              "    </tr>\n",
              "    <tr>\n",
              "      <th>15</th>\n",
              "      <td>262.305495</td>\n",
              "      <td>188.0</td>\n",
              "    </tr>\n",
              "    <tr>\n",
              "      <th>16</th>\n",
              "      <td>369.736988</td>\n",
              "      <td>300.0</td>\n",
              "    </tr>\n",
              "    <tr>\n",
              "      <th>17</th>\n",
              "      <td>237.229097</td>\n",
              "      <td>180.0</td>\n",
              "    </tr>\n",
              "    <tr>\n",
              "      <th>18</th>\n",
              "      <td>1092.289892</td>\n",
              "      <td>1550.0</td>\n",
              "    </tr>\n",
              "    <tr>\n",
              "      <th>19</th>\n",
              "      <td>380.392392</td>\n",
              "      <td>306.0</td>\n",
              "    </tr>\n",
              "    <tr>\n",
              "      <th>20</th>\n",
              "      <td>128.732842</td>\n",
              "      <td>140.0</td>\n",
              "    </tr>\n",
              "    <tr>\n",
              "      <th>21</th>\n",
              "      <td>937.735841</td>\n",
              "      <td>975.0</td>\n",
              "    </tr>\n",
              "    <tr>\n",
              "      <th>22</th>\n",
              "      <td>792.013193</td>\n",
              "      <td>1000.0</td>\n",
              "    </tr>\n",
              "    <tr>\n",
              "      <th>23</th>\n",
              "      <td>481.463064</td>\n",
              "      <td>450.0</td>\n",
              "    </tr>\n",
              "    <tr>\n",
              "      <th>24</th>\n",
              "      <td>103.256551</td>\n",
              "      <td>110.0</td>\n",
              "    </tr>\n",
              "    <tr>\n",
              "      <th>25</th>\n",
              "      <td>7.263812</td>\n",
              "      <td>78.0</td>\n",
              "    </tr>\n",
              "    <tr>\n",
              "      <th>26</th>\n",
              "      <td>393.219351</td>\n",
              "      <td>300.0</td>\n",
              "    </tr>\n",
              "    <tr>\n",
              "      <th>27</th>\n",
              "      <td>607.001727</td>\n",
              "      <td>650.0</td>\n",
              "    </tr>\n",
              "    <tr>\n",
              "      <th>28</th>\n",
              "      <td>-69.157675</td>\n",
              "      <td>6.7</td>\n",
              "    </tr>\n",
              "    <tr>\n",
              "      <th>29</th>\n",
              "      <td>578.520697</td>\n",
              "      <td>514.0</td>\n",
              "    </tr>\n",
              "    <tr>\n",
              "      <th>30</th>\n",
              "      <td>342.051341</td>\n",
              "      <td>290.0</td>\n",
              "    </tr>\n",
              "    <tr>\n",
              "      <th>31</th>\n",
              "      <td>312.617670</td>\n",
              "      <td>270.0</td>\n",
              "    </tr>\n",
              "  </tbody>\n",
              "</table>\n",
              "</div>\n",
              "      <button class=\"colab-df-convert\" onclick=\"convertToInteractive('df-78c8206e-f88a-425b-8a43-b5bda41d8aee')\"\n",
              "              title=\"Convert this dataframe to an interactive table.\"\n",
              "              style=\"display:none;\">\n",
              "        \n",
              "  <svg xmlns=\"http://www.w3.org/2000/svg\" height=\"24px\"viewBox=\"0 0 24 24\"\n",
              "       width=\"24px\">\n",
              "    <path d=\"M0 0h24v24H0V0z\" fill=\"none\"/>\n",
              "    <path d=\"M18.56 5.44l.94 2.06.94-2.06 2.06-.94-2.06-.94-.94-2.06-.94 2.06-2.06.94zm-11 1L8.5 8.5l.94-2.06 2.06-.94-2.06-.94L8.5 2.5l-.94 2.06-2.06.94zm10 10l.94 2.06.94-2.06 2.06-.94-2.06-.94-.94-2.06-.94 2.06-2.06.94z\"/><path d=\"M17.41 7.96l-1.37-1.37c-.4-.4-.92-.59-1.43-.59-.52 0-1.04.2-1.43.59L10.3 9.45l-7.72 7.72c-.78.78-.78 2.05 0 2.83L4 21.41c.39.39.9.59 1.41.59.51 0 1.02-.2 1.41-.59l7.78-7.78 2.81-2.81c.8-.78.8-2.07 0-2.86zM5.41 20L4 18.59l7.72-7.72 1.47 1.35L5.41 20z\"/>\n",
              "  </svg>\n",
              "      </button>\n",
              "      \n",
              "  <style>\n",
              "    .colab-df-container {\n",
              "      display:flex;\n",
              "      flex-wrap:wrap;\n",
              "      gap: 12px;\n",
              "    }\n",
              "\n",
              "    .colab-df-convert {\n",
              "      background-color: #E8F0FE;\n",
              "      border: none;\n",
              "      border-radius: 50%;\n",
              "      cursor: pointer;\n",
              "      display: none;\n",
              "      fill: #1967D2;\n",
              "      height: 32px;\n",
              "      padding: 0 0 0 0;\n",
              "      width: 32px;\n",
              "    }\n",
              "\n",
              "    .colab-df-convert:hover {\n",
              "      background-color: #E2EBFA;\n",
              "      box-shadow: 0px 1px 2px rgba(60, 64, 67, 0.3), 0px 1px 3px 1px rgba(60, 64, 67, 0.15);\n",
              "      fill: #174EA6;\n",
              "    }\n",
              "\n",
              "    [theme=dark] .colab-df-convert {\n",
              "      background-color: #3B4455;\n",
              "      fill: #D2E3FC;\n",
              "    }\n",
              "\n",
              "    [theme=dark] .colab-df-convert:hover {\n",
              "      background-color: #434B5C;\n",
              "      box-shadow: 0px 1px 3px 1px rgba(0, 0, 0, 0.15);\n",
              "      filter: drop-shadow(0px 1px 2px rgba(0, 0, 0, 0.3));\n",
              "      fill: #FFFFFF;\n",
              "    }\n",
              "  </style>\n",
              "\n",
              "      <script>\n",
              "        const buttonEl =\n",
              "          document.querySelector('#df-78c8206e-f88a-425b-8a43-b5bda41d8aee button.colab-df-convert');\n",
              "        buttonEl.style.display =\n",
              "          google.colab.kernel.accessAllowed ? 'block' : 'none';\n",
              "\n",
              "        async function convertToInteractive(key) {\n",
              "          const element = document.querySelector('#df-78c8206e-f88a-425b-8a43-b5bda41d8aee');\n",
              "          const dataTable =\n",
              "            await google.colab.kernel.invokeFunction('convertToInteractive',\n",
              "                                                     [key], {});\n",
              "          if (!dataTable) return;\n",
              "\n",
              "          const docLinkHtml = 'Like what you see? Visit the ' +\n",
              "            '<a target=\"_blank\" href=https://colab.research.google.com/notebooks/data_table.ipynb>data table notebook</a>'\n",
              "            + ' to learn more about interactive tables.';\n",
              "          element.innerHTML = '';\n",
              "          dataTable['output_type'] = 'display_data';\n",
              "          await google.colab.output.renderOutput(dataTable, element);\n",
              "          const docLink = document.createElement('div');\n",
              "          docLink.innerHTML = docLinkHtml;\n",
              "          element.appendChild(docLink);\n",
              "        }\n",
              "      </script>\n",
              "    </div>\n",
              "  </div>\n",
              "  "
            ]
          },
          "metadata": {},
          "execution_count": 42
        }
      ]
    },
    {
      "cell_type": "markdown",
      "metadata": {
        "id": "lz031lPOZuDJ"
      },
      "source": [
        "### f) Computing MSE and R-squared for MLR with Categorical Variable (5 points)"
      ]
    },
    {
      "cell_type": "code",
      "metadata": {
        "id": "vxN7AuQKMkii",
        "colab": {
          "base_uri": "https://localhost:8080/"
        },
        "outputId": "face4bc1-2a79-4b18-f5f3-d953224c744e"
      },
      "source": [
        "# Compute the mean squared error using y_fish_test_categorical and y_fish_pred_categorical\n",
        "### YOUR CODE HERE ###\n",
        "\n",
        "print(mean_squared_error(y_fish_test_categorical, y_fish_pred_categorical, squared=True))\n",
        "\n",
        "# Compute the coefficient of determination using y_fish_test_categorical and y_fish_pred_categorical\n",
        "### YOUR CODE HERE ###\n",
        "\n",
        "print(r2_score(y_fish_test_categorical, y_fish_pred_categorical))"
      ],
      "execution_count": 43,
      "outputs": [
        {
          "output_type": "stream",
          "name": "stdout",
          "text": [
            "20560.04522585742\n",
            "0.8856833708457776\n"
          ]
        }
      ]
    },
    {
      "cell_type": "markdown",
      "metadata": {
        "id": "-PNcaCIHMkij"
      },
      "source": [
        "Using y_fish_test_categorical and y_fish_pred_categorical, what was the mean squared error for this model?"
      ]
    },
    {
      "cell_type": "markdown",
      "metadata": {
        "id": "3qdvVAuyMkij"
      },
      "source": [
        "[YOUR ANSWER HERE]\n",
        "The mean squared error for this model is 20560.04522585742"
      ]
    },
    {
      "cell_type": "markdown",
      "metadata": {
        "id": "wwUEH3VwMkij"
      },
      "source": [
        "Using y_fish_test_categorical and y_fish_pred_categorical, what was the coefficient of detemination for this model?"
      ]
    },
    {
      "cell_type": "markdown",
      "metadata": {
        "id": "9eCKexTmNNQI"
      },
      "source": [
        "[YOUR ANSWER HERE]\n",
        "The coefficient of detemination for this model is 0.8856833708457776"
      ]
    },
    {
      "cell_type": "markdown",
      "metadata": {
        "id": "E7Mj2JJcImZW"
      },
      "source": [
        "### g) Researching for the Best Model (15 points)"
      ]
    },
    {
      "cell_type": "markdown",
      "metadata": {
        "id": "Iqy3IOXwNXuw"
      },
      "source": [
        "Read [this](https://www.datarobot.com/blog/regularized-linear-regression-with-scikit-learn/) tutorial to see how you can control the degree of the polynomial and train a **Regularized** linear regression model.\n",
        "\n",
        "In the cell below, investigate and show your observations on:\n",
        "1. Which features are important?\n",
        "2. What polynomial order is appropriate for the model to have an appropriate fit (no overfitting or underfitting)?\n",
        "3. The impact of regularization (L2 norm or L1 norm) and the regularizer factor/parameter on model's generalization capability.\n",
        "4. Finally, report your best model (including model's cost function, regularizer, regularizer factor, and polynomial order) along with a plot of model's performance on the training data and test data. We expect this model to perform better than all prior models you trained."
      ]
    },
    {
      "cell_type": "code",
      "metadata": {
        "id": "bZG3jRfW7-wu",
        "colab": {
          "base_uri": "https://localhost:8080/"
        },
        "outputId": "2f73d562-99d0-4b3f-e68d-4bc501caf9ba"
      },
      "source": [
        "### YOUR CODE HERE ###:\n",
        "import math\n",
        "\n",
        "graph_x = []\n",
        "graph_y = []\n",
        "graph_y_train = []\n",
        "for i, degree in enumerate([1, 2, 3, 4, 5, 6, 7, 8, 9]): #[1, 2, 3, 4, 5, 6, 7, 8, 9]:\n",
        "\n",
        "  poly = PolynomialFeatures(degree) ### YOUR CODE HERE ###\n",
        "  # X_fish_train_pol = poly.fit_transform(X_fish_train) ### YOUR CODE HERE ###\n",
        "  # X_fish_test_pol = poly.fit_transform(X_fish_test) ### YOUR CODE HERE ###\n",
        "\n",
        "  # regressor = LinearRegression()\n",
        "  # regressor.fit(X_fish_train_pol, y_fish_train)\n",
        "\n",
        "  # y_pred = regressor.predict(X_fish_test_pol)\n",
        "\n",
        "  X_fish_train_pol = poly.fit_transform(X_fish_train_categorical) ### X_fish_train\n",
        "  X_fish_test_pol = poly.fit_transform(X_fish_test_categorical) ### X_fish_test\n",
        "\n",
        "  regressor = LinearRegression()\n",
        "  regressor.fit(X_fish_train_pol, y_fish_train_categorical) # regressor.fit(X_fish_train_pol, y_fish_train)  \n",
        "  y_pred = regressor.predict(X_fish_test_pol)\n",
        "  y_pred_train = regressor.predict(X_fish_train_pol)\n",
        "\n",
        "  print(\"The mean squared error for degree {degree} is {MSE}\".format(degree = degree , MSE = mean_squared_error(y_pred, y_fish_test, squared=True)))\n",
        "  print(\"The coefficient of determination for degree {degree} is {r2}\".format(degree = degree, r2 = r2_score(y_pred, y_fish_test)))\n",
        "  print()\n",
        "  graph_x.append(i+1)\n",
        "  graph_y.append(math.log(mean_squared_error(y_pred, y_fish_test, squared=True)))\n",
        "  graph_y_train.append(math.log(mean_squared_error(y_pred_train, y_fish_train_categorical, squared=True)))\n",
        "  \n",
        "\n",
        "poly = PolynomialFeatures(2) ### YOUR CODE HERE ###\n",
        "X_fish_train_pol = poly.fit_transform(X_fish_train_categorical) ### X_fish_train\n",
        "X_fish_test_pol = poly.fit_transform(X_fish_test_categorical) ### X_fish_test\n",
        "\n"
      ],
      "execution_count": 44,
      "outputs": [
        {
          "output_type": "stream",
          "name": "stdout",
          "text": [
            "The mean squared error for degree 1 is 20560.045225857415\n",
            "The coefficient of determination for degree 1 is 0.8238578220811995\n",
            "\n",
            "The mean squared error for degree 2 is 6438.278313609146\n",
            "The coefficient of determination for degree 2 is 0.9545815551856645\n",
            "\n",
            "The mean squared error for degree 3 is 655189335.3082612\n",
            "The coefficient of determination for degree 3 is -0.07782307888326478\n",
            "\n",
            "The mean squared error for degree 4 is 1746779099.6729975\n",
            "The coefficient of determination for degree 4 is -0.0928879452756739\n",
            "\n",
            "The mean squared error for degree 5 is 8636538570.846994\n",
            "The coefficient of determination for degree 5 is -0.08787889836477292\n",
            "\n",
            "The mean squared error for degree 6 is 43754618505.381485\n",
            "The coefficient of determination for degree 6 is -0.08298285891776014\n",
            "\n",
            "The mean squared error for degree 7 is 236770179398.45242\n",
            "The coefficient of determination for degree 7 is -0.07838354319546781\n",
            "\n",
            "The mean squared error for degree 8 is 1332175626532.6108\n",
            "The coefficient of determination for degree 8 is -0.07473133294759937\n",
            "\n",
            "The mean squared error for degree 9 is 7432844090130.869\n",
            "The coefficient of determination for degree 9 is -0.07212157730800683\n",
            "\n"
          ]
        }
      ]
    },
    {
      "cell_type": "code",
      "source": [
        "regressor = LinearRegression()\n",
        "regressor.fit(X_fish_train_pol, y_fish_train_categorical) # regressor.fit(X_fish_train_pol, y_fish_train)\n",
        "impactful_coef = min(regressor.coef_) if abs(min(regressor.coef_)) > max(regressor.coef_) else max(regressor.coef_)\n",
        "print(\"The most impactful coef is \", impactful_coef)\n",
        "impactful_coef_index = np.where((regressor.coef_ == impactful_coef ))[0][0]\n",
        "print(\"The largest coef is at index of \", impactful_coef_index)\n",
        "print(\"The feature at the impactful_coef_index is \", poly.get_feature_names()[impactful_coef_index])\n"
      ],
      "metadata": {
        "colab": {
          "base_uri": "https://localhost:8080/"
        },
        "id": "OwIgmCaSnD59",
        "outputId": "20d576bc-36c6-4c36-f7f9-053105b400ec"
      },
      "execution_count": 45,
      "outputs": [
        {
          "output_type": "stream",
          "name": "stdout",
          "text": [
            "The most impactful coef is  -435.7793548208209\n",
            "The largest coef is at index of  63\n",
            "The feature at the impactful_coef_index is  x5^2\n"
          ]
        },
        {
          "output_type": "stream",
          "name": "stderr",
          "text": [
            "/usr/local/lib/python3.8/dist-packages/sklearn/utils/deprecation.py:87: FutureWarning: Function get_feature_names is deprecated; get_feature_names is deprecated in 1.0 and will be removed in 1.2. Please use get_feature_names_out instead.\n",
            "  warnings.warn(msg, category=FutureWarning)\n"
          ]
        }
      ]
    },
    {
      "cell_type": "code",
      "source": [
        "plt.plot(graph_x, graph_y_train, color='green', label='train')\n",
        "plt.plot(graph_x, graph_y, color='red', label='test')\n",
        "plt.ylabel('log(mean squared error)')\n",
        "plt.xlabel('degree')\n",
        "plt.legend(loc='lower left')\n",
        "\n",
        "\n"
      ],
      "metadata": {
        "colab": {
          "base_uri": "https://localhost:8080/",
          "height": 0
        },
        "id": "mAgqomP-ox7O",
        "outputId": "82405310-21a5-4072-8eb0-03b8a700c5ff"
      },
      "execution_count": 46,
      "outputs": [
        {
          "output_type": "execute_result",
          "data": {
            "text/plain": [
              "<matplotlib.legend.Legend at 0x7f5a0ea8f880>"
            ]
          },
          "metadata": {},
          "execution_count": 46
        },
        {
          "output_type": "display_data",
          "data": {
            "text/plain": [
              "<Figure size 432x288 with 1 Axes>"
            ],
            "image/png": "[encoded data removed]"
          },
          "metadata": {
            "needs_background": "light"
          }
        }
      ]
    },
    {
      "cell_type": "code",
      "source": [
        "from sklearn.linear_model import Ridge\n",
        "\n",
        "def plot_approximation(est, ax, label=None):\n",
        "\n",
        "# \"\"\"Plot the approximation of ``est`` on axis ``ax``. \"\"\"\n",
        "\n",
        "  ax.plot(x_plot, f(x_plot), color='green')\n",
        "\n",
        "  ax.scatter(X_train, y_train, s=10)\n",
        "\n",
        "  ax.plot(x_plot, est.predict(x_plot[:, np.newaxis]), color='red', label=label)\n",
        "\n",
        "  ax.set_ylim((-2, 2))\n",
        "\n",
        "  ax.set_xlim((0, 1))\n",
        "\n",
        "  ax.set_ylabel('y')\n",
        "\n",
        "  ax.set_xlabel('x')\n",
        "\n",
        "  ax.legend(loc='upper right')  #, fontsize='small')\n",
        "\n",
        "def plot_coefficients(est, ax, label=None, yscale='log'):\n",
        "  coef = est.steps[-1][1].coef_.ravel()\n",
        "  if yscale == 'log':\n",
        "    ax.semilogy(np.abs(coef), marker='o', label=label)\n",
        "    ax.set_ylim((1e-1, 1e8))\n",
        "  else:\n",
        "    ax.plot(np.abs(coef), marker='o', label=label)\n",
        "    ax.set_ylabel('abs(coefficient)')\n",
        "    ax.set_xlabel('coefficients')\n",
        "    ax.set_xlim((1, 9))\n",
        "\n",
        "\n",
        "\n",
        "####################################################\n",
        "# If the degree is larger the session would crash.\n",
        "####################################################\n",
        "\n",
        "from sklearn.linear_model import Lasso\n",
        "from sklearn.pipeline import make_pipeline\n",
        "degree = 2 # If I set the degree higher it will use all available RAM and the session would crash.\n",
        "alphas = [0.0, 0.1, 10, 100, 1000, 10000, 100000, 1000000, 1200000] # [0.0, 1e-8, 1e-5, 1e-1, 1]\n",
        "for alpha in (alphas):\n",
        "  X_fish_train_pol = poly.fit_transform(X_fish_train_categorical) ### X_fish_train\n",
        "  X_fish_test_pol = poly.fit_transform(X_fish_test_categorical)\n",
        "\n",
        "  est = make_pipeline(PolynomialFeatures(degree), Lasso(alpha=alpha))\n",
        "  est.fit(X_fish_train_pol, y_fish_train_categorical)\n",
        "  # poly = PolynomialFeatures(degree)\n",
        "\n",
        "  # regressor = Ridge(alpha = alpha)#LinearRegression()\n",
        "  # regressor.fit(X_fish_train_pol, y_fish_train_categorical) # regressor.fit(X_fish_train_pol, y_fish_train)  \n",
        "  y_pred = est.predict(X_fish_test_pol) #regressor.predict(X_fish_test_pol)\n",
        "  print(\"Alpha = {alpha}, the mean squared error for degree {degree} is {MSE}\".format(alpha = alpha, degree = degree , MSE = mean_squared_error(y_pred, y_fish_test, squared=True)))\n",
        "  print(\"Alpha = {alpha}, the coefficient of determination for degree {degree} is {r2}\".format(alpha = alpha, degree = degree, r2 = r2_score(y_pred, y_fish_test)))\n",
        "\n",
        "# It also crashes\n",
        "# ####################################################\n",
        "# # Fish data without species\n",
        "# ####################################################\n",
        "\n",
        "\n",
        "# degree = 2 # If I set the degree higher it will use all available RAM and the session would crash.\n",
        "# alphas = [0.0, 0.1, 10, 100, 1000, 10000, 100000, 1000000, 1200000] # [0.0, 1e-8, 1e-5, 1e-1, 1]\n",
        "# for alpha in (alphas):\n",
        "#   X_fish_train_pol = poly.fit_transform(X_fish_train_pol) ### X_fish_train\n",
        "#   X_fish_test_pol = poly.fit_transform(X_fish_test_pol)\n",
        "\n",
        "#   est = make_pipeline(PolynomialFeatures(degree), Lasso(alpha=alpha))\n",
        "#   # est.fit(X_fish_train_pol, y_fish_train_categorical)\n",
        "#   est.fit(X_fish_train_pol, y_fish_train)\n",
        "#   # poly = PolynomialFeatures(degree)\n",
        "#   # regressor = Ridge(alpha = alpha)#LinearRegression()\n",
        "#   # regressor.fit(X_fish_train_pol, y_fish_train_categorical) # regressor.fit(X_fish_train_pol, y_fish_train)  \n",
        "#   y_pred = est.predict(X_fish_test_pol) #regressor.predict(X_fish_test_pol)\n",
        "#   print(\"Alpha = {alpha}, the mean squared error for degree {degree} is {MSE}\".format(alpha = alpha, degree = degree , MSE = mean_squared_error(y_pred, y_fish_test, squared=True)))\n",
        "#   print(\"Alpha = {alpha}, the coefficient of determination for degree {degree} is {r2}\".format(alpha = alpha, degree = degree, r2 = r2_score(y_pred, y_fish_test)))\n",
        "  "
      ],
      "metadata": {
        "colab": {
          "base_uri": "https://localhost:8080/"
        },
        "id": "l_ReBn2oXuwn",
        "outputId": "d27c104f-49ff-48d6-e702-13641bea67ff"
      },
      "execution_count": 47,
      "outputs": [
        {
          "output_type": "stream",
          "name": "stderr",
          "text": [
            "/usr/local/lib/python3.8/dist-packages/sklearn/pipeline.py:394: UserWarning: With alpha=0, this algorithm does not converge well. You are advised to use the LinearRegression estimator\n",
            "  self._final_estimator.fit(Xt, y, **fit_params_last_step)\n",
            "/usr/local/lib/python3.8/dist-packages/sklearn/linear_model/_coordinate_descent.py:647: UserWarning: Coordinate descent with no regularization may lead to unexpected results and is discouraged.\n",
            "  model = cd_fast.enet_coordinate_descent(\n",
            "/usr/local/lib/python3.8/dist-packages/sklearn/linear_model/_coordinate_descent.py:647: ConvergenceWarning: Objective did not converge. You might want to increase the number of iterations, check the scale of the features or consider increasing regularisation. Duality gap: 6.126e+04, tolerance: 1.383e+03 Linear regression models with null weight for the l1 regularization term are more efficiently fitted using one of the solvers implemented in sklearn.linear_model.Ridge/RidgeCV instead.\n",
            "  model = cd_fast.enet_coordinate_descent(\n"
          ]
        },
        {
          "output_type": "stream",
          "name": "stdout",
          "text": [
            "Alpha = 0.0, the mean squared error for degree 2 is 6251.586256509556\n",
            "Alpha = 0.0, the coefficient of determination for degree 2 is 0.9563176358500196\n"
          ]
        },
        {
          "output_type": "stream",
          "name": "stderr",
          "text": [
            "/usr/local/lib/python3.8/dist-packages/sklearn/linear_model/_coordinate_descent.py:647: ConvergenceWarning: Objective did not converge. You might want to increase the number of iterations, check the scale of the features or consider increasing regularisation. Duality gap: 6.344e+04, tolerance: 1.383e+03\n",
            "  model = cd_fast.enet_coordinate_descent(\n"
          ]
        },
        {
          "output_type": "stream",
          "name": "stdout",
          "text": [
            "Alpha = 0.1, the mean squared error for degree 2 is 6571.797760511243\n",
            "Alpha = 0.1, the coefficient of determination for degree 2 is 0.953945048579936\n"
          ]
        },
        {
          "output_type": "stream",
          "name": "stderr",
          "text": [
            "/usr/local/lib/python3.8/dist-packages/sklearn/linear_model/_coordinate_descent.py:647: ConvergenceWarning: Objective did not converge. You might want to increase the number of iterations, check the scale of the features or consider increasing regularisation. Duality gap: 7.013e+04, tolerance: 1.383e+03\n",
            "  model = cd_fast.enet_coordinate_descent(\n"
          ]
        },
        {
          "output_type": "stream",
          "name": "stdout",
          "text": [
            "Alpha = 10, the mean squared error for degree 2 is 9308.152021632084\n",
            "Alpha = 10, the coefficient of determination for degree 2 is 0.9307118942107073\n"
          ]
        },
        {
          "output_type": "stream",
          "name": "stderr",
          "text": [
            "/usr/local/lib/python3.8/dist-packages/sklearn/linear_model/_coordinate_descent.py:647: ConvergenceWarning: Objective did not converge. You might want to increase the number of iterations, check the scale of the features or consider increasing regularisation. Duality gap: 7.732e+04, tolerance: 1.383e+03\n",
            "  model = cd_fast.enet_coordinate_descent(\n"
          ]
        },
        {
          "output_type": "stream",
          "name": "stdout",
          "text": [
            "Alpha = 100, the mean squared error for degree 2 is 11807.324163411371\n",
            "Alpha = 100, the coefficient of determination for degree 2 is 0.9072069656380112\n"
          ]
        },
        {
          "output_type": "stream",
          "name": "stderr",
          "text": [
            "/usr/local/lib/python3.8/dist-packages/sklearn/linear_model/_coordinate_descent.py:647: ConvergenceWarning: Objective did not converge. You might want to increase the number of iterations, check the scale of the features or consider increasing regularisation. Duality gap: 8.776e+04, tolerance: 1.383e+03\n",
            "  model = cd_fast.enet_coordinate_descent(\n"
          ]
        },
        {
          "output_type": "stream",
          "name": "stdout",
          "text": [
            "Alpha = 1000, the mean squared error for degree 2 is 16197.314946006074\n",
            "Alpha = 1000, the coefficient of determination for degree 2 is 0.862551635205875\n"
          ]
        },
        {
          "output_type": "stream",
          "name": "stderr",
          "text": [
            "/usr/local/lib/python3.8/dist-packages/sklearn/linear_model/_coordinate_descent.py:647: ConvergenceWarning: Objective did not converge. You might want to increase the number of iterations, check the scale of the features or consider increasing regularisation. Duality gap: 1.106e+05, tolerance: 1.383e+03\n",
            "  model = cd_fast.enet_coordinate_descent(\n"
          ]
        },
        {
          "output_type": "stream",
          "name": "stdout",
          "text": [
            "Alpha = 10000, the mean squared error for degree 2 is 20264.46503568989\n",
            "Alpha = 10000, the coefficient of determination for degree 2 is 0.8228216428430046\n"
          ]
        },
        {
          "output_type": "stream",
          "name": "stderr",
          "text": [
            "/usr/local/lib/python3.8/dist-packages/sklearn/linear_model/_coordinate_descent.py:647: ConvergenceWarning: Objective did not converge. You might want to increase the number of iterations, check the scale of the features or consider increasing regularisation. Duality gap: 1.277e+05, tolerance: 1.383e+03\n",
            "  model = cd_fast.enet_coordinate_descent(\n"
          ]
        },
        {
          "output_type": "stream",
          "name": "stdout",
          "text": [
            "Alpha = 100000, the mean squared error for degree 2 is 27906.731114455135\n",
            "Alpha = 100000, the coefficient of determination for degree 2 is 0.7353240187964993\n"
          ]
        },
        {
          "output_type": "stream",
          "name": "stderr",
          "text": [
            "/usr/local/lib/python3.8/dist-packages/sklearn/linear_model/_coordinate_descent.py:647: ConvergenceWarning: Objective did not converge. You might want to increase the number of iterations, check the scale of the features or consider increasing regularisation. Duality gap: 1.224e+04, tolerance: 1.383e+03\n",
            "  model = cd_fast.enet_coordinate_descent(\n"
          ]
        },
        {
          "output_type": "stream",
          "name": "stdout",
          "text": [
            "Alpha = 1000000, the mean squared error for degree 2 is 15952.0557663294\n",
            "Alpha = 1000000, the coefficient of determination for degree 2 is 0.8698240306778369\n",
            "Alpha = 1200000, the mean squared error for degree 2 is 14605.45059371524\n",
            "Alpha = 1200000, the coefficient of determination for degree 2 is 0.8849567261544803\n"
          ]
        },
        {
          "output_type": "stream",
          "name": "stderr",
          "text": [
            "/usr/local/lib/python3.8/dist-packages/sklearn/linear_model/_coordinate_descent.py:647: ConvergenceWarning: Objective did not converge. You might want to increase the number of iterations, check the scale of the features or consider increasing regularisation. Duality gap: 1.361e+04, tolerance: 1.383e+03\n",
            "  model = cd_fast.enet_coordinate_descent(\n"
          ]
        }
      ]
    },
    {
      "cell_type": "markdown",
      "metadata": {
        "id": "xxOSRtkkOxYb"
      },
      "source": [
        "[YOUR ANSWER HERE]\n",
        "1. Species is important, as the most impactful_coef is at x5, which is the one-hot encoding of species 1. \n",
        "2. Polynomial at order 2 has an appropriate fit since it has the lowest MSE (mean squared error) and the highest r2 score.\n",
        "3. Regularization prevents the model from overfitting. But if the alpha is too small or 0, it doesn't help the model prevent overfitting. If the alpha is too big, it will punish weights too much that the model would become underfitting. So an appropriate alpha for regularization is important.\n",
        "4. \n",
        "\n",
        "\n",
        "![cost_function.jpg](data:image/jpeg;base64,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)\n",
        "\n",
        "\n",
        "The cost function would be like this, with λ around 1000000 (sorry if the value of λ is far from the actual answer because I can't see the result of a degree larger than 2 or the session would crash). A degree of 2 seems to be the best model with the lowest MSE of 6438.278313609146 and the highest r2 of 0.9545815551856645."
      ]
    }
  ]
}